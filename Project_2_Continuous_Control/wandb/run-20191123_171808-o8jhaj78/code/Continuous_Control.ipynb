{
 "cells": [
  {
   "cell_type": "markdown",
   "metadata": {},
   "source": [
    "# Continuous Control\n",
    "\n",
    "---\n",
    "\n",
    "You are welcome to use this coding environment to train your agent for the project.  Follow the instructions below to get started!\n",
    "\n",
    "### 1. Start the Environment\n",
    "\n",
    "Run the next code cell to install a few packages.  This line will take a few minutes to run!"
   ]
  },
  {
   "cell_type": "code",
   "execution_count": 1,
   "metadata": {
    "scrolled": true
   },
   "outputs": [
    {
     "name": "stdout",
     "output_type": "stream",
     "text": [
      "Collecting wandb\n",
      "\u001b[?25l  Downloading https://files.pythonhosted.org/packages/66/a1/062119d91efd024cb844efd0e220b8ef15ceb014a83f07b341ecde4d5807/wandb-0.8.16-py2.py3-none-any.whl (1.3MB)\n",
      "\u001b[K    100% |████████████████████████████████| 1.3MB 17.0MB/s ta 0:00:01\n",
      "\u001b[?25hRequirement already satisfied: six>=1.10.0 in /opt/conda/lib/python3.6/site-packages (from wandb) (1.11.0)\n",
      "Collecting watchdog>=0.8.3 (from wandb)\n",
      "\u001b[?25l  Downloading https://files.pythonhosted.org/packages/bb/e3/5a55d48a29300160779f0a0d2776d17c1b762a2039b36de528b093b87d5b/watchdog-0.9.0.tar.gz (85kB)\n",
      "\u001b[K    100% |████████████████████████████████| 92kB 21.7MB/s ta 0:00:01\n",
      "\u001b[?25hCollecting GitPython>=1.0.0 (from wandb)\n",
      "\u001b[?25l  Downloading https://files.pythonhosted.org/packages/20/8c/4543981439d23c4ff65b2e62dddd767ebc84a8e664a9b67e840d1e2730d3/GitPython-3.0.5-py3-none-any.whl (455kB)\n",
      "\u001b[K    100% |████████████████████████████████| 460kB 25.2MB/s ta 0:00:01\n",
      "\u001b[?25hCollecting sentry-sdk>=0.4.0 (from wandb)\n",
      "\u001b[?25l  Downloading https://files.pythonhosted.org/packages/b6/d7/89536db7654f2636549a10d85a918feefd9aa2cac0929dd6796c8e945e78/sentry_sdk-0.13.2-py2.py3-none-any.whl (91kB)\n",
      "\u001b[K    100% |████████████████████████████████| 92kB 20.1MB/s ta 0:00:01\n",
      "\u001b[?25hCollecting subprocess32>=3.5.3 (from wandb)\n",
      "\u001b[?25l  Downloading https://files.pythonhosted.org/packages/32/c8/564be4d12629b912ea431f1a50eb8b3b9d00f1a0b1ceff17f266be190007/subprocess32-3.5.4.tar.gz (97kB)\n",
      "\u001b[K    100% |████████████████████████████████| 102kB 21.6MB/s a 0:00:01\n",
      "\u001b[?25hCollecting configparser>=3.8.1 (from wandb)\n",
      "  Downloading https://files.pythonhosted.org/packages/7a/2a/95ed0501cf5d8709490b1d3a3f9b5cf340da6c433f896bbe9ce08dbe6785/configparser-4.0.2-py2.py3-none-any.whl\n",
      "Collecting nvidia-ml-py3>=7.352.0 (from wandb)\n",
      "  Downloading https://files.pythonhosted.org/packages/6d/64/cce82bddb80c0b0f5c703bbdafa94bfb69a1c5ad7a79cff00b482468f0d3/nvidia-ml-py3-7.352.0.tar.gz\n",
      "Collecting docker-pycreds>=0.4.0 (from wandb)\n",
      "  Downloading https://files.pythonhosted.org/packages/f5/e8/f6bd1eee09314e7e6dee49cbe2c5e22314ccdb38db16c9fc72d2fa80d054/docker_pycreds-0.4.0-py2.py3-none-any.whl\n",
      "Collecting Click>=7.0 (from wandb)\n",
      "\u001b[?25l  Downloading https://files.pythonhosted.org/packages/fa/37/45185cb5abbc30d7257104c434fe0b07e5a195a6847506c074527aa599ec/Click-7.0-py2.py3-none-any.whl (81kB)\n",
      "\u001b[K    100% |████████████████████████████████| 81kB 22.6MB/s ta 0:00:01\n",
      "\u001b[?25hRequirement already satisfied: psutil>=5.0.0 in /opt/conda/lib/python3.6/site-packages (from wandb) (5.4.0)\n",
      "Collecting gql>=0.1.0 (from wandb)\n",
      "  Downloading https://files.pythonhosted.org/packages/aa/9c/2933b7791210e00f5c26a6243198cc03af9132c29cf85e4c22cb007f171e/gql-0.1.0.tar.gz\n",
      "Requirement already satisfied: python-dateutil>=2.6.1 in /opt/conda/lib/python3.6/site-packages (from wandb) (2.6.1)\n",
      "Requirement already satisfied: requests>=2.0.0 in /opt/conda/lib/python3.6/site-packages (from wandb) (2.18.4)\n",
      "Collecting shortuuid>=0.5.0 (from wandb)\n",
      "  Downloading https://files.pythonhosted.org/packages/80/d7/2bfc9332e68d3e15ea97b9b1588b3899ad565120253d3fd71c8f7f13b4fe/shortuuid-0.5.0.tar.gz\n",
      "Requirement already satisfied: PyYAML>=3.10 in /opt/conda/lib/python3.6/site-packages (from watchdog>=0.8.3->wandb) (3.12)\n",
      "Collecting argh>=0.24.1 (from watchdog>=0.8.3->wandb)\n",
      "  Downloading https://files.pythonhosted.org/packages/06/1c/e667a7126f0b84aaa1c56844337bf0ac12445d1beb9c8a6199a7314944bf/argh-0.26.2-py2.py3-none-any.whl\n",
      "Collecting pathtools>=0.1.1 (from watchdog>=0.8.3->wandb)\n",
      "  Downloading https://files.pythonhosted.org/packages/e7/7f/470d6fcdf23f9f3518f6b0b76be9df16dcc8630ad409947f8be2eb0ed13a/pathtools-0.1.2.tar.gz\n",
      "Collecting gitdb2>=2.0.0 (from GitPython>=1.0.0->wandb)\n",
      "\u001b[?25l  Downloading https://files.pythonhosted.org/packages/03/6c/99296f89bad2ef85626e1df9f677acbee8885bb043ad82ad3ed4746d2325/gitdb2-2.0.6-py2.py3-none-any.whl (63kB)\n",
      "\u001b[K    100% |████████████████████████████████| 71kB 18.7MB/s ta 0:00:01\n",
      "\u001b[?25hRequirement already satisfied: urllib3>=1.10.0 in /opt/conda/lib/python3.6/site-packages (from sentry-sdk>=0.4.0->wandb) (1.22)\n",
      "Requirement already satisfied: certifi in /opt/conda/lib/python3.6/site-packages (from sentry-sdk>=0.4.0->wandb) (2019.6.16)\n",
      "Collecting graphql-core>=0.5.0 (from gql>=0.1.0->wandb)\n",
      "\u001b[?25l  Downloading https://files.pythonhosted.org/packages/6a/11/bc4a7eb440124271289d93e4d208bd07d94196038fabbe2a52435a07d3d3/graphql_core-2.2.1-py2.py3-none-any.whl (250kB)\n",
      "\u001b[K    100% |████████████████████████████████| 256kB 20.5MB/s ta 0:00:01\n",
      "\u001b[?25hCollecting promise>=0.4.0 (from gql>=0.1.0->wandb)\n",
      "  Downloading https://files.pythonhosted.org/packages/5a/81/221d09d90176fd90aed4b530e31b8fedf207385767c06d1d46c550c5e418/promise-2.2.1.tar.gz\n",
      "Requirement already satisfied: chardet<3.1.0,>=3.0.2 in /opt/conda/lib/python3.6/site-packages (from requests>=2.0.0->wandb) (3.0.4)\n",
      "Requirement already satisfied: idna<2.7,>=2.5 in /opt/conda/lib/python3.6/site-packages (from requests>=2.0.0->wandb) (2.6)\n",
      "Collecting smmap2>=2.0.0 (from gitdb2>=2.0.0->GitPython>=1.0.0->wandb)\n",
      "  Downloading https://files.pythonhosted.org/packages/55/d2/866d45e3a121ee15a1dc013824d58072fd5c7799c9c34d01378eb262ca8f/smmap2-2.0.5-py2.py3-none-any.whl\n",
      "Collecting rx<3,>=1.6 (from graphql-core>=0.5.0->gql>=0.1.0->wandb)\n",
      "\u001b[?25l  Downloading https://files.pythonhosted.org/packages/33/0f/5ef4ac78e2a538cc1b054eb86285fe0bf7a5dbaeaac2c584757c300515e2/Rx-1.6.1-py2.py3-none-any.whl (179kB)\n",
      "\u001b[K    100% |████████████████████████████████| 184kB 29.8MB/s ta 0:00:01\n",
      "\u001b[?25hBuilding wheels for collected packages: watchdog, subprocess32, nvidia-ml-py3, gql, shortuuid, pathtools, promise\n",
      "  Running setup.py bdist_wheel for watchdog ... \u001b[?25ldone\n",
      "\u001b[?25h  Stored in directory: /root/.cache/pip/wheels/61/1d/d0/04cfe495619be2095eb8d89a31c42adb4e42b76495bc8f784c\n",
      "  Running setup.py bdist_wheel for subprocess32 ... \u001b[?25ldone\n",
      "\u001b[?25h  Stored in directory: /root/.cache/pip/wheels/68/39/1a/5e402bdfdf004af1786c8b853fd92f8c4a04f22aad179654d1\n",
      "  Running setup.py bdist_wheel for nvidia-ml-py3 ... \u001b[?25ldone\n",
      "\u001b[?25h  Stored in directory: /root/.cache/pip/wheels/e4/1d/06/640c93f5270d67d0247f30be91f232700d19023f9e66d735c7\n",
      "  Running setup.py bdist_wheel for gql ... \u001b[?25ldone\n",
      "\u001b[?25h  Stored in directory: /root/.cache/pip/wheels/a7/8d/65/a3247f500d675d80a01e4d2f0ee44fe99f1faef575bc2a1664\n",
      "  Running setup.py bdist_wheel for shortuuid ... \u001b[?25ldone\n",
      "\u001b[?25h  Stored in directory: /root/.cache/pip/wheels/3f/eb/fd/69e5177f67b505e44acbd1aedfbe44b91768ee0c4cd5636576\n",
      "  Running setup.py bdist_wheel for pathtools ... \u001b[?25ldone\n",
      "\u001b[?25h  Stored in directory: /root/.cache/pip/wheels/0b/04/79/c3b0c3a0266a3cb4376da31e5bfe8bba0c489246968a68e843\n",
      "  Running setup.py bdist_wheel for promise ... \u001b[?25ldone\n",
      "\u001b[?25h  Stored in directory: /root/.cache/pip/wheels/92/84/9f/75e2235effae0e1c5a5c0626a503e532bbffcb7e79e672b606\n",
      "Successfully built watchdog subprocess32 nvidia-ml-py3 gql shortuuid pathtools promise\n",
      "Installing collected packages: argh, pathtools, watchdog, smmap2, gitdb2, GitPython, sentry-sdk, subprocess32, configparser, nvidia-ml-py3, docker-pycreds, Click, promise, rx, graphql-core, gql, shortuuid, wandb\n",
      "  Found existing installation: click 6.7\n",
      "    Uninstalling click-6.7:\n",
      "      Successfully uninstalled click-6.7\n",
      "Successfully installed Click-7.0 GitPython-3.0.5 argh-0.26.2 configparser-4.0.2 docker-pycreds-0.4.0 gitdb2-2.0.6 gql-0.1.0 graphql-core-2.2.1 nvidia-ml-py3-7.352.0 pathtools-0.1.2 promise-2.2.1 rx-1.6.1 sentry-sdk-0.13.2 shortuuid-0.5.0 smmap2-2.0.5 subprocess32-3.5.4 wandb-0.8.16 watchdog-0.9.0\n",
      "\u001b[31mtensorflow 1.7.1 has requirement numpy>=1.13.3, but you'll have numpy 1.12.1 which is incompatible.\u001b[0m\n",
      "\u001b[31mipython 6.5.0 has requirement prompt-toolkit<2.0.0,>=1.0.15, but you'll have prompt-toolkit 2.0.10 which is incompatible.\u001b[0m\n"
     ]
    }
   ],
   "source": [
    "import sys\n",
    "%load_ext autoreload\n",
    "%autoreload 2\n",
    "%matplotlib inline\n",
    "!{sys.executable} -m pip install wandb\n",
    "!pip -q install ./python"
   ]
  },
  {
   "cell_type": "markdown",
   "metadata": {},
   "source": [
    "load packages"
   ]
  },
  {
   "cell_type": "code",
   "execution_count": null,
   "metadata": {},
   "outputs": [],
   "source": [
    "import os\n",
    "sys.path.append('files')\n",
    "\n",
    "import torch\n",
    "from datetime import datetime\n",
    "def get_time(): return datetime.now().strftime(\"%Y-%d-%d_%H-%M-%S\")\n",
    "from collections import deque\n",
    "import matplotlib.pyplot as plt"
   ]
  },
  {
   "cell_type": "markdown",
   "metadata": {},
   "source": [
    "The environments corresponding to both versions of the environment are already saved in the Workspace and can be accessed at the file paths provided below.  \n",
    "\n",
    "Please select one of the two options below for loading the environment."
   ]
  },
  {
   "cell_type": "code",
   "execution_count": null,
   "metadata": {},
   "outputs": [],
   "source": [
    "os.listdir('/data/Reacher_Linux_NoVis')"
   ]
  },
  {
   "cell_type": "code",
   "execution_count": null,
   "metadata": {},
   "outputs": [],
   "source": [
    "from unityagents import UnityEnvironment\n",
    "import numpy as np\n",
    "\n",
    "# select this option to load version 1 (with a single agent) of the environment\n",
    "#env = UnityEnvironment(file_name='/data/Reacher_One_Linux_NoVis/Reacher_One_Linux_NoVis.x86_64')\n",
    "\n",
    "#select this option to load version 2 (with 20 agents) of the environment\n",
    "env = UnityEnvironment(file_name='/data/Reacher_Linux_NoVis/Reacher.x86_64')"
   ]
  },
  {
   "cell_type": "markdown",
   "metadata": {},
   "source": [
    "Environments contain **_brains_** which are responsible for deciding the actions of their associated agents. Here we check for the first brain available, and set it as the default brain we will be controlling from Python."
   ]
  },
  {
   "cell_type": "code",
   "execution_count": null,
   "metadata": {},
   "outputs": [],
   "source": [
    "# get the default brain\n",
    "brain_name = env.brain_names[0]\n",
    "brain = env.brains[brain_name]"
   ]
  },
  {
   "cell_type": "markdown",
   "metadata": {},
   "source": [
    "### 2. Examine the State and Action Spaces\n",
    "\n",
    "Run the code cell below to print some information about the environment."
   ]
  },
  {
   "cell_type": "code",
   "execution_count": null,
   "metadata": {},
   "outputs": [],
   "source": [
    "# reset the environment\n",
    "env_info = env.reset(train_mode=True)[brain_name]\n",
    "\n",
    "# number of agents\n",
    "num_agents = len(env_info.agents)\n",
    "print('Number of agents:', num_agents)\n",
    "\n",
    "# size of each action\n",
    "action_size = brain.vector_action_space_size\n",
    "print('Size of each action:', action_size)\n",
    "\n",
    "# examine the state space \n",
    "states = env_info.vector_observations\n",
    "state_size = states.shape[1]\n",
    "print('There are {} agents. Each observes a state with length: {}'.format(states.shape[0], state_size))\n",
    "print('The state for the first agent looks like:', states[0])"
   ]
  },
  {
   "cell_type": "markdown",
   "metadata": {},
   "source": [
    "### 4. It's Your Turn!\n",
    "\n",
    "Now it's your turn to train your own agent to solve the environment!  A few **important notes**:\n",
    "- When training the environment, set `train_mode=True`, so that the line for resetting the environment looks like the following:\n",
    "```python\n",
    "env_info = env.reset(train_mode=True)[brain_name]\n",
    "```\n",
    "- To structure your work, you're welcome to work directly in this Jupyter notebook, or you might like to start over with a new file!  You can see the list of files in the workspace by clicking on **_Jupyter_** in the top left corner of the notebook.\n",
    "- In this coding environment, you will not be able to watch the agents while they are training.  However, **_after training the agents_**, you can download the saved model weights to watch the agents on your own machine! "
   ]
  },
  {
   "cell_type": "markdown",
   "metadata": {},
   "source": [
    "# PROJECT 2: CONTINUOUS CONTROL"
   ]
  },
  {
   "cell_type": "markdown",
   "metadata": {},
   "source": [
    "### login with wandb"
   ]
  },
  {
   "cell_type": "code",
   "execution_count": null,
   "metadata": {},
   "outputs": [],
   "source": [
    "os.popen('wandb login b4325006f2643dff095f0551d0248ae8fcc77064').read()\n",
    "import wandb"
   ]
  },
  {
   "cell_type": "markdown",
   "metadata": {},
   "source": [
    "# Actor\n",
    "\n",
    "![](images/nn_actor.svg)\n",
    "\n",
    "# Cretic\n",
    "\n",
    "\n",
    "![](images/nn_critic.svg)\n"
   ]
  },
  {
   "cell_type": "markdown",
   "metadata": {},
   "source": [
    "# hyper parameters\n",
    "\n",
    "\n",
    " - lr_actor : learning rate of the actor\n",
    " - lr_critic : learning rate of the critic \n",
    " - gamma : discount factor\n",
    " - weight_decay : L2 weight decay for the critic\n",
    " - tau : parameter for soft update of target parameters\n",
    " - learn_interval : learning interval \n",
    " - learn_num : Amount of batches which we would like to learn (one after the other)\n",
    " - batch_size : number of episodes which we would like to use to train\n",
    " - buffer_size : number of episodes from which we can can sample of\n"
   ]
  },
  {
   "cell_type": "code",
   "execution_count": null,
   "metadata": {},
   "outputs": [],
   "source": [
    "import json\n",
    "with open('hyper_parameters.json') as json_file:\n",
    "    hyper_parameters = json.load(json_file)\n",
    "\n",
    "# show the parameters\n",
    "hyper_parameters"
   ]
  },
  {
   "cell_type": "markdown",
   "metadata": {},
   "source": [
    "# Agent"
   ]
  },
  {
   "cell_type": "code",
   "execution_count": null,
   "metadata": {},
   "outputs": [],
   "source": [
    "from agent import Agent\n",
    "agent = Agent(state_size=state_size, action_size=action_size, num_agents = 20, **hyper_parameters)\n",
    "\n",
    "# Add the config to wandb    \n",
    "wandb.init(config=agent.__dict__,project=\"udacity_deep-reinforcement-learning_project-2\")\n",
    "wandb.watch(agent.actor_local)\n",
    "wandb.watch(agent.critic_local)"
   ]
  },
  {
   "cell_type": "markdown",
   "metadata": {},
   "source": [
    "# Train"
   ]
  },
  {
   "cell_type": "code",
   "execution_count": null,
   "metadata": {},
   "outputs": [],
   "source": [
    "def run_ddpg(n_episodes = 250, max_t=1000, print_every=100, save_every=100, checkpoint_name=f'checkpoint_{get_time()}'):\n",
    "    \n",
    "    scores_deque = deque(maxlen=print_every)\n",
    "    scores = []\n",
    "    \n",
    "    # for each episode\n",
    "    for i_episode in range(1, n_episodes+1):\n",
    "        \n",
    "        # start a new episode\n",
    "        environment_info = env.reset(train_mode=True)[brain_name]\n",
    "        states = environment_info.vector_observations\n",
    "        agent.reset()\n",
    "        score = np.zeros(num_agents)\n",
    "        \n",
    "        # for max t steps in the episde\n",
    "        for t in range(max_t):\n",
    "            \n",
    "            # get the actions from the agent, given a state\n",
    "            actions = agent.action(states)\n",
    "    \n",
    "            \n",
    "            # perform the action & receive the next state, reward and done\n",
    "            env_info = env.step(actions)[brain_name]           \n",
    "            next_states = env_info.vector_observations\n",
    "            rewards = env_info.rewards\n",
    "            dones = env_info.local_done\n",
    " \n",
    "            # learn if the critereia are met\n",
    "            agent.step(t, states, actions, rewards, next_states, dones)\n",
    "            \n",
    "            # prepare next state + save results\n",
    "            states = next_states      \n",
    "            score += rewards\n",
    "            \n",
    "            # if any of the agents is done, we stop :) \n",
    "            if np.any(dones):\n",
    "                break\n",
    "                \n",
    "        # store the scores | Log\n",
    "        mean_score = np.mean(score)\n",
    "        \n",
    "        # add to the queue\n",
    "        scores_deque.append(mean_score)\n",
    "        scores.append(mean_score)\n",
    "        \n",
    "        # show logs\n",
    "        avg_score = np.mean(scores_deque)\n",
    "        wandb.log({\"Average Score\": avg_score, \"Mean Score\": mean_score})\n",
    "        \n",
    "        print(f'\\rEpisode {i_episode}\\tAverage Score: {np.around(avg_score,3)}, score: {np.around(mean_score,3)}', end=\"\")\n",
    "        \n",
    "        \n",
    "   \n",
    "        if i_episode % save_every == 0:\n",
    "            agent.save_agent(f'{checkpoint_name}_{i_episode}')\n",
    "        \n",
    "\n",
    "        if i_episode % print_every == 0 or avg_score >= 30:\n",
    "            print(f'\\rEpisode {i_episode}\\tAverage Score: {np.around(avg_score,3)}, score: {np.around(mean_score,3)}')\n",
    "        \n",
    "        if avg_score >= 31.0:\n",
    "            print(f'\\r\\nEnvironment is solved Episode {i_episode}\\tAverage Score: {np.around(avg_score,3)}, score: {np.around(mean_score,3)}')\n",
    "            agent.save_agent(f'{checkpoint_name}_{i_episode}')\n",
    "            break\n",
    "            \n",
    "    return scores\n",
    "\n",
    "scores = run_ddpg()"
   ]
  },
  {
   "cell_type": "code",
   "execution_count": null,
   "metadata": {},
   "outputs": [],
   "source": [
    "fig = plt.figure(figsize=(20,16))\n",
    "ax = fig.add_subplot(111)\n",
    "plt.plot(np.arange(1, len(scores)+1), scores)\n",
    "plt.ylabel('Scores')\n",
    "plt.xlabel('Episode #')"
   ]
  },
  {
   "cell_type": "code",
   "execution_count": null,
   "metadata": {},
   "outputs": [],
   "source": []
  },
  {
   "cell_type": "code",
   "execution_count": null,
   "metadata": {},
   "outputs": [],
   "source": []
  },
  {
   "cell_type": "code",
   "execution_count": null,
   "metadata": {},
   "outputs": [],
   "source": []
  },
  {
   "cell_type": "code",
   "execution_count": null,
   "metadata": {},
   "outputs": [],
   "source": []
  },
  {
   "cell_type": "markdown",
   "metadata": {},
   "source": [
    "![title](images/algorithm.png)"
   ]
  }
 ],
 "metadata": {
  "kernelspec": {
   "display_name": "Python 3",
   "language": "python",
   "name": "python3"
  },
  "language_info": {
   "codemirror_mode": {
    "name": "ipython",
    "version": 3
   },
   "file_extension": ".py",
   "mimetype": "text/x-python",
   "name": "python",
   "nbconvert_exporter": "python",
   "pygments_lexer": "ipython3",
   "version": "3.6.3"
  }
 },
 "nbformat": 4,
 "nbformat_minor": 2
}

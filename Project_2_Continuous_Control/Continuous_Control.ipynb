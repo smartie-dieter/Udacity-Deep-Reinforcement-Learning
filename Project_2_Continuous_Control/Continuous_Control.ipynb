{
 "cells": [
  {
   "cell_type": "markdown",
   "metadata": {},
   "source": [
    "# Continuous Control\n",
    "\n",
    "---\n",
    "\n",
    "You are welcome to use this coding environment to train your agent for the project.  Follow the instructions below to get started!\n",
    "\n",
    "### 1. Start the Environment\n",
    "\n",
    "Run the next code cell to install a few packages.  This line will take a few minutes to run!"
   ]
  },
  {
   "cell_type": "code",
   "execution_count": 1,
   "metadata": {
    "scrolled": true
   },
   "outputs": [
    {
     "name": "stdout",
     "output_type": "stream",
     "text": [
      "Collecting wandb\n",
      "\u001b[?25l  Downloading https://files.pythonhosted.org/packages/66/a1/062119d91efd024cb844efd0e220b8ef15ceb014a83f07b341ecde4d5807/wandb-0.8.16-py2.py3-none-any.whl (1.3MB)\n",
      "\u001b[K    100% |████████████████████████████████| 1.3MB 15.5MB/s ta 0:00:01\n",
      "\u001b[?25hCollecting configparser>=3.8.1 (from wandb)\n",
      "  Downloading https://files.pythonhosted.org/packages/7a/2a/95ed0501cf5d8709490b1d3a3f9b5cf340da6c433f896bbe9ce08dbe6785/configparser-4.0.2-py2.py3-none-any.whl\n",
      "Requirement already satisfied: psutil>=5.0.0 in /opt/conda/lib/python3.6/site-packages (from wandb) (5.4.0)\n",
      "Collecting GitPython>=1.0.0 (from wandb)\n",
      "\u001b[?25l  Downloading https://files.pythonhosted.org/packages/20/8c/4543981439d23c4ff65b2e62dddd767ebc84a8e664a9b67e840d1e2730d3/GitPython-3.0.5-py3-none-any.whl (455kB)\n",
      "\u001b[K    100% |████████████████████████████████| 460kB 24.0MB/s ta 0:00:01\n",
      "\u001b[?25hRequirement already satisfied: six>=1.10.0 in /opt/conda/lib/python3.6/site-packages (from wandb) (1.11.0)\n",
      "Collecting sentry-sdk>=0.4.0 (from wandb)\n",
      "\u001b[?25l  Downloading https://files.pythonhosted.org/packages/b6/d7/89536db7654f2636549a10d85a918feefd9aa2cac0929dd6796c8e945e78/sentry_sdk-0.13.2-py2.py3-none-any.whl (91kB)\n",
      "\u001b[K    100% |████████████████████████████████| 92kB 26.3MB/s ta 0:00:01\n",
      "\u001b[?25hCollecting docker-pycreds>=0.4.0 (from wandb)\n",
      "  Downloading https://files.pythonhosted.org/packages/f5/e8/f6bd1eee09314e7e6dee49cbe2c5e22314ccdb38db16c9fc72d2fa80d054/docker_pycreds-0.4.0-py2.py3-none-any.whl\n",
      "Collecting Click>=7.0 (from wandb)\n",
      "\u001b[?25l  Downloading https://files.pythonhosted.org/packages/fa/37/45185cb5abbc30d7257104c434fe0b07e5a195a6847506c074527aa599ec/Click-7.0-py2.py3-none-any.whl (81kB)\n",
      "\u001b[K    100% |████████████████████████████████| 81kB 20.7MB/s ta 0:00:01\n",
      "\u001b[?25hCollecting nvidia-ml-py3>=7.352.0 (from wandb)\n",
      "  Downloading https://files.pythonhosted.org/packages/6d/64/cce82bddb80c0b0f5c703bbdafa94bfb69a1c5ad7a79cff00b482468f0d3/nvidia-ml-py3-7.352.0.tar.gz\n",
      "Collecting shortuuid>=0.5.0 (from wandb)\n",
      "  Downloading https://files.pythonhosted.org/packages/80/d7/2bfc9332e68d3e15ea97b9b1588b3899ad565120253d3fd71c8f7f13b4fe/shortuuid-0.5.0.tar.gz\n",
      "Requirement already satisfied: requests>=2.0.0 in /opt/conda/lib/python3.6/site-packages (from wandb) (2.18.4)\n",
      "Collecting gql>=0.1.0 (from wandb)\n",
      "  Downloading https://files.pythonhosted.org/packages/aa/9c/2933b7791210e00f5c26a6243198cc03af9132c29cf85e4c22cb007f171e/gql-0.1.0.tar.gz\n",
      "Collecting watchdog>=0.8.3 (from wandb)\n",
      "\u001b[?25l  Downloading https://files.pythonhosted.org/packages/bb/e3/5a55d48a29300160779f0a0d2776d17c1b762a2039b36de528b093b87d5b/watchdog-0.9.0.tar.gz (85kB)\n",
      "\u001b[K    100% |████████████████████████████████| 92kB 19.5MB/s ta 0:00:01\n",
      "\u001b[?25hRequirement already satisfied: python-dateutil>=2.6.1 in /opt/conda/lib/python3.6/site-packages (from wandb) (2.6.1)\n",
      "Collecting subprocess32>=3.5.3 (from wandb)\n",
      "\u001b[?25l  Downloading https://files.pythonhosted.org/packages/32/c8/564be4d12629b912ea431f1a50eb8b3b9d00f1a0b1ceff17f266be190007/subprocess32-3.5.4.tar.gz (97kB)\n",
      "\u001b[K    100% |████████████████████████████████| 102kB 24.9MB/s a 0:00:01\n",
      "\u001b[?25hCollecting gitdb2>=2.0.0 (from GitPython>=1.0.0->wandb)\n",
      "\u001b[?25l  Downloading https://files.pythonhosted.org/packages/03/6c/99296f89bad2ef85626e1df9f677acbee8885bb043ad82ad3ed4746d2325/gitdb2-2.0.6-py2.py3-none-any.whl (63kB)\n",
      "\u001b[K    100% |████████████████████████████████| 71kB 20.7MB/s ta 0:00:01\n",
      "\u001b[?25hRequirement already satisfied: urllib3>=1.10.0 in /opt/conda/lib/python3.6/site-packages (from sentry-sdk>=0.4.0->wandb) (1.22)\n",
      "Requirement already satisfied: certifi in /opt/conda/lib/python3.6/site-packages (from sentry-sdk>=0.4.0->wandb) (2019.6.16)\n",
      "Requirement already satisfied: chardet<3.1.0,>=3.0.2 in /opt/conda/lib/python3.6/site-packages (from requests>=2.0.0->wandb) (3.0.4)\n",
      "Requirement already satisfied: idna<2.7,>=2.5 in /opt/conda/lib/python3.6/site-packages (from requests>=2.0.0->wandb) (2.6)\n",
      "Collecting graphql-core>=0.5.0 (from gql>=0.1.0->wandb)\n",
      "\u001b[?25l  Downloading https://files.pythonhosted.org/packages/6a/11/bc4a7eb440124271289d93e4d208bd07d94196038fabbe2a52435a07d3d3/graphql_core-2.2.1-py2.py3-none-any.whl (250kB)\n",
      "\u001b[K    100% |████████████████████████████████| 256kB 22.4MB/s ta 0:00:01\n",
      "\u001b[?25hCollecting promise>=0.4.0 (from gql>=0.1.0->wandb)\n",
      "  Downloading https://files.pythonhosted.org/packages/5a/81/221d09d90176fd90aed4b530e31b8fedf207385767c06d1d46c550c5e418/promise-2.2.1.tar.gz\n",
      "Requirement already satisfied: PyYAML>=3.10 in /opt/conda/lib/python3.6/site-packages (from watchdog>=0.8.3->wandb) (3.12)\n",
      "Collecting argh>=0.24.1 (from watchdog>=0.8.3->wandb)\n",
      "  Downloading https://files.pythonhosted.org/packages/06/1c/e667a7126f0b84aaa1c56844337bf0ac12445d1beb9c8a6199a7314944bf/argh-0.26.2-py2.py3-none-any.whl\n",
      "Collecting pathtools>=0.1.1 (from watchdog>=0.8.3->wandb)\n",
      "  Downloading https://files.pythonhosted.org/packages/e7/7f/470d6fcdf23f9f3518f6b0b76be9df16dcc8630ad409947f8be2eb0ed13a/pathtools-0.1.2.tar.gz\n",
      "Collecting smmap2>=2.0.0 (from gitdb2>=2.0.0->GitPython>=1.0.0->wandb)\n",
      "  Downloading https://files.pythonhosted.org/packages/55/d2/866d45e3a121ee15a1dc013824d58072fd5c7799c9c34d01378eb262ca8f/smmap2-2.0.5-py2.py3-none-any.whl\n",
      "Collecting rx<3,>=1.6 (from graphql-core>=0.5.0->gql>=0.1.0->wandb)\n",
      "\u001b[?25l  Downloading https://files.pythonhosted.org/packages/33/0f/5ef4ac78e2a538cc1b054eb86285fe0bf7a5dbaeaac2c584757c300515e2/Rx-1.6.1-py2.py3-none-any.whl (179kB)\n",
      "\u001b[K    100% |████████████████████████████████| 184kB 21.1MB/s ta 0:00:01\n",
      "\u001b[?25hBuilding wheels for collected packages: nvidia-ml-py3, shortuuid, gql, watchdog, subprocess32, promise, pathtools\n",
      "  Running setup.py bdist_wheel for nvidia-ml-py3 ... \u001b[?25ldone\n",
      "\u001b[?25h  Stored in directory: /root/.cache/pip/wheels/e4/1d/06/640c93f5270d67d0247f30be91f232700d19023f9e66d735c7\n",
      "  Running setup.py bdist_wheel for shortuuid ... \u001b[?25ldone\n",
      "\u001b[?25h  Stored in directory: /root/.cache/pip/wheels/3f/eb/fd/69e5177f67b505e44acbd1aedfbe44b91768ee0c4cd5636576\n",
      "  Running setup.py bdist_wheel for gql ... \u001b[?25ldone\n",
      "\u001b[?25h  Stored in directory: /root/.cache/pip/wheels/a7/8d/65/a3247f500d675d80a01e4d2f0ee44fe99f1faef575bc2a1664\n",
      "  Running setup.py bdist_wheel for watchdog ... \u001b[?25ldone\n",
      "\u001b[?25h  Stored in directory: /root/.cache/pip/wheels/61/1d/d0/04cfe495619be2095eb8d89a31c42adb4e42b76495bc8f784c\n",
      "  Running setup.py bdist_wheel for subprocess32 ... \u001b[?25ldone\n",
      "\u001b[?25h  Stored in directory: /root/.cache/pip/wheels/68/39/1a/5e402bdfdf004af1786c8b853fd92f8c4a04f22aad179654d1\n",
      "  Running setup.py bdist_wheel for promise ... \u001b[?25ldone\n",
      "\u001b[?25h  Stored in directory: /root/.cache/pip/wheels/92/84/9f/75e2235effae0e1c5a5c0626a503e532bbffcb7e79e672b606\n",
      "  Running setup.py bdist_wheel for pathtools ... \u001b[?25ldone\n",
      "\u001b[?25h  Stored in directory: /root/.cache/pip/wheels/0b/04/79/c3b0c3a0266a3cb4376da31e5bfe8bba0c489246968a68e843\n",
      "Successfully built nvidia-ml-py3 shortuuid gql watchdog subprocess32 promise pathtools\n",
      "Installing collected packages: configparser, smmap2, gitdb2, GitPython, sentry-sdk, docker-pycreds, Click, nvidia-ml-py3, shortuuid, promise, rx, graphql-core, gql, argh, pathtools, watchdog, subprocess32, wandb\n",
      "  Found existing installation: click 6.7\n",
      "    Uninstalling click-6.7:\n",
      "      Successfully uninstalled click-6.7\n",
      "Successfully installed Click-7.0 GitPython-3.0.5 argh-0.26.2 configparser-4.0.2 docker-pycreds-0.4.0 gitdb2-2.0.6 gql-0.1.0 graphql-core-2.2.1 nvidia-ml-py3-7.352.0 pathtools-0.1.2 promise-2.2.1 rx-1.6.1 sentry-sdk-0.13.2 shortuuid-0.5.0 smmap2-2.0.5 subprocess32-3.5.4 wandb-0.8.16 watchdog-0.9.0\n",
      "\u001b[31mtensorflow 1.7.1 has requirement numpy>=1.13.3, but you'll have numpy 1.12.1 which is incompatible.\u001b[0m\n",
      "\u001b[31mipython 6.5.0 has requirement prompt-toolkit<2.0.0,>=1.0.15, but you'll have prompt-toolkit 2.0.10 which is incompatible.\u001b[0m\n"
     ]
    }
   ],
   "source": [
    "import sys\n",
    "%load_ext autoreload\n",
    "%autoreload 2\n",
    "%matplotlib inline\n",
    "!{sys.executable} -m pip install wandb\n",
    "!pip -q install ./python"
   ]
  },
  {
   "cell_type": "markdown",
   "metadata": {},
   "source": [
    "load packages"
   ]
  },
  {
   "cell_type": "code",
   "execution_count": 2,
   "metadata": {
    "scrolled": true
   },
   "outputs": [
    {
     "name": "stderr",
     "output_type": "stream",
     "text": [
      "[autoreload of prompt_toolkit failed: Traceback (most recent call last):\n",
      "  File \"/opt/conda/lib/python3.6/site-packages/IPython/extensions/autoreload.py\", line 245, in check\n",
      "    superreload(m, reload, self.old_objects)\n",
      "  File \"/opt/conda/lib/python3.6/site-packages/IPython/extensions/autoreload.py\", line 368, in superreload\n",
      "    module = reload(module)\n",
      "  File \"/opt/conda/lib/python3.6/imp.py\", line 315, in reload\n",
      "    return importlib.reload(module)\n",
      "  File \"/opt/conda/lib/python3.6/importlib/__init__.py\", line 166, in reload\n",
      "    _bootstrap._exec(spec, module)\n",
      "  File \"<frozen importlib._bootstrap>\", line 618, in _exec\n",
      "  File \"<frozen importlib._bootstrap_external>\", line 678, in exec_module\n",
      "  File \"<frozen importlib._bootstrap>\", line 219, in _call_with_frames_removed\n",
      "  File \"/opt/conda/lib/python3.6/site-packages/prompt_toolkit/__init__.py\", line 19, in <module>\n",
      "    from .formatted_text import ANSI, HTML\n",
      "  File \"/opt/conda/lib/python3.6/site-packages/prompt_toolkit/formatted_text/__init__.py\", line 15, in <module>\n",
      "    from .ansi import ANSI\n",
      "  File \"/opt/conda/lib/python3.6/site-packages/prompt_toolkit/formatted_text/ansi.py\", line 3, in <module>\n",
      "    from prompt_toolkit.output.vt100 import BG_ANSI_COLORS, FG_ANSI_COLORS\n",
      "ModuleNotFoundError: No module named 'prompt_toolkit.output.vt100'; 'prompt_toolkit.output' is not a package\n",
      "]\n",
      "[autoreload of prompt_toolkit.buffer failed: Traceback (most recent call last):\n",
      "  File \"/opt/conda/lib/python3.6/site-packages/IPython/extensions/autoreload.py\", line 245, in check\n",
      "    superreload(m, reload, self.old_objects)\n",
      "  File \"/opt/conda/lib/python3.6/site-packages/IPython/extensions/autoreload.py\", line 368, in superreload\n",
      "    module = reload(module)\n",
      "  File \"/opt/conda/lib/python3.6/imp.py\", line 315, in reload\n",
      "    return importlib.reload(module)\n",
      "  File \"/opt/conda/lib/python3.6/importlib/__init__.py\", line 166, in reload\n",
      "    _bootstrap._exec(spec, module)\n",
      "  File \"<frozen importlib._bootstrap>\", line 618, in _exec\n",
      "  File \"<frozen importlib._bootstrap_external>\", line 678, in exec_module\n",
      "  File \"<frozen importlib._bootstrap>\", line 219, in _call_with_frames_removed\n",
      "  File \"/opt/conda/lib/python3.6/site-packages/prompt_toolkit/buffer.py\", line 17, in <module>\n",
      "    from .application.current import get_app\n",
      "ModuleNotFoundError: No module named 'prompt_toolkit.application.current'; 'prompt_toolkit.application' is not a package\n",
      "]\n",
      "[autoreload of prompt_toolkit.auto_suggest failed: Traceback (most recent call last):\n",
      "  File \"/opt/conda/lib/python3.6/site-packages/IPython/extensions/autoreload.py\", line 245, in check\n",
      "    superreload(m, reload, self.old_objects)\n",
      "  File \"/opt/conda/lib/python3.6/site-packages/IPython/extensions/autoreload.py\", line 368, in superreload\n",
      "    module = reload(module)\n",
      "  File \"/opt/conda/lib/python3.6/imp.py\", line 315, in reload\n",
      "    return importlib.reload(module)\n",
      "  File \"/opt/conda/lib/python3.6/importlib/__init__.py\", line 166, in reload\n",
      "    _bootstrap._exec(spec, module)\n",
      "  File \"<frozen importlib._bootstrap>\", line 618, in _exec\n",
      "  File \"<frozen importlib._bootstrap_external>\", line 678, in exec_module\n",
      "  File \"<frozen importlib._bootstrap>\", line 219, in _call_with_frames_removed\n",
      "  File \"/opt/conda/lib/python3.6/site-packages/prompt_toolkit/auto_suggest.py\", line 20, in <module>\n",
      "    from .eventloop import Future, run_in_executor\n",
      "ImportError: cannot import name 'Future'\n",
      "]\n",
      "[autoreload of prompt_toolkit.filters failed: Traceback (most recent call last):\n",
      "  File \"/opt/conda/lib/python3.6/site-packages/IPython/extensions/autoreload.py\", line 245, in check\n",
      "    superreload(m, reload, self.old_objects)\n",
      "  File \"/opt/conda/lib/python3.6/site-packages/IPython/extensions/autoreload.py\", line 368, in superreload\n",
      "    module = reload(module)\n",
      "  File \"/opt/conda/lib/python3.6/imp.py\", line 315, in reload\n",
      "    return importlib.reload(module)\n",
      "  File \"/opt/conda/lib/python3.6/importlib/__init__.py\", line 166, in reload\n",
      "    _bootstrap._exec(spec, module)\n",
      "  File \"<frozen importlib._bootstrap>\", line 618, in _exec\n",
      "  File \"<frozen importlib._bootstrap_external>\", line 678, in exec_module\n",
      "  File \"<frozen importlib._bootstrap>\", line 219, in _call_with_frames_removed\n",
      "  File \"/opt/conda/lib/python3.6/site-packages/prompt_toolkit/filters/__init__.py\", line 21, in <module>\n",
      "    from .app import *\n",
      "  File \"/opt/conda/lib/python3.6/site-packages/prompt_toolkit/filters/app.py\", line 8, in <module>\n",
      "    from prompt_toolkit.application.current import get_app\n",
      "ModuleNotFoundError: No module named 'prompt_toolkit.application.current'; 'prompt_toolkit.application' is not a package\n",
      "]\n",
      "[autoreload of prompt_toolkit.filters.cli failed: Traceback (most recent call last):\n",
      "  File \"/opt/conda/lib/python3.6/site-packages/IPython/extensions/autoreload.py\", line 245, in check\n",
      "    superreload(m, reload, self.old_objects)\n",
      "  File \"/opt/conda/lib/python3.6/site-packages/IPython/extensions/autoreload.py\", line 368, in superreload\n",
      "    module = reload(module)\n",
      "  File \"/opt/conda/lib/python3.6/imp.py\", line 315, in reload\n",
      "    return importlib.reload(module)\n",
      "  File \"/opt/conda/lib/python3.6/importlib/__init__.py\", line 166, in reload\n",
      "    _bootstrap._exec(spec, module)\n",
      "  File \"<frozen importlib._bootstrap>\", line 618, in _exec\n",
      "  File \"<frozen importlib._bootstrap_external>\", line 678, in exec_module\n",
      "  File \"<frozen importlib._bootstrap>\", line 219, in _call_with_frames_removed\n",
      "  File \"/opt/conda/lib/python3.6/site-packages/prompt_toolkit/filters/cli.py\", line 7, in <module>\n",
      "    from .app import *\n",
      "  File \"/opt/conda/lib/python3.6/site-packages/prompt_toolkit/filters/app.py\", line 8, in <module>\n",
      "    from prompt_toolkit.application.current import get_app\n",
      "ModuleNotFoundError: No module named 'prompt_toolkit.application.current'; 'prompt_toolkit.application' is not a package\n",
      "]\n",
      "[autoreload of prompt_toolkit.key_binding failed: Traceback (most recent call last):\n",
      "  File \"/opt/conda/lib/python3.6/site-packages/IPython/extensions/autoreload.py\", line 245, in check\n",
      "    superreload(m, reload, self.old_objects)\n",
      "  File \"/opt/conda/lib/python3.6/site-packages/IPython/extensions/autoreload.py\", line 368, in superreload\n",
      "    module = reload(module)\n",
      "  File \"/opt/conda/lib/python3.6/imp.py\", line 315, in reload\n",
      "    return importlib.reload(module)\n",
      "  File \"/opt/conda/lib/python3.6/importlib/__init__.py\", line 166, in reload\n",
      "    _bootstrap._exec(spec, module)\n",
      "  File \"<frozen importlib._bootstrap>\", line 618, in _exec\n",
      "  File \"<frozen importlib._bootstrap_external>\", line 678, in exec_module\n",
      "  File \"<frozen importlib._bootstrap>\", line 219, in _call_with_frames_removed\n",
      "  File \"/opt/conda/lib/python3.6/site-packages/prompt_toolkit/key_binding/__init__.py\", line 3, in <module>\n",
      "    from .key_bindings import (\n",
      "  File \"/opt/conda/lib/python3.6/site-packages/prompt_toolkit/key_binding/key_bindings.py\", line 44, in <module>\n",
      "    from prompt_toolkit.filters import Never, to_filter\n",
      "ImportError: cannot import name 'to_filter'\n",
      "]\n",
      "[autoreload of prompt_toolkit.clipboard failed: Traceback (most recent call last):\n",
      "  File \"/opt/conda/lib/python3.6/site-packages/IPython/extensions/autoreload.py\", line 245, in check\n",
      "    superreload(m, reload, self.old_objects)\n",
      "  File \"/opt/conda/lib/python3.6/site-packages/IPython/extensions/autoreload.py\", line 368, in superreload\n",
      "    module = reload(module)\n",
      "  File \"/opt/conda/lib/python3.6/imp.py\", line 315, in reload\n",
      "    return importlib.reload(module)\n",
      "  File \"/opt/conda/lib/python3.6/importlib/__init__.py\", line 166, in reload\n",
      "    _bootstrap._exec(spec, module)\n",
      "  File \"<frozen importlib._bootstrap>\", line 618, in _exec\n",
      "  File \"<frozen importlib._bootstrap_external>\", line 678, in exec_module\n",
      "  File \"<frozen importlib._bootstrap>\", line 219, in _call_with_frames_removed\n",
      "  File \"/opt/conda/lib/python3.6/site-packages/prompt_toolkit/clipboard/__init__.py\", line 3, in <module>\n",
      "    from .base import Clipboard, ClipboardData, DummyClipboard, DynamicClipboard\n",
      "ImportError: cannot import name 'DummyClipboard'\n",
      "]\n",
      "[autoreload of prompt_toolkit.document failed: Traceback (most recent call last):\n",
      "  File \"/opt/conda/lib/python3.6/site-packages/IPython/extensions/autoreload.py\", line 245, in check\n",
      "    superreload(m, reload, self.old_objects)\n",
      "  File \"/opt/conda/lib/python3.6/site-packages/IPython/extensions/autoreload.py\", line 368, in superreload\n",
      "    module = reload(module)\n",
      "  File \"/opt/conda/lib/python3.6/imp.py\", line 315, in reload\n",
      "    return importlib.reload(module)\n",
      "  File \"/opt/conda/lib/python3.6/importlib/__init__.py\", line 166, in reload\n",
      "    _bootstrap._exec(spec, module)\n",
      "  File \"<frozen importlib._bootstrap>\", line 618, in _exec\n",
      "  File \"<frozen importlib._bootstrap_external>\", line 678, in exec_module\n",
      "  File \"<frozen importlib._bootstrap>\", line 219, in _call_with_frames_removed\n",
      "  File \"/opt/conda/lib/python3.6/site-packages/prompt_toolkit/document.py\", line 15, in <module>\n",
      "    from .filters import vi_mode\n",
      "ImportError: cannot import name 'vi_mode'\n",
      "]\n",
      "[autoreload of prompt_toolkit.history failed: Traceback (most recent call last):\n",
      "  File \"/opt/conda/lib/python3.6/site-packages/IPython/extensions/autoreload.py\", line 245, in check\n",
      "    superreload(m, reload, self.old_objects)\n",
      "  File \"/opt/conda/lib/python3.6/site-packages/IPython/extensions/autoreload.py\", line 368, in superreload\n",
      "    module = reload(module)\n",
      "  File \"/opt/conda/lib/python3.6/imp.py\", line 315, in reload\n",
      "    return importlib.reload(module)\n",
      "  File \"/opt/conda/lib/python3.6/importlib/__init__.py\", line 166, in reload\n",
      "    _bootstrap._exec(spec, module)\n",
      "  File \"<frozen importlib._bootstrap>\", line 618, in _exec\n",
      "  File \"<frozen importlib._bootstrap_external>\", line 678, in exec_module\n",
      "  File \"<frozen importlib._bootstrap>\", line 219, in _call_with_frames_removed\n",
      "  File \"/opt/conda/lib/python3.6/site-packages/prompt_toolkit/history.py\", line 17, in <module>\n",
      "    from .eventloop import (\n",
      "ImportError: cannot import name 'AsyncGeneratorItem'\n",
      "]\n",
      "[autoreload of prompt_toolkit.validation failed: Traceback (most recent call last):\n",
      "  File \"/opt/conda/lib/python3.6/site-packages/IPython/extensions/autoreload.py\", line 245, in check\n",
      "    superreload(m, reload, self.old_objects)\n",
      "  File \"/opt/conda/lib/python3.6/site-packages/IPython/extensions/autoreload.py\", line 368, in superreload\n",
      "    module = reload(module)\n",
      "  File \"/opt/conda/lib/python3.6/imp.py\", line 315, in reload\n",
      "    return importlib.reload(module)\n",
      "  File \"/opt/conda/lib/python3.6/importlib/__init__.py\", line 166, in reload\n",
      "    _bootstrap._exec(spec, module)\n",
      "  File \"<frozen importlib._bootstrap>\", line 618, in _exec\n",
      "  File \"<frozen importlib._bootstrap_external>\", line 678, in exec_module\n",
      "  File \"<frozen importlib._bootstrap>\", line 219, in _call_with_frames_removed\n",
      "  File \"/opt/conda/lib/python3.6/site-packages/prompt_toolkit/validation.py\", line 11, in <module>\n",
      "    from .eventloop import Future, run_in_executor\n",
      "ImportError: cannot import name 'Future'\n",
      "]\n",
      "[autoreload of prompt_toolkit.key_binding.bindings.basic failed: Traceback (most recent call last):\n",
      "  File \"/opt/conda/lib/python3.6/site-packages/IPython/extensions/autoreload.py\", line 245, in check\n",
      "    superreload(m, reload, self.old_objects)\n",
      "  File \"/opt/conda/lib/python3.6/site-packages/IPython/extensions/autoreload.py\", line 368, in superreload\n",
      "    module = reload(module)\n",
      "  File \"/opt/conda/lib/python3.6/imp.py\", line 315, in reload\n",
      "    return importlib.reload(module)\n",
      "  File \"/opt/conda/lib/python3.6/importlib/__init__.py\", line 166, in reload\n",
      "    _bootstrap._exec(spec, module)\n",
      "  File \"<frozen importlib._bootstrap>\", line 618, in _exec\n",
      "  File \"<frozen importlib._bootstrap_external>\", line 678, in exec_module\n",
      "  File \"<frozen importlib._bootstrap>\", line 219, in _call_with_frames_removed\n",
      "  File \"/opt/conda/lib/python3.6/site-packages/prompt_toolkit/key_binding/bindings/basic.py\", line 4, in <module>\n",
      "    from prompt_toolkit.application.current import get_app\n",
      "ModuleNotFoundError: No module named 'prompt_toolkit.application.current'; 'prompt_toolkit.application' is not a package\n",
      "]\n",
      "[autoreload of prompt_toolkit.layout failed: Traceback (most recent call last):\n",
      "  File \"/opt/conda/lib/python3.6/site-packages/IPython/extensions/autoreload.py\", line 245, in check\n",
      "    superreload(m, reload, self.old_objects)\n",
      "  File \"/opt/conda/lib/python3.6/site-packages/IPython/extensions/autoreload.py\", line 368, in superreload\n",
      "    module = reload(module)\n",
      "  File \"/opt/conda/lib/python3.6/imp.py\", line 315, in reload\n",
      "    return importlib.reload(module)\n",
      "  File \"/opt/conda/lib/python3.6/importlib/__init__.py\", line 166, in reload\n",
      "    _bootstrap._exec(spec, module)\n",
      "  File \"<frozen importlib._bootstrap>\", line 618, in _exec\n",
      "  File \"<frozen importlib._bootstrap_external>\", line 678, in exec_module\n",
      "  File \"<frozen importlib._bootstrap>\", line 219, in _call_with_frames_removed\n",
      "  File \"/opt/conda/lib/python3.6/site-packages/prompt_toolkit/layout/__init__.py\", line 49, in <module>\n",
      "    from .containers import (\n",
      "ImportError: cannot import name 'DynamicContainer'\n",
      "]\n",
      "[autoreload of prompt_toolkit.layout.containers failed: Traceback (most recent call last):\n",
      "  File \"/opt/conda/lib/python3.6/site-packages/IPython/extensions/autoreload.py\", line 245, in check\n",
      "    superreload(m, reload, self.old_objects)\n",
      "  File \"/opt/conda/lib/python3.6/site-packages/IPython/extensions/autoreload.py\", line 368, in superreload\n",
      "    module = reload(module)\n",
      "  File \"/opt/conda/lib/python3.6/imp.py\", line 315, in reload\n",
      "    return importlib.reload(module)\n",
      "  File \"/opt/conda/lib/python3.6/importlib/__init__.py\", line 166, in reload\n",
      "    _bootstrap._exec(spec, module)\n",
      "  File \"<frozen importlib._bootstrap>\", line 618, in _exec\n",
      "  File \"<frozen importlib._bootstrap_external>\", line 678, in exec_module\n",
      "  File \"<frozen importlib._bootstrap>\", line 219, in _call_with_frames_removed\n",
      "  File \"/opt/conda/lib/python3.6/site-packages/prompt_toolkit/layout/containers.py\", line 13, in <module>\n",
      "    from prompt_toolkit.application.current import get_app\n",
      "ModuleNotFoundError: No module named 'prompt_toolkit.application.current'; 'prompt_toolkit.application' is not a package\n",
      "]\n",
      "[autoreload of prompt_toolkit.layout.controls failed: Traceback (most recent call last):\n",
      "  File \"/opt/conda/lib/python3.6/site-packages/IPython/extensions/autoreload.py\", line 245, in check\n",
      "    superreload(m, reload, self.old_objects)\n",
      "  File \"/opt/conda/lib/python3.6/site-packages/IPython/extensions/autoreload.py\", line 368, in superreload\n",
      "    module = reload(module)\n",
      "  File \"/opt/conda/lib/python3.6/imp.py\", line 315, in reload\n",
      "    return importlib.reload(module)\n",
      "  File \"/opt/conda/lib/python3.6/importlib/__init__.py\", line 166, in reload\n",
      "    _bootstrap._exec(spec, module)\n",
      "  File \"<frozen importlib._bootstrap>\", line 618, in _exec\n",
      "  File \"<frozen importlib._bootstrap_external>\", line 678, in exec_module\n",
      "  File \"<frozen importlib._bootstrap>\", line 219, in _call_with_frames_removed\n",
      "  File \"/opt/conda/lib/python3.6/site-packages/prompt_toolkit/layout/controls.py\", line 14, in <module>\n",
      "    from prompt_toolkit.application.current import get_app\n",
      "ModuleNotFoundError: No module named 'prompt_toolkit.application.current'; 'prompt_toolkit.application' is not a package\n",
      "]\n",
      "[autoreload of prompt_toolkit.layout.processors failed: Traceback (most recent call last):\n",
      "  File \"/opt/conda/lib/python3.6/site-packages/IPython/extensions/autoreload.py\", line 245, in check\n",
      "    superreload(m, reload, self.old_objects)\n",
      "  File \"/opt/conda/lib/python3.6/site-packages/IPython/extensions/autoreload.py\", line 368, in superreload\n",
      "    module = reload(module)\n",
      "  File \"/opt/conda/lib/python3.6/imp.py\", line 315, in reload\n",
      "    return importlib.reload(module)\n",
      "  File \"/opt/conda/lib/python3.6/importlib/__init__.py\", line 166, in reload\n",
      "    _bootstrap._exec(spec, module)\n",
      "  File \"<frozen importlib._bootstrap>\", line 618, in _exec\n",
      "  File \"<frozen importlib._bootstrap_external>\", line 678, in exec_module\n",
      "  File \"<frozen importlib._bootstrap>\", line 219, in _call_with_frames_removed\n",
      "  File \"/opt/conda/lib/python3.6/site-packages/prompt_toolkit/layout/processors.py\", line 16, in <module>\n",
      "    from prompt_toolkit.application.current import get_app\n",
      "ModuleNotFoundError: No module named 'prompt_toolkit.application.current'; 'prompt_toolkit.application' is not a package\n",
      "]\n",
      "[autoreload of prompt_toolkit.layout.margins failed: Traceback (most recent call last):\n",
      "  File \"/opt/conda/lib/python3.6/site-packages/IPython/extensions/autoreload.py\", line 245, in check\n",
      "    superreload(m, reload, self.old_objects)\n",
      "  File \"/opt/conda/lib/python3.6/site-packages/IPython/extensions/autoreload.py\", line 368, in superreload\n",
      "    module = reload(module)\n",
      "  File \"/opt/conda/lib/python3.6/imp.py\", line 315, in reload\n",
      "    return importlib.reload(module)\n",
      "  File \"/opt/conda/lib/python3.6/importlib/__init__.py\", line 166, in reload\n",
      "    _bootstrap._exec(spec, module)\n",
      "  File \"<frozen importlib._bootstrap>\", line 618, in _exec\n",
      "  File \"<frozen importlib._bootstrap_external>\", line 678, in exec_module\n",
      "  File \"<frozen importlib._bootstrap>\", line 219, in _call_with_frames_removed\n",
      "  File \"/opt/conda/lib/python3.6/site-packages/prompt_toolkit/layout/margins.py\", line 11, in <module>\n",
      "    from prompt_toolkit.filters import to_filter\n",
      "ImportError: cannot import name 'to_filter'\n",
      "]\n",
      "[autoreload of prompt_toolkit.renderer failed: Traceback (most recent call last):\n",
      "  File \"/opt/conda/lib/python3.6/site-packages/IPython/extensions/autoreload.py\", line 245, in check\n",
      "    superreload(m, reload, self.old_objects)\n",
      "  File \"/opt/conda/lib/python3.6/site-packages/IPython/extensions/autoreload.py\", line 368, in superreload\n",
      "    module = reload(module)\n",
      "  File \"/opt/conda/lib/python3.6/imp.py\", line 315, in reload\n",
      "    return importlib.reload(module)\n",
      "  File \"/opt/conda/lib/python3.6/importlib/__init__.py\", line 166, in reload\n",
      "    _bootstrap._exec(spec, module)\n",
      "  File \"<frozen importlib._bootstrap>\", line 618, in _exec\n",
      "  File \"<frozen importlib._bootstrap_external>\", line 678, in exec_module\n",
      "  File \"<frozen importlib._bootstrap>\", line 219, in _call_with_frames_removed\n",
      "  File \"/opt/conda/lib/python3.6/site-packages/prompt_toolkit/renderer.py\", line 13, in <module>\n",
      "    from prompt_toolkit.eventloop import (\n",
      "ImportError: cannot import name 'From'\n",
      "]\n",
      "[autoreload of prompt_toolkit.styles failed: Traceback (most recent call last):\n",
      "  File \"/opt/conda/lib/python3.6/site-packages/IPython/extensions/autoreload.py\", line 245, in check\n",
      "    superreload(m, reload, self.old_objects)\n",
      "  File \"/opt/conda/lib/python3.6/site-packages/IPython/extensions/autoreload.py\", line 368, in superreload\n",
      "    module = reload(module)\n",
      "  File \"/opt/conda/lib/python3.6/imp.py\", line 315, in reload\n",
      "    return importlib.reload(module)\n",
      "  File \"/opt/conda/lib/python3.6/importlib/__init__.py\", line 166, in reload\n",
      "    _bootstrap._exec(spec, module)\n",
      "  File \"<frozen importlib._bootstrap>\", line 618, in _exec\n",
      "  File \"<frozen importlib._bootstrap_external>\", line 678, in exec_module\n",
      "  File \"<frozen importlib._bootstrap>\", line 219, in _call_with_frames_removed\n",
      "  File \"/opt/conda/lib/python3.6/site-packages/prompt_toolkit/styles/__init__.py\", line 6, in <module>\n",
      "    from .base import (\n",
      "ImportError: cannot import name 'BaseStyle'\n",
      "]\n",
      "[autoreload of prompt_toolkit.key_binding.bindings.named_commands failed: Traceback (most recent call last):\n",
      "  File \"/opt/conda/lib/python3.6/site-packages/IPython/extensions/autoreload.py\", line 245, in check\n",
      "    superreload(m, reload, self.old_objects)\n",
      "  File \"/opt/conda/lib/python3.6/site-packages/IPython/extensions/autoreload.py\", line 368, in superreload\n",
      "    module = reload(module)\n",
      "  File \"/opt/conda/lib/python3.6/imp.py\", line 315, in reload\n",
      "    return importlib.reload(module)\n",
      "  File \"/opt/conda/lib/python3.6/importlib/__init__.py\", line 166, in reload\n",
      "    _bootstrap._exec(spec, module)\n",
      "  File \"<frozen importlib._bootstrap>\", line 618, in _exec\n",
      "  File \"<frozen importlib._bootstrap_external>\", line 678, in exec_module\n",
      "  File \"<frozen importlib._bootstrap>\", line 219, in _call_with_frames_removed\n",
      "  File \"/opt/conda/lib/python3.6/site-packages/prompt_toolkit/key_binding/bindings/named_commands.py\", line 13, in <module>\n",
      "    from prompt_toolkit.key_binding.key_bindings import key_binding\n",
      "  File \"/opt/conda/lib/python3.6/site-packages/prompt_toolkit/key_binding/key_bindings.py\", line 44, in <module>\n",
      "    from prompt_toolkit.filters import Never, to_filter\n",
      "ImportError: cannot import name 'to_filter'\n",
      "]\n",
      "[autoreload of prompt_toolkit.key_binding.bindings.completion failed: Traceback (most recent call last):\n",
      "  File \"/opt/conda/lib/python3.6/site-packages/IPython/extensions/autoreload.py\", line 245, in check\n",
      "    superreload(m, reload, self.old_objects)\n",
      "  File \"/opt/conda/lib/python3.6/site-packages/IPython/extensions/autoreload.py\", line 368, in superreload\n",
      "    module = reload(module)\n",
      "  File \"/opt/conda/lib/python3.6/imp.py\", line 315, in reload\n",
      "    return importlib.reload(module)\n",
      "  File \"/opt/conda/lib/python3.6/importlib/__init__.py\", line 166, in reload\n",
      "    _bootstrap._exec(spec, module)\n",
      "  File \"<frozen importlib._bootstrap>\", line 618, in _exec\n",
      "  File \"<frozen importlib._bootstrap_external>\", line 678, in exec_module\n",
      "  File \"<frozen importlib._bootstrap>\", line 219, in _call_with_frames_removed\n",
      "  File \"/opt/conda/lib/python3.6/site-packages/prompt_toolkit/key_binding/bindings/completion.py\", line 8, in <module>\n",
      "    from prompt_toolkit.application.run_in_terminal import (\n",
      "ModuleNotFoundError: No module named 'prompt_toolkit.application.run_in_terminal'; 'prompt_toolkit.application' is not a package\n",
      "]\n",
      "[autoreload of prompt_toolkit.key_binding.bindings.emacs failed: Traceback (most recent call last):\n",
      "  File \"/opt/conda/lib/python3.6/site-packages/IPython/extensions/autoreload.py\", line 245, in check\n",
      "    superreload(m, reload, self.old_objects)\n",
      "  File \"/opt/conda/lib/python3.6/site-packages/IPython/extensions/autoreload.py\", line 368, in superreload\n",
      "    module = reload(module)\n",
      "  File \"/opt/conda/lib/python3.6/imp.py\", line 315, in reload\n",
      "    return importlib.reload(module)\n",
      "  File \"/opt/conda/lib/python3.6/importlib/__init__.py\", line 166, in reload\n",
      "    _bootstrap._exec(spec, module)\n",
      "  File \"<frozen importlib._bootstrap>\", line 618, in _exec\n",
      "  File \"<frozen importlib._bootstrap_external>\", line 678, in exec_module\n",
      "  File \"<frozen importlib._bootstrap>\", line 219, in _call_with_frames_removed\n",
      "  File \"/opt/conda/lib/python3.6/site-packages/prompt_toolkit/key_binding/bindings/emacs.py\", line 4, in <module>\n",
      "    from prompt_toolkit.application.current import get_app\n",
      "ModuleNotFoundError: No module named 'prompt_toolkit.application.current'; 'prompt_toolkit.application' is not a package\n",
      "]\n",
      "[autoreload of prompt_toolkit.key_binding.bindings.vi failed: Traceback (most recent call last):\n",
      "  File \"/opt/conda/lib/python3.6/site-packages/IPython/extensions/autoreload.py\", line 245, in check\n",
      "    superreload(m, reload, self.old_objects)\n",
      "  File \"/opt/conda/lib/python3.6/site-packages/IPython/extensions/autoreload.py\", line 368, in superreload\n",
      "    module = reload(module)\n",
      "  File \"/opt/conda/lib/python3.6/imp.py\", line 315, in reload\n",
      "    return importlib.reload(module)\n",
      "  File \"/opt/conda/lib/python3.6/importlib/__init__.py\", line 166, in reload\n",
      "    _bootstrap._exec(spec, module)\n",
      "  File \"<frozen importlib._bootstrap>\", line 618, in _exec\n",
      "  File \"<frozen importlib._bootstrap_external>\", line 678, in exec_module\n",
      "  File \"<frozen importlib._bootstrap>\", line 219, in _call_with_frames_removed\n",
      "  File \"/opt/conda/lib/python3.6/site-packages/prompt_toolkit/key_binding/bindings/vi.py\", line 10, in <module>\n",
      "    from prompt_toolkit.application.current import get_app\n",
      "ModuleNotFoundError: No module named 'prompt_toolkit.application.current'; 'prompt_toolkit.application' is not a package\n",
      "]\n",
      "[autoreload of prompt_toolkit.key_binding.defaults failed: Traceback (most recent call last):\n",
      "  File \"/opt/conda/lib/python3.6/site-packages/IPython/extensions/autoreload.py\", line 245, in check\n",
      "    superreload(m, reload, self.old_objects)\n",
      "  File \"/opt/conda/lib/python3.6/site-packages/IPython/extensions/autoreload.py\", line 368, in superreload\n",
      "    module = reload(module)\n",
      "  File \"/opt/conda/lib/python3.6/imp.py\", line 315, in reload\n",
      "    return importlib.reload(module)\n",
      "  File \"/opt/conda/lib/python3.6/importlib/__init__.py\", line 166, in reload\n",
      "    _bootstrap._exec(spec, module)\n",
      "  File \"<frozen importlib._bootstrap>\", line 618, in _exec\n",
      "  File \"<frozen importlib._bootstrap_external>\", line 678, in exec_module\n",
      "  File \"<frozen importlib._bootstrap>\", line 219, in _call_with_frames_removed\n",
      "  File \"/opt/conda/lib/python3.6/site-packages/prompt_toolkit/key_binding/defaults.py\", line 9, in <module>\n",
      "    from prompt_toolkit.filters import buffer_has_focus\n",
      "ImportError: cannot import name 'buffer_has_focus'\n",
      "]\n",
      "[autoreload of prompt_toolkit.eventloop failed: Traceback (most recent call last):\n",
      "  File \"/opt/conda/lib/python3.6/site-packages/IPython/extensions/autoreload.py\", line 245, in check\n",
      "    superreload(m, reload, self.old_objects)\n",
      "  File \"/opt/conda/lib/python3.6/site-packages/IPython/extensions/autoreload.py\", line 368, in superreload\n",
      "    module = reload(module)\n",
      "  File \"/opt/conda/lib/python3.6/imp.py\", line 315, in reload\n",
      "    return importlib.reload(module)\n",
      "  File \"/opt/conda/lib/python3.6/importlib/__init__.py\", line 166, in reload\n",
      "    _bootstrap._exec(spec, module)\n",
      "  File \"<frozen importlib._bootstrap>\", line 618, in _exec\n",
      "  File \"<frozen importlib._bootstrap_external>\", line 678, in exec_module\n",
      "  File \"<frozen importlib._bootstrap>\", line 219, in _call_with_frames_removed\n",
      "  File \"/opt/conda/lib/python3.6/site-packages/prompt_toolkit/eventloop/__init__.py\", line 8, in <module>\n",
      "    from .base import EventLoop, get_traceback_from_context\n",
      "ImportError: cannot import name 'get_traceback_from_context'\n",
      "]\n",
      "[autoreload of prompt_toolkit.layout.menus failed: Traceback (most recent call last):\n",
      "  File \"/opt/conda/lib/python3.6/site-packages/IPython/extensions/autoreload.py\", line 245, in check\n",
      "    superreload(m, reload, self.old_objects)\n",
      "  File \"/opt/conda/lib/python3.6/site-packages/IPython/extensions/autoreload.py\", line 368, in superreload\n",
      "    module = reload(module)\n",
      "  File \"/opt/conda/lib/python3.6/imp.py\", line 315, in reload\n",
      "    return importlib.reload(module)\n",
      "  File \"/opt/conda/lib/python3.6/importlib/__init__.py\", line 166, in reload\n",
      "    _bootstrap._exec(spec, module)\n",
      "  File \"<frozen importlib._bootstrap>\", line 618, in _exec\n",
      "  File \"<frozen importlib._bootstrap_external>\", line 678, in exec_module\n",
      "  File \"<frozen importlib._bootstrap>\", line 219, in _call_with_frames_removed\n",
      "  File \"/opt/conda/lib/python3.6/site-packages/prompt_toolkit/layout/menus.py\", line 7, in <module>\n",
      "    from prompt_toolkit.application.current import get_app\n",
      "ModuleNotFoundError: No module named 'prompt_toolkit.application.current'; 'prompt_toolkit.application' is not a package\n",
      "]\n"
     ]
    }
   ],
   "source": [
    "import os\n",
    "sys.path.append('files')\n",
    "\n",
    "import torch\n",
    "from datetime import datetime\n",
    "def get_time(): return datetime.now().strftime(\"%Y-%d-%d_%H-%M-%S\")\n",
    "from collections import deque\n",
    "import matplotlib.pyplot as plt"
   ]
  },
  {
   "cell_type": "markdown",
   "metadata": {},
   "source": [
    "The environments corresponding to both versions of the environment are already saved in the Workspace and can be accessed at the file paths provided below.  \n",
    "\n",
    "Please select one of the two options below for loading the environment."
   ]
  },
  {
   "cell_type": "code",
   "execution_count": 3,
   "metadata": {},
   "outputs": [
    {
     "data": {
      "text/plain": [
       "['Reacher.x86', 'Reacher_Data', 'Reacher.x86_64']"
      ]
     },
     "execution_count": 3,
     "metadata": {},
     "output_type": "execute_result"
    }
   ],
   "source": [
    "os.listdir('/data/Reacher_Linux_NoVis')"
   ]
  },
  {
   "cell_type": "code",
   "execution_count": 4,
   "metadata": {},
   "outputs": [
    {
     "name": "stderr",
     "output_type": "stream",
     "text": [
      "INFO:unityagents:\n",
      "'Academy' started successfully!\n",
      "Unity Academy name: Academy\n",
      "        Number of Brains: 1\n",
      "        Number of External Brains : 1\n",
      "        Lesson number : 0\n",
      "        Reset Parameters :\n",
      "\t\tgoal_speed -> 1.0\n",
      "\t\tgoal_size -> 5.0\n",
      "Unity brain name: ReacherBrain\n",
      "        Number of Visual Observations (per agent): 0\n",
      "        Vector Observation space type: continuous\n",
      "        Vector Observation space size (per agent): 33\n",
      "        Number of stacked Vector Observation: 1\n",
      "        Vector Action space type: continuous\n",
      "        Vector Action space size (per agent): 4\n",
      "        Vector Action descriptions: , , , \n"
     ]
    }
   ],
   "source": [
    "from unityagents import UnityEnvironment\n",
    "import numpy as np\n",
    "\n",
    "# select this option to load version 1 (with a single agent) of the environment\n",
    "#env = UnityEnvironment(file_name='/data/Reacher_One_Linux_NoVis/Reacher_One_Linux_NoVis.x86_64')\n",
    "\n",
    "#select this option to load version 2 (with 20 agents) of the environment\n",
    "env = UnityEnvironment(file_name='/data/Reacher_Linux_NoVis/Reacher.x86_64')"
   ]
  },
  {
   "cell_type": "markdown",
   "metadata": {},
   "source": [
    "Environments contain **_brains_** which are responsible for deciding the actions of their associated agents. Here we check for the first brain available, and set it as the default brain we will be controlling from Python."
   ]
  },
  {
   "cell_type": "code",
   "execution_count": 5,
   "metadata": {},
   "outputs": [],
   "source": [
    "# get the default brain\n",
    "brain_name = env.brain_names[0]\n",
    "brain = env.brains[brain_name]"
   ]
  },
  {
   "cell_type": "markdown",
   "metadata": {},
   "source": [
    "### 2. Examine the State and Action Spaces\n",
    "\n",
    "Run the code cell below to print some information about the environment."
   ]
  },
  {
   "cell_type": "code",
   "execution_count": 6,
   "metadata": {},
   "outputs": [
    {
     "name": "stdout",
     "output_type": "stream",
     "text": [
      "Number of agents: 20\n",
      "Size of each action: 4\n",
      "There are 20 agents. Each observes a state with length: 33\n",
      "The state for the first agent looks like: [  0.00000000e+00  -4.00000000e+00   0.00000000e+00   1.00000000e+00\n",
      "  -0.00000000e+00  -0.00000000e+00  -4.37113883e-08   0.00000000e+00\n",
      "   0.00000000e+00   0.00000000e+00   0.00000000e+00   0.00000000e+00\n",
      "   0.00000000e+00   0.00000000e+00  -1.00000000e+01   0.00000000e+00\n",
      "   1.00000000e+00  -0.00000000e+00  -0.00000000e+00  -4.37113883e-08\n",
      "   0.00000000e+00   0.00000000e+00   0.00000000e+00   0.00000000e+00\n",
      "   0.00000000e+00   0.00000000e+00   5.75471878e+00  -1.00000000e+00\n",
      "   5.55726624e+00   0.00000000e+00   1.00000000e+00   0.00000000e+00\n",
      "  -1.68164849e-01]\n"
     ]
    }
   ],
   "source": [
    "# reset the environment\n",
    "env_info = env.reset(train_mode=True)[brain_name]\n",
    "\n",
    "# number of agents\n",
    "num_agents = len(env_info.agents)\n",
    "print('Number of agents:', num_agents)\n",
    "\n",
    "# size of each action\n",
    "action_size = brain.vector_action_space_size\n",
    "print('Size of each action:', action_size)\n",
    "\n",
    "# examine the state space \n",
    "states = env_info.vector_observations\n",
    "state_size = states.shape[1]\n",
    "print('There are {} agents. Each observes a state with length: {}'.format(states.shape[0], state_size))\n",
    "print('The state for the first agent looks like:', states[0])"
   ]
  },
  {
   "cell_type": "markdown",
   "metadata": {},
   "source": [
    ".    \n",
    ".  \n",
    ".  \n",
    ".  \n",
    ".  \n",
    ".  \n",
    ".  \n",
    ".  \n",
    ".  \n",
    ".  \n",
    "  \n",
    "# PROJECT 2: CONTINUOUS CONTROL!\n",
    "This project/report explains briefly, (together with the comments in the code) how to solve the Continuous control problem of Udacity's Deep Reinforcement Learning Nanodegree Program.  \n",
    "In this project we've to train an agent to move a double-jointed arm to a desired location. The agent receives a reward of +0.1 for each step that the agent's hand is in the desired location. Thus, the goal of the agent is to maintain its position at the target location for as many time steps as possible. Last but not least, in this project we'll make use of 20 identical agents which are trained simultaneously, whereby each againt contains its own copy of the environment.  \n",
    "\n",
    "### Which kind of problem? \n",
    "Both state and action spaces are continuous, therefore we can make use of one of the next algorithms:\n",
    "- PPO\n",
    "- A3C\n",
    "- DDPG\n",
    "- D4PG\n",
    "\n",
    "But for this project, we'll choose DDPG. Why? it is very related with the DQNs network. It seems to perform better then PPO and A3C. Able to be trained with multiple agents.\n"
   ]
  },
  {
   "cell_type": "markdown",
   "metadata": {},
   "source": [
    "### DDPG\n",
    "\n",
    "1) Environemnt: Reset the environment and provide an initial state.  \n",
    "2) Agent: Given a state, ask the agent which action it would perform  \n",
    "2.1) Provide the current state to the agents `local actor network` and receive an vector with length 4 back where values are between -1 and 1  \n",
    "3) Environemnt: perform the step, suggested by the agent.  \n",
    "3.1) receive a new state, reward and a done value  \n",
    "4) Agent: Perform a step  \n",
    "4.1) Add the state(s) to the memory buffer  \n",
    "4.2) If there are enough data samples for creating a batch, we can train our networks  \n",
    "4.2.1) get a batch (states, actions, rewards, next_states, dones)  \n",
    "4.2.2) Predicted next-actions from the `actor_target network` (given next_state) and Q-values from `critic_target network`    (given next_states and next-actions)  \n",
    "4.2.3) Compute Q targets = rewards + (gamma * Q_targets_next * (1 - dones))  \n",
    "4.2.4) Compute the critic (MSE) loss between `Q expected` (result if `critic_local(states, actions)`) and `Q_targets`  \n",
    "4.2.5) Minimize the losses  \n",
    "4.2.6) slowly update target networks\n",
    "5) Store the rewards and go to step 2 or quite when an agents is done :)  \n",
    "  \n",
    "  \n",
    "\n",
    "## Actor\n",
    "\n",
    "The Actor maps each state of the environment to an action, which is a vector of four numbers between -1 and +1. The network consists of three fully-connected linear layers with ReLU activation functions. The output layer uses the tanh activation function to produce values between -1 and +1 for each of the four outputs. \n",
    "\n",
    "The task of the actor is to approximate the optimal policiy, deterministically. This means that we always want to output the best believed action for any given state. \n",
    "\n",
    "\n",
    "![](images/nn_actor.png)\n",
    "\n",
    "## Critic\n",
    "\n",
    "The Critic maps a state and action to a Q-value, which reflects the estimated quality of the given action in the given state. The network consists of three fully-connected linear layers with ReLU activation functions. The output layer produces the estimated value of the given action in the given state.  \n",
    "    \n",
    "The task of the Critic here is to approximate the maximizer over the Q values of the next state and not as a learned baseline.  \n",
    "The Critic learns to evaluate the optimal value function by using the actors best believe action.\n",
    "\n",
    "\n",
    "\n",
    "![](images/nn_critic.png)\n",
    "\n",
    "### learn\n",
    "\n",
    "**4 networks**\n",
    "- actor_local   \n",
    "- actor_target  \n",
    "  \n",
    "- critic_local  \n",
    "- critic_target  \n",
    "\n",
    "**Gradient descent networks**\n",
    "- actor_local\n",
    "- critic_local\n",
    "  \n",
    "**Slow update networks, via Tau**\n",
    "- actor_target\n",
    "- critic_target\n",
    "  \n",
    "**Network which decides the next step**\n",
    "- actor_local\n",
    "  \n",
    "**Learn step**\n",
    "  \n",
    "Grep a single Batch\n",
    "~~~~python\n",
    "        GAMMA = 0.99\n",
    "        experiences = memory.sample()\n",
    "\n",
    "        # Unpack a single batch \n",
    "        states, actions, rewards, next_states, dones = experiences\n",
    "~~~~\n",
    "\n",
    "Calculate the Q-target. This is done via the **target**-actor-network and **target**-critic-network whereby we feed the outcome of the **target**-actor-network in the **target**-critic-network, which results in a **Q-target-next** value.   \n",
    "   \n",
    "Via the the **Q-target-next** value, we can calculate the **Q-target**.  \n",
    "\n",
    " ~~~~python\n",
    "        # ---------------------------- update critic ---------------------------- #\n",
    "        # Get predicted next-state actions and Q values from target models\n",
    "        actions_next = self.actor_target(next_states)\n",
    "        Q_targets_next = self.critic_target(next_states, actions_next)\n",
    "        \n",
    "        # Compute Q targets for current states (y_i)\n",
    "        Q_targets = rewards + (gamma * Q_targets_next * (1 - dones))\n",
    "~~~~\n",
    "Use the **critic_local**-network with the **state** and **action** to calculate the MSE loss, with the **Q-target** (which were more based on the **Next-state**.\n",
    "\n",
    "~~~~python\n",
    "        # Compute critic loss\n",
    "        Q_expected = self.critic_local(states, actions)\n",
    "        critic_loss = F.mse_loss(Q_expected, Q_targets)\n",
    "~~~~\n",
    "\n",
    "Perform the gradient descent on the **critic-local-network**\n",
    "~~~~python\n",
    "        # Minimize the loss\n",
    "        self.critic_optimizer.zero_grad()\n",
    "        critic_loss.backward()\n",
    "        self.critic_optimizer.step()\n",
    "~~~~\n",
    "Calculate the **actor-local** loss\n",
    "~~~~python\n",
    "        # ---------------------------- update actor ---------------------------- #\n",
    "        # Compute actor loss\n",
    "        actions_pred = self.actor_local(states)\n",
    "        actor_loss = -self.critic_local(states, actions_pred).mean()\n",
    "~~~~\n",
    "\n",
    "Perform the gradient descent on the **actor-local-network**\n",
    "~~~~python\n",
    "        # Minimize the loss\n",
    "        self.actor_optimizer.zero_grad()\n",
    "        actor_loss.backward()\n",
    "        self.actor_optimizer.step()\n",
    "~~~~\n",
    "\n",
    "Soft update the **actor-target-network** and **cretig-target-network**, via the hyper parameter TAU\n",
    "~~~~python\n",
    "        # ----------------------- update target networks ----------------------- #\n",
    "        self.soft_update(self.critic_local, self.critic_target, self.TAU)\n",
    "        self.soft_update(self.actor_local, self.actor_target, self.TAU)  \n",
    "~~~~       "
   ]
  },
  {
   "cell_type": "markdown",
   "metadata": {},
   "source": [
    "### login with wandb\n",
    "A tool which keep track of the performance and hyperparameters"
   ]
  },
  {
   "cell_type": "code",
   "execution_count": 7,
   "metadata": {},
   "outputs": [],
   "source": [
    "os.popen('wandb login b4325006fxxxxxxxxxxxxxxxxx').read()\n",
    "import wandb"
   ]
  },
  {
   "cell_type": "markdown",
   "metadata": {},
   "source": [
    "# hyper parameters\n",
    "\n",
    "\n",
    " - lr_actor : learning rate of the actor\n",
    " - lr_critic : learning rate of the critic \n",
    " - gamma : discount factor\n",
    " - weight_decay : L2 weight decay for the critic\n",
    " - tau : parameter for soft update of target parameters\n",
    " - learn_interval : learning interval \n",
    " - learn_num : Amount of batches which we would like to learn (one after the other)\n",
    " - batch_size : number of episodes which we would like to use to train\n",
    " - buffer_size : number of episodes from which we can can sample of\n"
   ]
  },
  {
   "cell_type": "code",
   "execution_count": 8,
   "metadata": {},
   "outputs": [
    {
     "data": {
      "text/plain": [
       "{'random_seed': 0,\n",
       " 'learn_interval': 6,\n",
       " 'learn_num': 1,\n",
       " 'lr_actor': 0.001,\n",
       " 'lr_critic': 0.001,\n",
       " 'gamma': 0.99,\n",
       " 'weight_decay': 0,\n",
       " 'tau': 0.0015,\n",
       " 'batch_size': 512,\n",
       " 'buffer_size': 100000}"
      ]
     },
     "execution_count": 8,
     "metadata": {},
     "output_type": "execute_result"
    }
   ],
   "source": [
    "import json\n",
    "with open('hyper_parameters.json') as json_file:\n",
    "    hyper_parameters = json.load(json_file)\n",
    "\n",
    "# show the parameters\n",
    "hyper_parameters"
   ]
  },
  {
   "cell_type": "markdown",
   "metadata": {},
   "source": [
    "# Agent"
   ]
  },
  {
   "cell_type": "code",
   "execution_count": 9,
   "metadata": {},
   "outputs": [
    {
     "data": {
      "text/html": [
       "\n",
       "                Logging results to <a href=\"https://wandb.com\" target=\"_blank\">Weights & Biases</a> <a href=\"https://docs.wandb.com/integrations/jupyter.html\" target=\"_blank\">(Documentation)</a>.<br/>\n",
       "                Project page: <a href=\"https://app.wandb.ai/verbeemen/udacity_deep-reinforcement-learning_project-2\" target=\"_blank\">https://app.wandb.ai/verbeemen/udacity_deep-reinforcement-learning_project-2</a><br/>\n",
       "                Run page: <a href=\"https://app.wandb.ai/verbeemen/udacity_deep-reinforcement-learning_project-2/runs/irxnz7qa\" target=\"_blank\">https://app.wandb.ai/verbeemen/udacity_deep-reinforcement-learning_project-2/runs/irxnz7qa</a><br/>\n",
       "            "
      ],
      "text/plain": [
       "<IPython.core.display.HTML object>"
      ]
     },
     "metadata": {},
     "output_type": "display_data"
    },
    {
     "name": "stderr",
     "output_type": "stream",
     "text": [
      "INFO:wandb.run_manager:system metrics and metadata threads started\n",
      "INFO:wandb.run_manager:checking resume status, waiting at most 10 seconds\n",
      "INFO:wandb.run_manager:resuming run from id: UnVuOnYxOmlyeG56N3FhOnVkYWNpdHlfZGVlcC1yZWluZm9yY2VtZW50LWxlYXJuaW5nX3Byb2plY3QtMjp2ZXJiZWVtZW4=\n",
      "INFO:wandb.run_manager:upserting run before process can begin, waiting at most 10 seconds\n",
      "INFO:wandb.run_manager:saving patches\n",
      "INFO:wandb.run_manager:saving pip packages\n",
      "INFO:wandb.run_manager:initializing streaming files api\n",
      "INFO:wandb.run_manager:unblocking file change observer, beginning sync with W&B servers\n"
     ]
    },
    {
     "data": {
      "text/plain": [
       "[<wandb.wandb_torch.TorchGraph at 0x7ff880e5c908>]"
      ]
     },
     "execution_count": 9,
     "metadata": {},
     "output_type": "execute_result"
    },
    {
     "name": "stderr",
     "output_type": "stream",
     "text": [
      "INFO:wandb.run_manager:shutting down system stats and metadata service\n",
      "INFO:wandb.run_manager:file/dir modified: /home/workspace/wandb/run-20191123_174521-irxnz7qa/config.yaml\n",
      "INFO:wandb.run_manager:file/dir created: /home/workspace/wandb/run-20191123_174521-irxnz7qa/requirements.txt\n",
      "INFO:wandb.run_manager:file/dir created: /home/workspace/wandb/run-20191123_174521-irxnz7qa/wandb-metadata.json\n",
      "INFO:wandb.run_manager:file/dir created: /home/workspace/wandb/run-20191123_174521-irxnz7qa/wandb-events.jsonl\n",
      "INFO:wandb.run_manager:file/dir created: /home/workspace/wandb/run-20191123_174521-irxnz7qa/wandb-summary.json\n",
      "INFO:wandb.run_manager:file/dir created: /home/workspace/wandb/run-20191123_174521-irxnz7qa/wandb-history.jsonl\n",
      "INFO:wandb.run_manager:file/dir created: /home/workspace/wandb/run-20191123_174521-irxnz7qa/code/Continuous_Control.ipynb\n",
      "INFO:wandb.run_manager:file/dir created: /home/workspace/wandb/run-20191123_174521-irxnz7qa/code\n",
      "INFO:wandb.run_manager:stopping streaming files and file change observer\n",
      "INFO:wandb.run_manager:file/dir modified: /home/workspace/wandb/run-20191123_174521-irxnz7qa/wandb-metadata.json\n"
     ]
    }
   ],
   "source": [
    "from agent import Agent\n",
    "agent = Agent(state_size=state_size, action_size=action_size, num_agents = 20, **hyper_parameters)\n",
    "\n",
    "# Add the config to wandb    \n",
    "wandb.init(config=agent.__dict__,project=\"udacity_deep-reinforcement-learning_project-2\")\n",
    "wandb.watch(agent.actor_local)\n",
    "wandb.watch(agent.critic_local)"
   ]
  },
  {
   "cell_type": "markdown",
   "metadata": {},
   "source": [
    "# Train"
   ]
  },
  {
   "cell_type": "code",
   "execution_count": 10,
   "metadata": {
    "scrolled": true
   },
   "outputs": [
    {
     "name": "stderr",
     "output_type": "stream",
     "text": [
      "INFO:wandb.run_manager:system metrics and metadata threads started\n",
      "INFO:wandb.run_manager:checking resume status, waiting at most 10 seconds\n",
      "INFO:wandb.run_manager:resuming run from id: UnVuOnYxOmlyeG56N3FhOnVkYWNpdHlfZGVlcC1yZWluZm9yY2VtZW50LWxlYXJuaW5nX3Byb2plY3QtMjp2ZXJiZWVtZW4=\n",
      "INFO:wandb.run_manager:upserting run before process can begin, waiting at most 10 seconds\n",
      "INFO:wandb.run_manager:saving patches\n",
      "INFO:wandb.run_manager:saving pip packages\n",
      "INFO:wandb.run_manager:initializing streaming files api\n",
      "INFO:wandb.run_manager:unblocking file change observer, beginning sync with W&B servers\n",
      "INFO:wandb.run_manager:file/dir modified: /home/workspace/wandb/run-20191123_174521-irxnz7qa/wandb-summary.json\n",
      "INFO:wandb.run_manager:file/dir modified: /home/workspace/wandb/run-20191123_174521-irxnz7qa/requirements.txt\n",
      "INFO:wandb.run_manager:file/dir modified: /home/workspace/wandb/run-20191123_174521-irxnz7qa/wandb-history.jsonl\n",
      "INFO:wandb.run_manager:file/dir modified: /home/workspace/wandb/run-20191123_174521-irxnz7qa/wandb-metadata.json\n",
      "INFO:wandb.run_manager:file/dir modified: /home/workspace/wandb/run-20191123_174521-irxnz7qa/config.yaml\n",
      "INFO:wandb.run_manager:file/dir modified: /home/workspace/wandb/run-20191123_174521-irxnz7qa/wandb-events.jsonl\n"
     ]
    },
    {
     "name": "stdout",
     "output_type": "stream",
     "text": [
      "\r",
      "Episode 1\tAverage Score: 0.447, score: 0.447"
     ]
    },
    {
     "name": "stderr",
     "output_type": "stream",
     "text": [
      "INFO:wandb.run_manager:file/dir modified: /home/workspace/wandb/run-20191123_174521-irxnz7qa/wandb-summary.json\n",
      "INFO:wandb.run_manager:file/dir modified: /home/workspace/wandb/run-20191123_174521-irxnz7qa/wandb-history.jsonl\n",
      "INFO:wandb.run_manager:file/dir modified: /home/workspace/wandb/run-20191123_174521-irxnz7qa/wandb-metadata.json\n"
     ]
    },
    {
     "name": "stdout",
     "output_type": "stream",
     "text": [
      "\r",
      "Episode 2\tAverage Score: 0.44, score: 0.433"
     ]
    },
    {
     "name": "stderr",
     "output_type": "stream",
     "text": [
      "INFO:wandb.run_manager:file/dir modified: /home/workspace/wandb/run-20191123_174521-irxnz7qa/wandb-summary.json\n",
      "INFO:wandb.run_manager:file/dir modified: /home/workspace/wandb/run-20191123_174521-irxnz7qa/wandb-history.jsonl\n",
      "INFO:wandb.run_manager:file/dir modified: /home/workspace/wandb/run-20191123_174521-irxnz7qa/wandb-events.jsonl\n",
      "INFO:wandb.run_manager:file/dir modified: /home/workspace/wandb/run-20191123_174521-irxnz7qa/wandb-metadata.json\n"
     ]
    },
    {
     "name": "stdout",
     "output_type": "stream",
     "text": [
      "\r",
      "Episode 3\tAverage Score: 0.517, score: 0.67"
     ]
    },
    {
     "name": "stderr",
     "output_type": "stream",
     "text": [
      "INFO:wandb.run_manager:file/dir modified: /home/workspace/wandb/run-20191123_174521-irxnz7qa/wandb-summary.json\n",
      "INFO:wandb.run_manager:file/dir modified: /home/workspace/wandb/run-20191123_174521-irxnz7qa/wandb-history.jsonl\n",
      "INFO:wandb.run_manager:file/dir modified: /home/workspace/wandb/run-20191123_174521-irxnz7qa/wandb-metadata.json\n"
     ]
    },
    {
     "name": "stdout",
     "output_type": "stream",
     "text": [
      "\r",
      "Episode 4\tAverage Score: 0.503, score: 0.464"
     ]
    },
    {
     "name": "stderr",
     "output_type": "stream",
     "text": [
      "INFO:wandb.run_manager:file/dir modified: /home/workspace/wandb/run-20191123_174521-irxnz7qa/wandb-summary.json\n",
      "INFO:wandb.run_manager:file/dir modified: /home/workspace/wandb/run-20191123_174521-irxnz7qa/wandb-history.jsonl\n",
      "INFO:wandb.run_manager:file/dir modified: /home/workspace/wandb/run-20191123_174521-irxnz7qa/wandb-events.jsonl\n",
      "INFO:wandb.run_manager:file/dir modified: /home/workspace/wandb/run-20191123_174521-irxnz7qa/wandb-metadata.json\n",
      "INFO:wandb.run_manager:file/dir modified: /home/workspace/wandb/run-20191123_174521-irxnz7qa/wandb-summary.json\n",
      "INFO:wandb.run_manager:file/dir modified: /home/workspace/wandb/run-20191123_174521-irxnz7qa/wandb-history.jsonl\n"
     ]
    },
    {
     "name": "stdout",
     "output_type": "stream",
     "text": [
      "Episode 6\tAverage Score: 0.398, score: 0.14"
     ]
    },
    {
     "name": "stderr",
     "output_type": "stream",
     "text": [
      "INFO:wandb.run_manager:file/dir modified: /home/workspace/wandb/run-20191123_174521-irxnz7qa/wandb-summary.json\n",
      "INFO:wandb.run_manager:file/dir modified: /home/workspace/wandb/run-20191123_174521-irxnz7qa/wandb-metadata.json\n",
      "INFO:wandb.run_manager:file/dir modified: /home/workspace/wandb/run-20191123_174521-irxnz7qa/wandb-history.jsonl\n",
      "INFO:wandb.run_manager:file/dir modified: /home/workspace/wandb/run-20191123_174521-irxnz7qa/wandb-events.jsonl\n"
     ]
    },
    {
     "name": "stdout",
     "output_type": "stream",
     "text": [
      "\r",
      "Episode 7\tAverage Score: 0.373, score: 0.223"
     ]
    },
    {
     "name": "stderr",
     "output_type": "stream",
     "text": [
      "INFO:wandb.run_manager:file/dir modified: /home/workspace/wandb/run-20191123_174521-irxnz7qa/wandb-summary.json\n",
      "INFO:wandb.run_manager:file/dir modified: /home/workspace/wandb/run-20191123_174521-irxnz7qa/wandb-history.jsonl\n",
      "INFO:wandb.run_manager:file/dir modified: /home/workspace/wandb/run-20191123_174521-irxnz7qa/wandb-metadata.json\n",
      "INFO:wandb.run_manager:file/dir modified: /home/workspace/wandb/run-20191123_174521-irxnz7qa/wandb-summary.json\n",
      "INFO:wandb.run_manager:file/dir modified: /home/workspace/wandb/run-20191123_174521-irxnz7qa/wandb-history.jsonl\n"
     ]
    },
    {
     "name": "stdout",
     "output_type": "stream",
     "text": [
      "\r",
      "Episode 8\tAverage Score: 0.352, score: 0.202"
     ]
    },
    {
     "name": "stderr",
     "output_type": "stream",
     "text": [
      "INFO:wandb.run_manager:file/dir modified: /home/workspace/wandb/run-20191123_174521-irxnz7qa/wandb-metadata.json\n",
      "INFO:wandb.run_manager:file/dir modified: /home/workspace/wandb/run-20191123_174521-irxnz7qa/wandb-events.jsonl\n"
     ]
    },
    {
     "name": "stdout",
     "output_type": "stream",
     "text": [
      "\r",
      "Episode 9\tAverage Score: 0.324, score: 0.1"
     ]
    },
    {
     "name": "stderr",
     "output_type": "stream",
     "text": [
      "INFO:wandb.run_manager:file/dir modified: /home/workspace/wandb/run-20191123_174521-irxnz7qa/wandb-summary.json\n",
      "INFO:wandb.run_manager:file/dir modified: /home/workspace/wandb/run-20191123_174521-irxnz7qa/wandb-history.jsonl\n",
      "INFO:wandb.run_manager:file/dir modified: /home/workspace/wandb/run-20191123_174521-irxnz7qa/wandb-metadata.json\n"
     ]
    },
    {
     "name": "stdout",
     "output_type": "stream",
     "text": [
      "\r",
      "Episode 10\tAverage Score: 0.322, score: 0.306"
     ]
    },
    {
     "name": "stderr",
     "output_type": "stream",
     "text": [
      "INFO:wandb.run_manager:file/dir modified: /home/workspace/wandb/run-20191123_174521-irxnz7qa/wandb-summary.json\n",
      "INFO:wandb.run_manager:file/dir modified: /home/workspace/wandb/run-20191123_174521-irxnz7qa/wandb-history.jsonl\n",
      "INFO:wandb.run_manager:file/dir modified: /home/workspace/wandb/run-20191123_174521-irxnz7qa/wandb-metadata.json\n"
     ]
    },
    {
     "name": "stdout",
     "output_type": "stream",
     "text": [
      "\r",
      "Episode 11\tAverage Score: 0.368, score: 0.826"
     ]
    },
    {
     "name": "stderr",
     "output_type": "stream",
     "text": [
      "INFO:wandb.run_manager:file/dir modified: /home/workspace/wandb/run-20191123_174521-irxnz7qa/wandb-summary.json\n",
      "INFO:wandb.run_manager:file/dir modified: /home/workspace/wandb/run-20191123_174521-irxnz7qa/wandb-history.jsonl\n",
      "INFO:wandb.run_manager:file/dir modified: /home/workspace/wandb/run-20191123_174521-irxnz7qa/wandb-events.jsonl\n"
     ]
    },
    {
     "name": "stdout",
     "output_type": "stream",
     "text": [
      "\r",
      "Episode 12\tAverage Score: 0.427, score: 1.083"
     ]
    },
    {
     "name": "stderr",
     "output_type": "stream",
     "text": [
      "INFO:wandb.run_manager:file/dir modified: /home/workspace/wandb/run-20191123_174521-irxnz7qa/wandb-summary.json\n",
      "INFO:wandb.run_manager:file/dir modified: /home/workspace/wandb/run-20191123_174521-irxnz7qa/wandb-metadata.json\n",
      "INFO:wandb.run_manager:file/dir modified: /home/workspace/wandb/run-20191123_174521-irxnz7qa/wandb-history.jsonl\n"
     ]
    },
    {
     "name": "stdout",
     "output_type": "stream",
     "text": [
      "\r",
      "Episode 13\tAverage Score: 0.461, score: 0.861"
     ]
    },
    {
     "name": "stderr",
     "output_type": "stream",
     "text": [
      "INFO:wandb.run_manager:file/dir modified: /home/workspace/wandb/run-20191123_174521-irxnz7qa/wandb-summary.json\n",
      "INFO:wandb.run_manager:file/dir modified: /home/workspace/wandb/run-20191123_174521-irxnz7qa/wandb-history.jsonl\n",
      "INFO:wandb.run_manager:file/dir modified: /home/workspace/wandb/run-20191123_174521-irxnz7qa/wandb-metadata.json\n",
      "INFO:wandb.run_manager:file/dir modified: /home/workspace/wandb/run-20191123_174521-irxnz7qa/wandb-events.jsonl\n"
     ]
    },
    {
     "name": "stdout",
     "output_type": "stream",
     "text": [
      "\r",
      "Episode 14\tAverage Score: 0.513, score: 1.198"
     ]
    },
    {
     "name": "stderr",
     "output_type": "stream",
     "text": [
      "INFO:wandb.run_manager:file/dir modified: /home/workspace/wandb/run-20191123_174521-irxnz7qa/wandb-summary.json\n",
      "INFO:wandb.run_manager:file/dir modified: /home/workspace/wandb/run-20191123_174521-irxnz7qa/wandb-history.jsonl\n",
      "INFO:wandb.run_manager:file/dir modified: /home/workspace/wandb/run-20191123_174521-irxnz7qa/wandb-metadata.json\n"
     ]
    },
    {
     "name": "stdout",
     "output_type": "stream",
     "text": [
      "\r",
      "Episode 15\tAverage Score: 0.568, score: 1.326"
     ]
    },
    {
     "name": "stderr",
     "output_type": "stream",
     "text": [
      "INFO:wandb.run_manager:file/dir modified: /home/workspace/wandb/run-20191123_174521-irxnz7qa/wandb-summary.json\n",
      "INFO:wandb.run_manager:file/dir modified: /home/workspace/wandb/run-20191123_174521-irxnz7qa/wandb-history.jsonl\n",
      "INFO:wandb.run_manager:file/dir modified: /home/workspace/wandb/run-20191123_174521-irxnz7qa/wandb-metadata.json\n",
      "INFO:wandb.run_manager:file/dir modified: /home/workspace/wandb/run-20191123_174521-irxnz7qa/wandb-events.jsonl\n"
     ]
    },
    {
     "name": "stdout",
     "output_type": "stream",
     "text": [
      "\r",
      "Episode 16\tAverage Score: 0.618, score: 1.371"
     ]
    },
    {
     "name": "stderr",
     "output_type": "stream",
     "text": [
      "INFO:wandb.run_manager:file/dir modified: /home/workspace/wandb/run-20191123_174521-irxnz7qa/wandb-summary.json\n",
      "INFO:wandb.run_manager:file/dir modified: /home/workspace/wandb/run-20191123_174521-irxnz7qa/wandb-history.jsonl\n",
      "INFO:wandb.run_manager:file/dir modified: /home/workspace/wandb/run-20191123_174521-irxnz7qa/wandb-metadata.json\n"
     ]
    },
    {
     "name": "stdout",
     "output_type": "stream",
     "text": [
      "\r",
      "Episode 17\tAverage Score: 0.664, score: 1.405"
     ]
    },
    {
     "name": "stderr",
     "output_type": "stream",
     "text": [
      "INFO:wandb.run_manager:file/dir modified: /home/workspace/wandb/run-20191123_174521-irxnz7qa/wandb-summary.json\n",
      "INFO:wandb.run_manager:file/dir modified: /home/workspace/wandb/run-20191123_174521-irxnz7qa/wandb-history.jsonl\n",
      "INFO:wandb.run_manager:file/dir modified: /home/workspace/wandb/run-20191123_174521-irxnz7qa/wandb-events.jsonl\n",
      "INFO:wandb.run_manager:file/dir modified: /home/workspace/wandb/run-20191123_174521-irxnz7qa/wandb-metadata.json\n",
      "INFO:wandb.run_manager:file/dir modified: /home/workspace/wandb/run-20191123_174521-irxnz7qa/wandb-summary.json\n",
      "INFO:wandb.run_manager:file/dir modified: /home/workspace/wandb/run-20191123_174521-irxnz7qa/wandb-history.jsonl\n"
     ]
    },
    {
     "name": "stdout",
     "output_type": "stream",
     "text": [
      "Episode 19\tAverage Score: 0.742, score: 1.518"
     ]
    },
    {
     "name": "stderr",
     "output_type": "stream",
     "text": [
      "INFO:wandb.run_manager:file/dir modified: /home/workspace/wandb/run-20191123_174521-irxnz7qa/wandb-summary.json\n",
      "INFO:wandb.run_manager:file/dir modified: /home/workspace/wandb/run-20191123_174521-irxnz7qa/wandb-history.jsonl\n",
      "INFO:wandb.run_manager:file/dir modified: /home/workspace/wandb/run-20191123_174521-irxnz7qa/wandb-metadata.json\n"
     ]
    },
    {
     "name": "stdout",
     "output_type": "stream",
     "text": [
      "\r",
      "Episode 20\tAverage Score: 0.768, score: 1.27"
     ]
    },
    {
     "name": "stderr",
     "output_type": "stream",
     "text": [
      "INFO:wandb.run_manager:file/dir modified: /home/workspace/wandb/run-20191123_174521-irxnz7qa/wandb-summary.json\n",
      "INFO:wandb.run_manager:file/dir modified: /home/workspace/wandb/run-20191123_174521-irxnz7qa/wandb-history.jsonl\n",
      "INFO:wandb.run_manager:file/dir modified: /home/workspace/wandb/run-20191123_174521-irxnz7qa/wandb-events.jsonl\n",
      "INFO:wandb.run_manager:file/dir modified: /home/workspace/wandb/run-20191123_174521-irxnz7qa/wandb-metadata.json\n"
     ]
    },
    {
     "name": "stdout",
     "output_type": "stream",
     "text": [
      "\r",
      "Episode 21\tAverage Score: 0.787, score: 1.155"
     ]
    },
    {
     "name": "stderr",
     "output_type": "stream",
     "text": [
      "INFO:wandb.run_manager:file/dir modified: /home/workspace/wandb/run-20191123_174521-irxnz7qa/wandb-summary.json\n",
      "INFO:wandb.run_manager:file/dir modified: /home/workspace/wandb/run-20191123_174521-irxnz7qa/wandb-history.jsonl\n",
      "INFO:wandb.run_manager:file/dir modified: /home/workspace/wandb/run-20191123_174521-irxnz7qa/wandb-metadata.json\n",
      "INFO:wandb.run_manager:file/dir modified: /home/workspace/wandb/run-20191123_174521-irxnz7qa/wandb-summary.json\n",
      "INFO:wandb.run_manager:file/dir modified: /home/workspace/wandb/run-20191123_174521-irxnz7qa/wandb-history.jsonl\n"
     ]
    },
    {
     "name": "stdout",
     "output_type": "stream",
     "text": [
      "\r",
      "Episode 22\tAverage Score: 0.816, score: 1.43"
     ]
    },
    {
     "name": "stderr",
     "output_type": "stream",
     "text": [
      "INFO:wandb.run_manager:file/dir modified: /home/workspace/wandb/run-20191123_174521-irxnz7qa/wandb-events.jsonl\n",
      "INFO:wandb.run_manager:file/dir modified: /home/workspace/wandb/run-20191123_174521-irxnz7qa/wandb-metadata.json\n"
     ]
    },
    {
     "name": "stdout",
     "output_type": "stream",
     "text": [
      "\r",
      "Episode 23\tAverage Score: 0.844, score: 1.455"
     ]
    },
    {
     "name": "stderr",
     "output_type": "stream",
     "text": [
      "INFO:wandb.run_manager:file/dir modified: /home/workspace/wandb/run-20191123_174521-irxnz7qa/wandb-summary.json\n",
      "INFO:wandb.run_manager:file/dir modified: /home/workspace/wandb/run-20191123_174521-irxnz7qa/wandb-history.jsonl\n",
      "INFO:wandb.run_manager:file/dir modified: /home/workspace/wandb/run-20191123_174521-irxnz7qa/wandb-metadata.json\n",
      "INFO:wandb.run_manager:file/dir modified: /home/workspace/wandb/run-20191123_174521-irxnz7qa/wandb-summary.json\n",
      "INFO:wandb.run_manager:file/dir modified: /home/workspace/wandb/run-20191123_174521-irxnz7qa/wandb-history.jsonl\n"
     ]
    },
    {
     "name": "stdout",
     "output_type": "stream",
     "text": [
      "\r",
      "Episode 24\tAverage Score: 0.853, score: 1.07"
     ]
    },
    {
     "name": "stderr",
     "output_type": "stream",
     "text": [
      "INFO:wandb.run_manager:file/dir modified: /home/workspace/wandb/run-20191123_174521-irxnz7qa/wandb-events.jsonl\n"
     ]
    },
    {
     "name": "stdout",
     "output_type": "stream",
     "text": [
      "\r",
      "Episode 25\tAverage Score: 0.884, score: 1.622"
     ]
    },
    {
     "name": "stderr",
     "output_type": "stream",
     "text": [
      "INFO:wandb.run_manager:file/dir modified: /home/workspace/wandb/run-20191123_174521-irxnz7qa/wandb-summary.json\n",
      "INFO:wandb.run_manager:file/dir modified: /home/workspace/wandb/run-20191123_174521-irxnz7qa/wandb-history.jsonl\n",
      "INFO:wandb.run_manager:file/dir modified: /home/workspace/wandb/run-20191123_174521-irxnz7qa/wandb-metadata.json\n",
      "INFO:wandb.run_manager:file/dir modified: /home/workspace/wandb/run-20191123_174521-irxnz7qa/wandb-summary.json\n",
      "INFO:wandb.run_manager:file/dir modified: /home/workspace/wandb/run-20191123_174521-irxnz7qa/wandb-history.jsonl\n"
     ]
    },
    {
     "name": "stdout",
     "output_type": "stream",
     "text": [
      "\r",
      "Episode 26\tAverage Score: 0.915, score: 1.698"
     ]
    },
    {
     "name": "stderr",
     "output_type": "stream",
     "text": [
      "INFO:wandb.run_manager:file/dir modified: /home/workspace/wandb/run-20191123_174521-irxnz7qa/wandb-metadata.json\n",
      "INFO:wandb.run_manager:file/dir modified: /home/workspace/wandb/run-20191123_174521-irxnz7qa/wandb-events.jsonl\n"
     ]
    },
    {
     "name": "stdout",
     "output_type": "stream",
     "text": [
      "\r",
      "Episode 27\tAverage Score: 0.941, score: 1.611"
     ]
    },
    {
     "name": "stderr",
     "output_type": "stream",
     "text": [
      "INFO:wandb.run_manager:file/dir modified: /home/workspace/wandb/run-20191123_174521-irxnz7qa/wandb-summary.json\n",
      "INFO:wandb.run_manager:file/dir modified: /home/workspace/wandb/run-20191123_174521-irxnz7qa/wandb-history.jsonl\n",
      "INFO:wandb.run_manager:file/dir modified: /home/workspace/wandb/run-20191123_174521-irxnz7qa/wandb-metadata.json\n"
     ]
    },
    {
     "name": "stdout",
     "output_type": "stream",
     "text": [
      "\r",
      "Episode 28\tAverage Score: 0.975, score: 1.9"
     ]
    },
    {
     "name": "stderr",
     "output_type": "stream",
     "text": [
      "INFO:wandb.run_manager:file/dir modified: /home/workspace/wandb/run-20191123_174521-irxnz7qa/wandb-summary.json\n",
      "INFO:wandb.run_manager:file/dir modified: /home/workspace/wandb/run-20191123_174521-irxnz7qa/wandb-history.jsonl\n",
      "INFO:wandb.run_manager:file/dir modified: /home/workspace/wandb/run-20191123_174521-irxnz7qa/wandb-metadata.json\n"
     ]
    },
    {
     "name": "stdout",
     "output_type": "stream",
     "text": [
      "\r",
      "Episode 29\tAverage Score: 1.005, score: 1.838"
     ]
    },
    {
     "name": "stderr",
     "output_type": "stream",
     "text": [
      "INFO:wandb.run_manager:file/dir modified: /home/workspace/wandb/run-20191123_174521-irxnz7qa/wandb-summary.json\n",
      "INFO:wandb.run_manager:file/dir modified: /home/workspace/wandb/run-20191123_174521-irxnz7qa/wandb-history.jsonl\n",
      "INFO:wandb.run_manager:file/dir modified: /home/workspace/wandb/run-20191123_174521-irxnz7qa/wandb-events.jsonl\n",
      "INFO:wandb.run_manager:file/dir modified: /home/workspace/wandb/run-20191123_174521-irxnz7qa/wandb-metadata.json\n"
     ]
    },
    {
     "name": "stdout",
     "output_type": "stream",
     "text": [
      "\r",
      "Episode 30\tAverage Score: 1.042, score: 2.121"
     ]
    },
    {
     "name": "stderr",
     "output_type": "stream",
     "text": [
      "INFO:wandb.run_manager:file/dir modified: /home/workspace/wandb/run-20191123_174521-irxnz7qa/wandb-summary.json\n",
      "INFO:wandb.run_manager:file/dir modified: /home/workspace/wandb/run-20191123_174521-irxnz7qa/wandb-history.jsonl\n",
      "INFO:wandb.run_manager:file/dir modified: /home/workspace/wandb/run-20191123_174521-irxnz7qa/wandb-summary.json\n",
      "INFO:wandb.run_manager:file/dir modified: /home/workspace/wandb/run-20191123_174521-irxnz7qa/wandb-history.jsonl\n"
     ]
    },
    {
     "name": "stdout",
     "output_type": "stream",
     "text": [
      "\r",
      "Episode 31\tAverage Score: 1.096, score: 2.697"
     ]
    },
    {
     "name": "stderr",
     "output_type": "stream",
     "text": [
      "INFO:wandb.run_manager:file/dir modified: /home/workspace/wandb/run-20191123_174521-irxnz7qa/wandb-metadata.json\n",
      "INFO:wandb.run_manager:file/dir modified: /home/workspace/wandb/run-20191123_174521-irxnz7qa/wandb-events.jsonl\n"
     ]
    },
    {
     "name": "stdout",
     "output_type": "stream",
     "text": [
      "\r",
      "Episode 32\tAverage Score: 1.136, score: 2.399"
     ]
    },
    {
     "name": "stderr",
     "output_type": "stream",
     "text": [
      "INFO:wandb.run_manager:file/dir modified: /home/workspace/wandb/run-20191123_174521-irxnz7qa/wandb-summary.json\n",
      "INFO:wandb.run_manager:file/dir modified: /home/workspace/wandb/run-20191123_174521-irxnz7qa/wandb-history.jsonl\n",
      "INFO:wandb.run_manager:file/dir modified: /home/workspace/wandb/run-20191123_174521-irxnz7qa/wandb-metadata.json\n",
      "INFO:wandb.run_manager:file/dir modified: /home/workspace/wandb/run-20191123_174521-irxnz7qa/wandb-summary.json\n",
      "INFO:wandb.run_manager:file/dir modified: /home/workspace/wandb/run-20191123_174521-irxnz7qa/wandb-history.jsonl\n"
     ]
    },
    {
     "name": "stdout",
     "output_type": "stream",
     "text": [
      "\r",
      "Episode 33\tAverage Score: 1.193, score: 2.991"
     ]
    },
    {
     "name": "stderr",
     "output_type": "stream",
     "text": [
      "INFO:wandb.run_manager:file/dir modified: /home/workspace/wandb/run-20191123_174521-irxnz7qa/wandb-metadata.json\n",
      "INFO:wandb.run_manager:file/dir modified: /home/workspace/wandb/run-20191123_174521-irxnz7qa/wandb-events.jsonl\n"
     ]
    },
    {
     "name": "stdout",
     "output_type": "stream",
     "text": [
      "\r",
      "Episode 34\tAverage Score: 1.273, score: 3.939"
     ]
    },
    {
     "name": "stderr",
     "output_type": "stream",
     "text": [
      "INFO:wandb.run_manager:file/dir modified: /home/workspace/wandb/run-20191123_174521-irxnz7qa/wandb-summary.json\n",
      "INFO:wandb.run_manager:file/dir modified: /home/workspace/wandb/run-20191123_174521-irxnz7qa/wandb-history.jsonl\n",
      "INFO:wandb.run_manager:file/dir modified: /home/workspace/wandb/run-20191123_174521-irxnz7qa/wandb-metadata.json\n",
      "INFO:wandb.run_manager:file/dir modified: /home/workspace/wandb/run-20191123_174521-irxnz7qa/wandb-summary.json\n",
      "INFO:wandb.run_manager:file/dir modified: /home/workspace/wandb/run-20191123_174521-irxnz7qa/wandb-history.jsonl\n"
     ]
    },
    {
     "name": "stdout",
     "output_type": "stream",
     "text": [
      "\r",
      "Episode 35\tAverage Score: 1.368, score: 4.589"
     ]
    },
    {
     "name": "stderr",
     "output_type": "stream",
     "text": [
      "INFO:wandb.run_manager:file/dir modified: /home/workspace/wandb/run-20191123_174521-irxnz7qa/wandb-metadata.json\n",
      "INFO:wandb.run_manager:file/dir modified: /home/workspace/wandb/run-20191123_174521-irxnz7qa/wandb-events.jsonl\n"
     ]
    },
    {
     "name": "stdout",
     "output_type": "stream",
     "text": [
      "\r",
      "Episode 36\tAverage Score: 1.497, score: 6.002"
     ]
    },
    {
     "name": "stderr",
     "output_type": "stream",
     "text": [
      "INFO:wandb.run_manager:file/dir modified: /home/workspace/wandb/run-20191123_174521-irxnz7qa/wandb-summary.json\n",
      "INFO:wandb.run_manager:file/dir modified: /home/workspace/wandb/run-20191123_174521-irxnz7qa/wandb-history.jsonl\n",
      "INFO:wandb.run_manager:file/dir modified: /home/workspace/wandb/run-20191123_174521-irxnz7qa/wandb-summary.json\n",
      "INFO:wandb.run_manager:file/dir modified: /home/workspace/wandb/run-20191123_174521-irxnz7qa/wandb-metadata.json\n",
      "INFO:wandb.run_manager:file/dir modified: /home/workspace/wandb/run-20191123_174521-irxnz7qa/wandb-history.jsonl\n"
     ]
    },
    {
     "name": "stdout",
     "output_type": "stream",
     "text": [
      "Episode 38\tAverage Score: 1.898, score: 9.946"
     ]
    },
    {
     "name": "stderr",
     "output_type": "stream",
     "text": [
      "INFO:wandb.run_manager:file/dir modified: /home/workspace/wandb/run-20191123_174521-irxnz7qa/wandb-summary.json\n",
      "INFO:wandb.run_manager:file/dir modified: /home/workspace/wandb/run-20191123_174521-irxnz7qa/wandb-history.jsonl\n",
      "INFO:wandb.run_manager:file/dir modified: /home/workspace/wandb/run-20191123_174521-irxnz7qa/wandb-events.jsonl\n",
      "INFO:wandb.run_manager:file/dir modified: /home/workspace/wandb/run-20191123_174521-irxnz7qa/wandb-metadata.json\n"
     ]
    },
    {
     "name": "stdout",
     "output_type": "stream",
     "text": [
      "\r",
      "Episode 39\tAverage Score: 2.116, score: 10.42"
     ]
    },
    {
     "name": "stderr",
     "output_type": "stream",
     "text": [
      "INFO:wandb.run_manager:file/dir modified: /home/workspace/wandb/run-20191123_174521-irxnz7qa/wandb-summary.json\n",
      "INFO:wandb.run_manager:file/dir modified: /home/workspace/wandb/run-20191123_174521-irxnz7qa/wandb-history.jsonl\n",
      "INFO:wandb.run_manager:file/dir modified: /home/workspace/wandb/run-20191123_174521-irxnz7qa/wandb-metadata.json\n"
     ]
    },
    {
     "name": "stdout",
     "output_type": "stream",
     "text": [
      "\r",
      "Episode 40\tAverage Score: 2.35, score: 11.446"
     ]
    },
    {
     "name": "stderr",
     "output_type": "stream",
     "text": [
      "INFO:wandb.run_manager:file/dir modified: /home/workspace/wandb/run-20191123_174521-irxnz7qa/wandb-summary.json\n",
      "INFO:wandb.run_manager:file/dir modified: /home/workspace/wandb/run-20191123_174521-irxnz7qa/wandb-history.jsonl\n",
      "INFO:wandb.run_manager:file/dir modified: /home/workspace/wandb/run-20191123_174521-irxnz7qa/wandb-events.jsonl\n",
      "INFO:wandb.run_manager:file/dir modified: /home/workspace/wandb/run-20191123_174521-irxnz7qa/wandb-metadata.json\n",
      "INFO:wandb.run_manager:file/dir modified: /home/workspace/wandb/run-20191123_174521-irxnz7qa/wandb-summary.json\n",
      "INFO:wandb.run_manager:file/dir modified: /home/workspace/wandb/run-20191123_174521-irxnz7qa/wandb-history.jsonl\n"
     ]
    },
    {
     "name": "stdout",
     "output_type": "stream",
     "text": [
      "\r",
      "Episode 41\tAverage Score: 2.605, score: 12.831"
     ]
    },
    {
     "name": "stderr",
     "output_type": "stream",
     "text": [
      "INFO:wandb.run_manager:file/dir modified: /home/workspace/wandb/run-20191123_174521-irxnz7qa/wandb-metadata.json\n"
     ]
    },
    {
     "name": "stdout",
     "output_type": "stream",
     "text": [
      "\r",
      "Episode 42\tAverage Score: 2.862, score: 13.368"
     ]
    },
    {
     "name": "stderr",
     "output_type": "stream",
     "text": [
      "INFO:wandb.run_manager:file/dir modified: /home/workspace/wandb/run-20191123_174521-irxnz7qa/wandb-summary.json\n",
      "INFO:wandb.run_manager:file/dir modified: /home/workspace/wandb/run-20191123_174521-irxnz7qa/wandb-history.jsonl\n",
      "INFO:wandb.run_manager:file/dir modified: /home/workspace/wandb/run-20191123_174521-irxnz7qa/wandb-events.jsonl\n",
      "INFO:wandb.run_manager:file/dir modified: /home/workspace/wandb/run-20191123_174521-irxnz7qa/wandb-metadata.json\n"
     ]
    },
    {
     "name": "stdout",
     "output_type": "stream",
     "text": [
      "\r",
      "Episode 43\tAverage Score: 3.236, score: 18.954"
     ]
    },
    {
     "name": "stderr",
     "output_type": "stream",
     "text": [
      "INFO:wandb.run_manager:file/dir modified: /home/workspace/wandb/run-20191123_174521-irxnz7qa/wandb-summary.json\n",
      "INFO:wandb.run_manager:file/dir modified: /home/workspace/wandb/run-20191123_174521-irxnz7qa/wandb-history.jsonl\n"
     ]
    },
    {
     "name": "stdout",
     "output_type": "stream",
     "text": [
      "\r",
      "Episode 44\tAverage Score: 3.542, score: 16.726"
     ]
    },
    {
     "name": "stderr",
     "output_type": "stream",
     "text": [
      "INFO:wandb.run_manager:file/dir modified: /home/workspace/wandb/run-20191123_174521-irxnz7qa/wandb-summary.json\n",
      "INFO:wandb.run_manager:file/dir modified: /home/workspace/wandb/run-20191123_174521-irxnz7qa/wandb-history.jsonl\n",
      "INFO:wandb.run_manager:file/dir modified: /home/workspace/wandb/run-20191123_174521-irxnz7qa/wandb-metadata.json\n",
      "INFO:wandb.run_manager:file/dir modified: /home/workspace/wandb/run-20191123_174521-irxnz7qa/wandb-events.jsonl\n"
     ]
    },
    {
     "name": "stdout",
     "output_type": "stream",
     "text": [
      "\r",
      "Episode 45\tAverage Score: 3.901, score: 19.686"
     ]
    },
    {
     "name": "stderr",
     "output_type": "stream",
     "text": [
      "INFO:wandb.run_manager:file/dir modified: /home/workspace/wandb/run-20191123_174521-irxnz7qa/wandb-summary.json\n",
      "INFO:wandb.run_manager:file/dir modified: /home/workspace/wandb/run-20191123_174521-irxnz7qa/wandb-history.jsonl\n",
      "INFO:wandb.run_manager:file/dir modified: /home/workspace/wandb/run-20191123_174521-irxnz7qa/wandb-metadata.json\n"
     ]
    },
    {
     "name": "stdout",
     "output_type": "stream",
     "text": [
      "\r",
      "Episode 46\tAverage Score: 4.235, score: 19.27"
     ]
    },
    {
     "name": "stderr",
     "output_type": "stream",
     "text": [
      "INFO:wandb.run_manager:file/dir modified: /home/workspace/wandb/run-20191123_174521-irxnz7qa/wandb-summary.json\n",
      "INFO:wandb.run_manager:file/dir modified: /home/workspace/wandb/run-20191123_174521-irxnz7qa/wandb-history.jsonl\n",
      "INFO:wandb.run_manager:file/dir modified: /home/workspace/wandb/run-20191123_174521-irxnz7qa/wandb-metadata.json\n"
     ]
    },
    {
     "name": "stdout",
     "output_type": "stream",
     "text": [
      "\r",
      "Episode 47\tAverage Score: 4.59, score: 20.916"
     ]
    },
    {
     "name": "stderr",
     "output_type": "stream",
     "text": [
      "INFO:wandb.run_manager:file/dir modified: /home/workspace/wandb/run-20191123_174521-irxnz7qa/wandb-summary.json\n",
      "INFO:wandb.run_manager:file/dir modified: /home/workspace/wandb/run-20191123_174521-irxnz7qa/wandb-history.jsonl\n",
      "INFO:wandb.run_manager:file/dir modified: /home/workspace/wandb/run-20191123_174521-irxnz7qa/wandb-events.jsonl\n",
      "INFO:wandb.run_manager:file/dir modified: /home/workspace/wandb/run-20191123_174521-irxnz7qa/wandb-metadata.json\n"
     ]
    },
    {
     "name": "stdout",
     "output_type": "stream",
     "text": [
      "\r",
      "Episode 48\tAverage Score: 4.968, score: 22.739"
     ]
    },
    {
     "name": "stderr",
     "output_type": "stream",
     "text": [
      "INFO:wandb.run_manager:file/dir modified: /home/workspace/wandb/run-20191123_174521-irxnz7qa/wandb-summary.json\n",
      "INFO:wandb.run_manager:file/dir modified: /home/workspace/wandb/run-20191123_174521-irxnz7qa/wandb-history.jsonl\n",
      "INFO:wandb.run_manager:file/dir modified: /home/workspace/wandb/run-20191123_174521-irxnz7qa/wandb-metadata.json\n"
     ]
    },
    {
     "name": "stdout",
     "output_type": "stream",
     "text": [
      "\r",
      "Episode 49\tAverage Score: 5.306, score: 21.539"
     ]
    },
    {
     "name": "stderr",
     "output_type": "stream",
     "text": [
      "INFO:wandb.run_manager:file/dir modified: /home/workspace/wandb/run-20191123_174521-irxnz7qa/wandb-summary.json\n",
      "INFO:wandb.run_manager:file/dir modified: /home/workspace/wandb/run-20191123_174521-irxnz7qa/wandb-history.jsonl\n",
      "INFO:wandb.run_manager:file/dir modified: /home/workspace/wandb/run-20191123_174521-irxnz7qa/wandb-events.jsonl\n"
     ]
    },
    {
     "name": "stdout",
     "output_type": "stream",
     "text": [
      "\r",
      "Episode 50\tAverage Score: 5.701, score: 25.058"
     ]
    },
    {
     "name": "stderr",
     "output_type": "stream",
     "text": [
      "INFO:wandb.run_manager:file/dir modified: /home/workspace/wandb/run-20191123_174521-irxnz7qa/wandb-summary.json\n",
      "INFO:wandb.run_manager:file/dir modified: /home/workspace/wandb/run-20191123_174521-irxnz7qa/wandb-metadata.json\n",
      "INFO:wandb.run_manager:file/dir modified: /home/workspace/wandb/run-20191123_174521-irxnz7qa/wandb-history.jsonl\n"
     ]
    },
    {
     "name": "stdout",
     "output_type": "stream",
     "text": [
      "\r",
      "Episode 51\tAverage Score: 6.071, score: 24.555"
     ]
    },
    {
     "name": "stderr",
     "output_type": "stream",
     "text": [
      "INFO:wandb.run_manager:file/dir modified: /home/workspace/wandb/run-20191123_174521-irxnz7qa/wandb-summary.json\n",
      "INFO:wandb.run_manager:file/dir modified: /home/workspace/wandb/run-20191123_174521-irxnz7qa/wandb-history.jsonl\n",
      "INFO:wandb.run_manager:file/dir modified: /home/workspace/wandb/run-20191123_174521-irxnz7qa/wandb-metadata.json\n",
      "INFO:wandb.run_manager:file/dir modified: /home/workspace/wandb/run-20191123_174521-irxnz7qa/wandb-events.jsonl\n"
     ]
    },
    {
     "name": "stdout",
     "output_type": "stream",
     "text": [
      "\r",
      "Episode 52\tAverage Score: 6.467, score: 26.631"
     ]
    },
    {
     "name": "stderr",
     "output_type": "stream",
     "text": [
      "INFO:wandb.run_manager:file/dir modified: /home/workspace/wandb/run-20191123_174521-irxnz7qa/wandb-summary.json\n",
      "INFO:wandb.run_manager:file/dir modified: /home/workspace/wandb/run-20191123_174521-irxnz7qa/wandb-history.jsonl\n",
      "INFO:wandb.run_manager:file/dir modified: /home/workspace/wandb/run-20191123_174521-irxnz7qa/wandb-metadata.json\n"
     ]
    },
    {
     "name": "stdout",
     "output_type": "stream",
     "text": [
      "\r",
      "Episode 53\tAverage Score: 6.807, score: 24.499"
     ]
    },
    {
     "name": "stderr",
     "output_type": "stream",
     "text": [
      "INFO:wandb.run_manager:file/dir modified: /home/workspace/wandb/run-20191123_174521-irxnz7qa/wandb-summary.json\n",
      "INFO:wandb.run_manager:file/dir modified: /home/workspace/wandb/run-20191123_174521-irxnz7qa/wandb-history.jsonl\n",
      "INFO:wandb.run_manager:file/dir modified: /home/workspace/wandb/run-20191123_174521-irxnz7qa/wandb-metadata.json\n",
      "INFO:wandb.run_manager:file/dir modified: /home/workspace/wandb/run-20191123_174521-irxnz7qa/wandb-events.jsonl\n"
     ]
    },
    {
     "name": "stdout",
     "output_type": "stream",
     "text": [
      "\r",
      "Episode 54\tAverage Score: 7.208, score: 28.466"
     ]
    },
    {
     "name": "stderr",
     "output_type": "stream",
     "text": [
      "INFO:wandb.run_manager:file/dir modified: /home/workspace/wandb/run-20191123_174521-irxnz7qa/wandb-summary.json\n",
      "INFO:wandb.run_manager:file/dir modified: /home/workspace/wandb/run-20191123_174521-irxnz7qa/wandb-history.jsonl\n",
      "INFO:wandb.run_manager:file/dir modified: /home/workspace/wandb/run-20191123_174521-irxnz7qa/wandb-metadata.json\n",
      "INFO:wandb.run_manager:file/dir modified: /home/workspace/wandb/run-20191123_174521-irxnz7qa/wandb-summary.json\n",
      "INFO:wandb.run_manager:file/dir modified: /home/workspace/wandb/run-20191123_174521-irxnz7qa/wandb-history.jsonl\n"
     ]
    },
    {
     "name": "stdout",
     "output_type": "stream",
     "text": [
      "\r",
      "Episode 55\tAverage Score: 7.587, score: 28.083"
     ]
    },
    {
     "name": "stderr",
     "output_type": "stream",
     "text": [
      "INFO:wandb.run_manager:file/dir modified: /home/workspace/wandb/run-20191123_174521-irxnz7qa/wandb-metadata.json\n",
      "INFO:wandb.run_manager:file/dir modified: /home/workspace/wandb/run-20191123_174521-irxnz7qa/wandb-events.jsonl\n"
     ]
    },
    {
     "name": "stdout",
     "output_type": "stream",
     "text": [
      "\r",
      "Episode 56\tAverage Score: 7.958, score: 28.352"
     ]
    },
    {
     "name": "stderr",
     "output_type": "stream",
     "text": [
      "INFO:wandb.run_manager:file/dir modified: /home/workspace/wandb/run-20191123_174521-irxnz7qa/wandb-summary.json\n",
      "INFO:wandb.run_manager:file/dir modified: /home/workspace/wandb/run-20191123_174521-irxnz7qa/wandb-history.jsonl\n"
     ]
    },
    {
     "name": "stdout",
     "output_type": "stream",
     "text": [
      "\r",
      "Episode 57\tAverage Score: 8.32, score: 28.569"
     ]
    },
    {
     "name": "stderr",
     "output_type": "stream",
     "text": [
      "INFO:wandb.run_manager:file/dir modified: /home/workspace/wandb/run-20191123_174521-irxnz7qa/wandb-summary.json\n",
      "INFO:wandb.run_manager:file/dir modified: /home/workspace/wandb/run-20191123_174521-irxnz7qa/wandb-history.jsonl\n",
      "INFO:wandb.run_manager:file/dir modified: /home/workspace/wandb/run-20191123_174521-irxnz7qa/wandb-metadata.json\n",
      "INFO:wandb.run_manager:file/dir modified: /home/workspace/wandb/run-20191123_174521-irxnz7qa/wandb-summary.json\n",
      "INFO:wandb.run_manager:file/dir modified: /home/workspace/wandb/run-20191123_174521-irxnz7qa/wandb-history.jsonl\n"
     ]
    },
    {
     "name": "stdout",
     "output_type": "stream",
     "text": [
      "\r",
      "Episode 58\tAverage Score: 8.661, score: 28.127"
     ]
    },
    {
     "name": "stderr",
     "output_type": "stream",
     "text": [
      "INFO:wandb.run_manager:file/dir modified: /home/workspace/wandb/run-20191123_174521-irxnz7qa/wandb-events.jsonl\n",
      "INFO:wandb.run_manager:file/dir modified: /home/workspace/wandb/run-20191123_174521-irxnz7qa/wandb-metadata.json\n"
     ]
    },
    {
     "name": "stdout",
     "output_type": "stream",
     "text": [
      "\r",
      "Episode 59\tAverage Score: 9.007, score: 29.077"
     ]
    },
    {
     "name": "stderr",
     "output_type": "stream",
     "text": [
      "INFO:wandb.run_manager:file/dir modified: /home/workspace/wandb/run-20191123_174521-irxnz7qa/wandb-summary.json\n",
      "INFO:wandb.run_manager:file/dir modified: /home/workspace/wandb/run-20191123_174521-irxnz7qa/wandb-history.jsonl\n",
      "INFO:wandb.run_manager:file/dir modified: /home/workspace/wandb/run-20191123_174521-irxnz7qa/wandb-metadata.json\n"
     ]
    },
    {
     "name": "stdout",
     "output_type": "stream",
     "text": [
      "\r",
      "Episode 60\tAverage Score: 9.443, score: 35.164"
     ]
    },
    {
     "name": "stderr",
     "output_type": "stream",
     "text": [
      "INFO:wandb.run_manager:file/dir modified: /home/workspace/wandb/run-20191123_174521-irxnz7qa/wandb-summary.json\n",
      "INFO:wandb.run_manager:file/dir modified: /home/workspace/wandb/run-20191123_174521-irxnz7qa/wandb-history.jsonl\n",
      "INFO:wandb.run_manager:file/dir modified: /home/workspace/wandb/run-20191123_174521-irxnz7qa/wandb-events.jsonl\n",
      "INFO:wandb.run_manager:file/dir modified: /home/workspace/wandb/run-20191123_174521-irxnz7qa/wandb-metadata.json\n"
     ]
    },
    {
     "name": "stdout",
     "output_type": "stream",
     "text": [
      "\r",
      "Episode 61\tAverage Score: 9.844, score: 33.907"
     ]
    },
    {
     "name": "stderr",
     "output_type": "stream",
     "text": [
      "INFO:wandb.run_manager:file/dir modified: /home/workspace/wandb/run-20191123_174521-irxnz7qa/wandb-summary.json\n",
      "INFO:wandb.run_manager:file/dir modified: /home/workspace/wandb/run-20191123_174521-irxnz7qa/wandb-history.jsonl\n",
      "INFO:wandb.run_manager:file/dir modified: /home/workspace/wandb/run-20191123_174521-irxnz7qa/wandb-metadata.json\n",
      "INFO:wandb.run_manager:file/dir modified: /home/workspace/wandb/run-20191123_174521-irxnz7qa/wandb-summary.json\n",
      "INFO:wandb.run_manager:file/dir modified: /home/workspace/wandb/run-20191123_174521-irxnz7qa/wandb-history.jsonl\n"
     ]
    },
    {
     "name": "stdout",
     "output_type": "stream",
     "text": [
      "\r",
      "Episode 62\tAverage Score: 10.27, score: 36.224"
     ]
    },
    {
     "name": "stderr",
     "output_type": "stream",
     "text": [
      "INFO:wandb.run_manager:file/dir modified: /home/workspace/wandb/run-20191123_174521-irxnz7qa/wandb-events.jsonl\n",
      "INFO:wandb.run_manager:file/dir modified: /home/workspace/wandb/run-20191123_174521-irxnz7qa/wandb-metadata.json\n"
     ]
    },
    {
     "name": "stdout",
     "output_type": "stream",
     "text": [
      "\r",
      "Episode 63\tAverage Score: 10.681, score: 36.199"
     ]
    },
    {
     "name": "stderr",
     "output_type": "stream",
     "text": [
      "INFO:wandb.run_manager:file/dir modified: /home/workspace/wandb/run-20191123_174521-irxnz7qa/wandb-summary.json\n",
      "INFO:wandb.run_manager:file/dir modified: /home/workspace/wandb/run-20191123_174521-irxnz7qa/wandb-history.jsonl\n"
     ]
    },
    {
     "name": "stdout",
     "output_type": "stream",
     "text": [
      "\r",
      "Episode 64\tAverage Score: 11.091, score: 36.876"
     ]
    },
    {
     "name": "stderr",
     "output_type": "stream",
     "text": [
      "INFO:wandb.run_manager:file/dir modified: /home/workspace/wandb/run-20191123_174521-irxnz7qa/wandb-summary.json\n",
      "INFO:wandb.run_manager:file/dir modified: /home/workspace/wandb/run-20191123_174521-irxnz7qa/wandb-history.jsonl\n",
      "INFO:wandb.run_manager:file/dir modified: /home/workspace/wandb/run-20191123_174521-irxnz7qa/wandb-metadata.json\n",
      "INFO:wandb.run_manager:file/dir modified: /home/workspace/wandb/run-20191123_174521-irxnz7qa/wandb-events.jsonl\n"
     ]
    },
    {
     "name": "stdout",
     "output_type": "stream",
     "text": [
      "\r",
      "Episode 65\tAverage Score: 11.493, score: 37.207"
     ]
    },
    {
     "name": "stderr",
     "output_type": "stream",
     "text": [
      "INFO:wandb.run_manager:file/dir modified: /home/workspace/wandb/run-20191123_174521-irxnz7qa/wandb-summary.json\n",
      "INFO:wandb.run_manager:file/dir modified: /home/workspace/wandb/run-20191123_174521-irxnz7qa/wandb-history.jsonl\n",
      "INFO:wandb.run_manager:file/dir modified: /home/workspace/wandb/run-20191123_174521-irxnz7qa/wandb-metadata.json\n"
     ]
    },
    {
     "name": "stdout",
     "output_type": "stream",
     "text": [
      "\r",
      "Episode 66\tAverage Score: 11.878, score: 36.955"
     ]
    },
    {
     "name": "stderr",
     "output_type": "stream",
     "text": [
      "INFO:wandb.run_manager:file/dir modified: /home/workspace/wandb/run-20191123_174521-irxnz7qa/wandb-summary.json\n",
      "INFO:wandb.run_manager:file/dir modified: /home/workspace/wandb/run-20191123_174521-irxnz7qa/wandb-history.jsonl\n",
      "INFO:wandb.run_manager:file/dir modified: /home/workspace/wandb/run-20191123_174521-irxnz7qa/wandb-metadata.json\n",
      "INFO:wandb.run_manager:file/dir modified: /home/workspace/wandb/run-20191123_174521-irxnz7qa/wandb-events.jsonl\n",
      "INFO:wandb.run_manager:file/dir modified: /home/workspace/wandb/run-20191123_174521-irxnz7qa/wandb-summary.json\n",
      "INFO:wandb.run_manager:file/dir modified: /home/workspace/wandb/run-20191123_174521-irxnz7qa/wandb-history.jsonl\n"
     ]
    },
    {
     "name": "stdout",
     "output_type": "stream",
     "text": [
      "\r",
      "Episode 67\tAverage Score: 12.26, score: 37.466"
     ]
    },
    {
     "name": "stderr",
     "output_type": "stream",
     "text": [
      "INFO:wandb.run_manager:file/dir modified: /home/workspace/wandb/run-20191123_174521-irxnz7qa/wandb-metadata.json\n"
     ]
    },
    {
     "name": "stdout",
     "output_type": "stream",
     "text": [
      "\r",
      "Episode 68\tAverage Score: 12.616, score: 36.458"
     ]
    },
    {
     "name": "stderr",
     "output_type": "stream",
     "text": [
      "INFO:wandb.run_manager:file/dir modified: /home/workspace/wandb/run-20191123_174521-irxnz7qa/wandb-summary.json\n",
      "INFO:wandb.run_manager:file/dir modified: /home/workspace/wandb/run-20191123_174521-irxnz7qa/wandb-history.jsonl\n",
      "INFO:wandb.run_manager:file/dir modified: /home/workspace/wandb/run-20191123_174521-irxnz7qa/wandb-metadata.json\n"
     ]
    },
    {
     "name": "stdout",
     "output_type": "stream",
     "text": [
      "\r",
      "Episode 69\tAverage Score: 12.976, score: 37.474"
     ]
    },
    {
     "name": "stderr",
     "output_type": "stream",
     "text": [
      "INFO:wandb.run_manager:file/dir modified: /home/workspace/wandb/run-20191123_174521-irxnz7qa/wandb-summary.json\n",
      "INFO:wandb.run_manager:file/dir modified: /home/workspace/wandb/run-20191123_174521-irxnz7qa/wandb-history.jsonl\n",
      "INFO:wandb.run_manager:file/dir modified: /home/workspace/wandb/run-20191123_174521-irxnz7qa/wandb-events.jsonl\n",
      "INFO:wandb.run_manager:file/dir modified: /home/workspace/wandb/run-20191123_174521-irxnz7qa/wandb-summary.json\n",
      "INFO:wandb.run_manager:file/dir modified: /home/workspace/wandb/run-20191123_174521-irxnz7qa/wandb-metadata.json\n",
      "INFO:wandb.run_manager:file/dir modified: /home/workspace/wandb/run-20191123_174521-irxnz7qa/wandb-history.jsonl\n"
     ]
    },
    {
     "name": "stdout",
     "output_type": "stream",
     "text": [
      "Episode 71\tAverage Score: 13.654, score: 36.982"
     ]
    },
    {
     "name": "stderr",
     "output_type": "stream",
     "text": [
      "INFO:wandb.run_manager:file/dir modified: /home/workspace/wandb/run-20191123_174521-irxnz7qa/wandb-summary.json\n",
      "INFO:wandb.run_manager:file/dir modified: /home/workspace/wandb/run-20191123_174521-irxnz7qa/wandb-history.jsonl\n",
      "INFO:wandb.run_manager:file/dir modified: /home/workspace/wandb/run-20191123_174521-irxnz7qa/wandb-metadata.json\n",
      "INFO:wandb.run_manager:file/dir modified: /home/workspace/wandb/run-20191123_174521-irxnz7qa/wandb-events.jsonl\n",
      "INFO:wandb.run_manager:file/dir modified: /home/workspace/wandb/run-20191123_174521-irxnz7qa/wandb-summary.json\n",
      "INFO:wandb.run_manager:file/dir modified: /home/workspace/wandb/run-20191123_174521-irxnz7qa/wandb-history.jsonl\n"
     ]
    },
    {
     "name": "stdout",
     "output_type": "stream",
     "text": [
      "\r",
      "Episode 72\tAverage Score: 13.978, score: 36.948"
     ]
    },
    {
     "name": "stderr",
     "output_type": "stream",
     "text": [
      "INFO:wandb.run_manager:file/dir modified: /home/workspace/wandb/run-20191123_174521-irxnz7qa/wandb-metadata.json\n"
     ]
    },
    {
     "name": "stdout",
     "output_type": "stream",
     "text": [
      "\r",
      "Episode 73\tAverage Score: 14.299, score: 37.428"
     ]
    },
    {
     "name": "stderr",
     "output_type": "stream",
     "text": [
      "INFO:wandb.run_manager:file/dir modified: /home/workspace/wandb/run-20191123_174521-irxnz7qa/wandb-summary.json\n",
      "INFO:wandb.run_manager:file/dir modified: /home/workspace/wandb/run-20191123_174521-irxnz7qa/wandb-history.jsonl\n",
      "INFO:wandb.run_manager:file/dir modified: /home/workspace/wandb/run-20191123_174521-irxnz7qa/wandb-metadata.json\n",
      "INFO:wandb.run_manager:file/dir modified: /home/workspace/wandb/run-20191123_174521-irxnz7qa/wandb-events.jsonl\n"
     ]
    },
    {
     "name": "stdout",
     "output_type": "stream",
     "text": [
      "\r",
      "Episode 74\tAverage Score: 14.611, score: 37.361"
     ]
    },
    {
     "name": "stderr",
     "output_type": "stream",
     "text": [
      "INFO:wandb.run_manager:file/dir modified: /home/workspace/wandb/run-20191123_174521-irxnz7qa/wandb-summary.json\n",
      "INFO:wandb.run_manager:file/dir modified: /home/workspace/wandb/run-20191123_174521-irxnz7qa/wandb-history.jsonl\n",
      "INFO:wandb.run_manager:file/dir modified: /home/workspace/wandb/run-20191123_174521-irxnz7qa/wandb-metadata.json\n"
     ]
    },
    {
     "name": "stdout",
     "output_type": "stream",
     "text": [
      "\r",
      "Episode 75\tAverage Score: 14.92, score: 37.77"
     ]
    },
    {
     "name": "stderr",
     "output_type": "stream",
     "text": [
      "INFO:wandb.run_manager:file/dir modified: /home/workspace/wandb/run-20191123_174521-irxnz7qa/wandb-summary.json\n",
      "INFO:wandb.run_manager:file/dir modified: /home/workspace/wandb/run-20191123_174521-irxnz7qa/wandb-history.jsonl\n",
      "INFO:wandb.run_manager:file/dir modified: /home/workspace/wandb/run-20191123_174521-irxnz7qa/wandb-events.jsonl\n",
      "INFO:wandb.run_manager:file/dir modified: /home/workspace/wandb/run-20191123_174521-irxnz7qa/wandb-metadata.json\n"
     ]
    },
    {
     "name": "stdout",
     "output_type": "stream",
     "text": [
      "\r",
      "Episode 76\tAverage Score: 15.218, score: 37.561"
     ]
    },
    {
     "name": "stderr",
     "output_type": "stream",
     "text": [
      "INFO:wandb.run_manager:file/dir modified: /home/workspace/wandb/run-20191123_174521-irxnz7qa/wandb-summary.json\n",
      "INFO:wandb.run_manager:file/dir modified: /home/workspace/wandb/run-20191123_174521-irxnz7qa/wandb-history.jsonl\n"
     ]
    },
    {
     "name": "stdout",
     "output_type": "stream",
     "text": [
      "\r",
      "Episode 77\tAverage Score: 15.503, score: 37.176"
     ]
    },
    {
     "name": "stderr",
     "output_type": "stream",
     "text": [
      "INFO:wandb.run_manager:file/dir modified: /home/workspace/wandb/run-20191123_174521-irxnz7qa/wandb-summary.json\n",
      "INFO:wandb.run_manager:file/dir modified: /home/workspace/wandb/run-20191123_174521-irxnz7qa/wandb-history.jsonl\n",
      "INFO:wandb.run_manager:file/dir modified: /home/workspace/wandb/run-20191123_174521-irxnz7qa/wandb-metadata.json\n"
     ]
    },
    {
     "name": "stdout",
     "output_type": "stream",
     "text": [
      "\r",
      "Episode 78\tAverage Score: 15.782, score: 37.28"
     ]
    },
    {
     "name": "stderr",
     "output_type": "stream",
     "text": [
      "INFO:wandb.run_manager:file/dir modified: /home/workspace/wandb/run-20191123_174521-irxnz7qa/wandb-summary.json\n",
      "INFO:wandb.run_manager:file/dir modified: /home/workspace/wandb/run-20191123_174521-irxnz7qa/wandb-history.jsonl\n",
      "INFO:wandb.run_manager:file/dir modified: /home/workspace/wandb/run-20191123_174521-irxnz7qa/wandb-events.jsonl\n",
      "INFO:wandb.run_manager:file/dir modified: /home/workspace/wandb/run-20191123_174521-irxnz7qa/wandb-metadata.json\n"
     ]
    },
    {
     "name": "stdout",
     "output_type": "stream",
     "text": [
      "\r",
      "Episode 79\tAverage Score: 16.055, score: 37.345"
     ]
    },
    {
     "name": "stderr",
     "output_type": "stream",
     "text": [
      "INFO:wandb.run_manager:file/dir modified: /home/workspace/wandb/run-20191123_174521-irxnz7qa/wandb-summary.json\n",
      "INFO:wandb.run_manager:file/dir modified: /home/workspace/wandb/run-20191123_174521-irxnz7qa/wandb-history.jsonl\n",
      "INFO:wandb.run_manager:file/dir modified: /home/workspace/wandb/run-20191123_174521-irxnz7qa/wandb-metadata.json\n"
     ]
    },
    {
     "name": "stdout",
     "output_type": "stream",
     "text": [
      "\r",
      "Episode 80\tAverage Score: 16.321, score: 37.316"
     ]
    },
    {
     "name": "stderr",
     "output_type": "stream",
     "text": [
      "INFO:wandb.run_manager:file/dir modified: /home/workspace/wandb/run-20191123_174521-irxnz7qa/wandb-summary.json\n",
      "INFO:wandb.run_manager:file/dir modified: /home/workspace/wandb/run-20191123_174521-irxnz7qa/wandb-history.jsonl\n",
      "INFO:wandb.run_manager:file/dir modified: /home/workspace/wandb/run-20191123_174521-irxnz7qa/wandb-events.jsonl\n",
      "INFO:wandb.run_manager:file/dir modified: /home/workspace/wandb/run-20191123_174521-irxnz7qa/wandb-metadata.json\n",
      "INFO:wandb.run_manager:file/dir modified: /home/workspace/wandb/run-20191123_174521-irxnz7qa/wandb-summary.json\n",
      "INFO:wandb.run_manager:file/dir modified: /home/workspace/wandb/run-20191123_174521-irxnz7qa/wandb-history.jsonl\n"
     ]
    },
    {
     "name": "stdout",
     "output_type": "stream",
     "text": [
      "\r",
      "Episode 81\tAverage Score: 16.574, score: 36.822"
     ]
    },
    {
     "name": "stderr",
     "output_type": "stream",
     "text": [
      "INFO:wandb.run_manager:file/dir modified: /home/workspace/wandb/run-20191123_174521-irxnz7qa/wandb-metadata.json\n"
     ]
    },
    {
     "name": "stdout",
     "output_type": "stream",
     "text": [
      "\r",
      "Episode 82\tAverage Score: 16.832, score: 37.739"
     ]
    },
    {
     "name": "stderr",
     "output_type": "stream",
     "text": [
      "INFO:wandb.run_manager:file/dir modified: /home/workspace/wandb/run-20191123_174521-irxnz7qa/wandb-summary.json\n",
      "INFO:wandb.run_manager:file/dir modified: /home/workspace/wandb/run-20191123_174521-irxnz7qa/wandb-history.jsonl\n",
      "INFO:wandb.run_manager:file/dir modified: /home/workspace/wandb/run-20191123_174521-irxnz7qa/wandb-events.jsonl\n"
     ]
    },
    {
     "name": "stdout",
     "output_type": "stream",
     "text": [
      "\r",
      "Episode 83\tAverage Score: 17.077, score: 37.153"
     ]
    },
    {
     "name": "stderr",
     "output_type": "stream",
     "text": [
      "INFO:wandb.run_manager:file/dir modified: /home/workspace/wandb/run-20191123_174521-irxnz7qa/wandb-summary.json\n",
      "INFO:wandb.run_manager:file/dir modified: /home/workspace/wandb/run-20191123_174521-irxnz7qa/wandb-metadata.json\n",
      "INFO:wandb.run_manager:file/dir modified: /home/workspace/wandb/run-20191123_174521-irxnz7qa/wandb-history.jsonl\n"
     ]
    },
    {
     "name": "stdout",
     "output_type": "stream",
     "text": [
      "\r",
      "Episode 84\tAverage Score: 17.314, score: 37.033"
     ]
    },
    {
     "name": "stderr",
     "output_type": "stream",
     "text": [
      "INFO:wandb.run_manager:file/dir modified: /home/workspace/wandb/run-20191123_174521-irxnz7qa/wandb-summary.json\n",
      "INFO:wandb.run_manager:file/dir modified: /home/workspace/wandb/run-20191123_174521-irxnz7qa/wandb-history.jsonl\n",
      "INFO:wandb.run_manager:file/dir modified: /home/workspace/wandb/run-20191123_174521-irxnz7qa/wandb-metadata.json\n",
      "INFO:wandb.run_manager:file/dir modified: /home/workspace/wandb/run-20191123_174521-irxnz7qa/wandb-events.jsonl\n",
      "INFO:wandb.run_manager:file/dir modified: /home/workspace/wandb/run-20191123_174521-irxnz7qa/wandb-summary.json\n",
      "INFO:wandb.run_manager:file/dir modified: /home/workspace/wandb/run-20191123_174521-irxnz7qa/wandb-history.jsonl\n"
     ]
    },
    {
     "name": "stdout",
     "output_type": "stream",
     "text": [
      "\r",
      "Episode 85\tAverage Score: 17.548, score: 37.198"
     ]
    },
    {
     "name": "stderr",
     "output_type": "stream",
     "text": [
      "INFO:wandb.run_manager:file/dir modified: /home/workspace/wandb/run-20191123_174521-irxnz7qa/wandb-metadata.json\n"
     ]
    },
    {
     "name": "stdout",
     "output_type": "stream",
     "text": [
      "\r",
      "Episode 86\tAverage Score: 17.779, score: 37.398"
     ]
    },
    {
     "name": "stderr",
     "output_type": "stream",
     "text": [
      "INFO:wandb.run_manager:file/dir modified: /home/workspace/wandb/run-20191123_174521-irxnz7qa/wandb-summary.json\n",
      "INFO:wandb.run_manager:file/dir modified: /home/workspace/wandb/run-20191123_174521-irxnz7qa/wandb-history.jsonl\n",
      "INFO:wandb.run_manager:file/dir modified: /home/workspace/wandb/run-20191123_174521-irxnz7qa/wandb-metadata.json\n",
      "INFO:wandb.run_manager:file/dir modified: /home/workspace/wandb/run-20191123_174521-irxnz7qa/wandb-summary.json\n",
      "INFO:wandb.run_manager:file/dir modified: /home/workspace/wandb/run-20191123_174521-irxnz7qa/wandb-history.jsonl\n",
      "INFO:wandb.run_manager:file/dir modified: /home/workspace/wandb/run-20191123_174521-irxnz7qa/wandb-events.jsonl\n"
     ]
    },
    {
     "name": "stdout",
     "output_type": "stream",
     "text": [
      "\r",
      "Episode 87\tAverage Score: 18.006, score: 37.493"
     ]
    },
    {
     "name": "stderr",
     "output_type": "stream",
     "text": [
      "INFO:wandb.run_manager:file/dir modified: /home/workspace/wandb/run-20191123_174521-irxnz7qa/wandb-metadata.json\n"
     ]
    },
    {
     "name": "stdout",
     "output_type": "stream",
     "text": [
      "\r",
      "Episode 88\tAverage Score: 18.224, score: 37.266"
     ]
    },
    {
     "name": "stderr",
     "output_type": "stream",
     "text": [
      "INFO:wandb.run_manager:file/dir modified: /home/workspace/wandb/run-20191123_174521-irxnz7qa/wandb-summary.json\n",
      "INFO:wandb.run_manager:file/dir modified: /home/workspace/wandb/run-20191123_174521-irxnz7qa/wandb-history.jsonl\n",
      "INFO:wandb.run_manager:file/dir modified: /home/workspace/wandb/run-20191123_174521-irxnz7qa/wandb-metadata.json\n"
     ]
    },
    {
     "name": "stdout",
     "output_type": "stream",
     "text": [
      "\r",
      "Episode 89\tAverage Score: 18.433, score: 36.792"
     ]
    },
    {
     "name": "stderr",
     "output_type": "stream",
     "text": [
      "INFO:wandb.run_manager:file/dir modified: /home/workspace/wandb/run-20191123_174521-irxnz7qa/wandb-summary.json\n",
      "INFO:wandb.run_manager:file/dir modified: /home/workspace/wandb/run-20191123_174521-irxnz7qa/wandb-history.jsonl\n",
      "INFO:wandb.run_manager:file/dir modified: /home/workspace/wandb/run-20191123_174521-irxnz7qa/wandb-events.jsonl\n"
     ]
    },
    {
     "name": "stdout",
     "output_type": "stream",
     "text": [
      "\r",
      "Episode 90\tAverage Score: 18.639, score: 37.005"
     ]
    },
    {
     "name": "stderr",
     "output_type": "stream",
     "text": [
      "INFO:wandb.run_manager:file/dir modified: /home/workspace/wandb/run-20191123_174521-irxnz7qa/wandb-summary.json\n",
      "INFO:wandb.run_manager:file/dir modified: /home/workspace/wandb/run-20191123_174521-irxnz7qa/wandb-history.jsonl\n",
      "INFO:wandb.run_manager:file/dir modified: /home/workspace/wandb/run-20191123_174521-irxnz7qa/wandb-metadata.json\n"
     ]
    },
    {
     "name": "stdout",
     "output_type": "stream",
     "text": [
      "\r",
      "Episode 91\tAverage Score: 18.847, score: 37.511"
     ]
    },
    {
     "name": "stderr",
     "output_type": "stream",
     "text": [
      "INFO:wandb.run_manager:file/dir modified: /home/workspace/wandb/run-20191123_174521-irxnz7qa/wandb-summary.json\n",
      "INFO:wandb.run_manager:file/dir modified: /home/workspace/wandb/run-20191123_174521-irxnz7qa/wandb-history.jsonl\n",
      "INFO:wandb.run_manager:file/dir modified: /home/workspace/wandb/run-20191123_174521-irxnz7qa/wandb-metadata.json\n",
      "INFO:wandb.run_manager:file/dir modified: /home/workspace/wandb/run-20191123_174521-irxnz7qa/wandb-events.jsonl\n",
      "INFO:wandb.run_manager:file/dir modified: /home/workspace/wandb/run-20191123_174521-irxnz7qa/wandb-summary.json\n",
      "INFO:wandb.run_manager:file/dir modified: /home/workspace/wandb/run-20191123_174521-irxnz7qa/wandb-history.jsonl\n"
     ]
    },
    {
     "name": "stdout",
     "output_type": "stream",
     "text": [
      "\r",
      "Episode 92\tAverage Score: 19.044, score: 37.025"
     ]
    },
    {
     "name": "stderr",
     "output_type": "stream",
     "text": [
      "INFO:wandb.run_manager:file/dir modified: /home/workspace/wandb/run-20191123_174521-irxnz7qa/wandb-metadata.json\n"
     ]
    },
    {
     "name": "stdout",
     "output_type": "stream",
     "text": [
      "\r",
      "Episode 93\tAverage Score: 19.242, score: 37.44"
     ]
    },
    {
     "name": "stderr",
     "output_type": "stream",
     "text": [
      "INFO:wandb.run_manager:file/dir modified: /home/workspace/wandb/run-20191123_174521-irxnz7qa/wandb-summary.json\n",
      "INFO:wandb.run_manager:file/dir modified: /home/workspace/wandb/run-20191123_174521-irxnz7qa/wandb-history.jsonl\n",
      "INFO:wandb.run_manager:file/dir modified: /home/workspace/wandb/run-20191123_174521-irxnz7qa/wandb-metadata.json\n",
      "INFO:wandb.run_manager:file/dir modified: /home/workspace/wandb/run-20191123_174521-irxnz7qa/wandb-events.jsonl\n",
      "INFO:wandb.run_manager:file/dir modified: /home/workspace/wandb/run-20191123_174521-irxnz7qa/wandb-summary.json\n",
      "INFO:wandb.run_manager:file/dir modified: /home/workspace/wandb/run-20191123_174521-irxnz7qa/wandb-history.jsonl\n"
     ]
    },
    {
     "name": "stdout",
     "output_type": "stream",
     "text": [
      "\r",
      "Episode 94\tAverage Score: 19.434, score: 37.238"
     ]
    },
    {
     "name": "stderr",
     "output_type": "stream",
     "text": [
      "INFO:wandb.run_manager:file/dir modified: /home/workspace/wandb/run-20191123_174521-irxnz7qa/wandb-metadata.json\n"
     ]
    },
    {
     "name": "stdout",
     "output_type": "stream",
     "text": [
      "\r",
      "Episode 95\tAverage Score: 19.625, score: 37.562"
     ]
    },
    {
     "name": "stderr",
     "output_type": "stream",
     "text": [
      "INFO:wandb.run_manager:file/dir modified: /home/workspace/wandb/run-20191123_174521-irxnz7qa/wandb-summary.json\n",
      "INFO:wandb.run_manager:file/dir modified: /home/workspace/wandb/run-20191123_174521-irxnz7qa/wandb-history.jsonl\n",
      "INFO:wandb.run_manager:file/dir modified: /home/workspace/wandb/run-20191123_174521-irxnz7qa/wandb-events.jsonl\n"
     ]
    },
    {
     "name": "stdout",
     "output_type": "stream",
     "text": [
      "\r",
      "Episode 96\tAverage Score: 19.806, score: 37.081"
     ]
    },
    {
     "name": "stderr",
     "output_type": "stream",
     "text": [
      "INFO:wandb.run_manager:file/dir modified: /home/workspace/wandb/run-20191123_174521-irxnz7qa/wandb-summary.json\n",
      "INFO:wandb.run_manager:file/dir modified: /home/workspace/wandb/run-20191123_174521-irxnz7qa/wandb-history.jsonl\n",
      "INFO:wandb.run_manager:file/dir modified: /home/workspace/wandb/run-20191123_174521-irxnz7qa/wandb-metadata.json\n"
     ]
    },
    {
     "name": "stdout",
     "output_type": "stream",
     "text": [
      "\r",
      "Episode 97\tAverage Score: 19.99, score: 37.61"
     ]
    },
    {
     "name": "stderr",
     "output_type": "stream",
     "text": [
      "INFO:wandb.run_manager:file/dir modified: /home/workspace/wandb/run-20191123_174521-irxnz7qa/wandb-summary.json\n",
      "INFO:wandb.run_manager:file/dir modified: /home/workspace/wandb/run-20191123_174521-irxnz7qa/wandb-history.jsonl\n",
      "INFO:wandb.run_manager:file/dir modified: /home/workspace/wandb/run-20191123_174521-irxnz7qa/wandb-metadata.json\n"
     ]
    },
    {
     "name": "stdout",
     "output_type": "stream",
     "text": [
      "\r",
      "Episode 98\tAverage Score: 20.162, score: 36.827"
     ]
    },
    {
     "name": "stderr",
     "output_type": "stream",
     "text": [
      "INFO:wandb.run_manager:file/dir modified: /home/workspace/wandb/run-20191123_174521-irxnz7qa/wandb-summary.json\n",
      "INFO:wandb.run_manager:file/dir modified: /home/workspace/wandb/run-20191123_174521-irxnz7qa/wandb-history.jsonl\n",
      "INFO:wandb.run_manager:file/dir modified: /home/workspace/wandb/run-20191123_174521-irxnz7qa/wandb-events.jsonl\n",
      "INFO:wandb.run_manager:file/dir modified: /home/workspace/wandb/run-20191123_174521-irxnz7qa/wandb-metadata.json\n"
     ]
    },
    {
     "name": "stdout",
     "output_type": "stream",
     "text": [
      "\r",
      "Episode 99\tAverage Score: 20.33, score: 36.823"
     ]
    },
    {
     "name": "stderr",
     "output_type": "stream",
     "text": [
      "INFO:wandb.run_manager:file/dir modified: /home/workspace/wandb/run-20191123_174521-irxnz7qa/wandb-summary.json\n",
      "INFO:wandb.run_manager:file/dir modified: /home/workspace/wandb/run-20191123_174521-irxnz7qa/wandb-history.jsonl\n",
      "INFO:wandb.run_manager:file/dir modified: /home/workspace/wandb/run-20191123_174521-irxnz7qa/wandb-metadata.json\n"
     ]
    },
    {
     "name": "stdout",
     "output_type": "stream",
     "text": [
      "\r",
      "Episode 100\tAverage Score: 20.496, score: 36.88"
     ]
    },
    {
     "name": "stderr",
     "output_type": "stream",
     "text": [
      "INFO:wandb.run_manager:file/dir modified: /home/workspace/wandb/run-20191123_174521-irxnz7qa/wandb-summary.json\n",
      "INFO:wandb.run_manager:file/dir modified: /home/workspace/wandb/run-20191123_174521-irxnz7qa/wandb-history.jsonl\n"
     ]
    },
    {
     "name": "stdout",
     "output_type": "stream",
     "text": [
      "\r",
      "Episode 100\tAverage Score: 20.496, score: 36.88\n"
     ]
    },
    {
     "name": "stderr",
     "output_type": "stream",
     "text": [
      "INFO:wandb.run_manager:file/dir modified: /home/workspace/wandb/run-20191123_174521-irxnz7qa/wandb-events.jsonl\n",
      "INFO:wandb.run_manager:file/dir modified: /home/workspace/wandb/run-20191123_174521-irxnz7qa/wandb-metadata.json\n"
     ]
    },
    {
     "name": "stdout",
     "output_type": "stream",
     "text": [
      "\r",
      "Episode 101\tAverage Score: 20.854, score: 36.267"
     ]
    },
    {
     "name": "stderr",
     "output_type": "stream",
     "text": [
      "INFO:wandb.run_manager:file/dir modified: /home/workspace/wandb/run-20191123_174521-irxnz7qa/wandb-summary.json\n",
      "INFO:wandb.run_manager:file/dir modified: /home/workspace/wandb/run-20191123_174521-irxnz7qa/wandb-history.jsonl\n",
      "INFO:wandb.run_manager:file/dir modified: /home/workspace/wandb/run-20191123_174521-irxnz7qa/wandb-summary.json\n",
      "INFO:wandb.run_manager:file/dir modified: /home/workspace/wandb/run-20191123_174521-irxnz7qa/wandb-metadata.json\n",
      "INFO:wandb.run_manager:file/dir modified: /home/workspace/wandb/run-20191123_174521-irxnz7qa/wandb-history.jsonl\n"
     ]
    },
    {
     "name": "stdout",
     "output_type": "stream",
     "text": [
      "\r",
      "Episode 102\tAverage Score: 21.216, score: 36.674"
     ]
    },
    {
     "name": "stderr",
     "output_type": "stream",
     "text": [
      "INFO:wandb.run_manager:file/dir modified: /home/workspace/wandb/run-20191123_174521-irxnz7qa/wandb-events.jsonl\n"
     ]
    },
    {
     "name": "stdout",
     "output_type": "stream",
     "text": [
      "\r",
      "Episode 103\tAverage Score: 21.574, score: 36.457"
     ]
    },
    {
     "name": "stderr",
     "output_type": "stream",
     "text": [
      "INFO:wandb.run_manager:file/dir modified: /home/workspace/wandb/run-20191123_174521-irxnz7qa/wandb-summary.json\n",
      "INFO:wandb.run_manager:file/dir modified: /home/workspace/wandb/run-20191123_174521-irxnz7qa/wandb-history.jsonl\n",
      "INFO:wandb.run_manager:file/dir modified: /home/workspace/wandb/run-20191123_174521-irxnz7qa/wandb-metadata.json\n"
     ]
    },
    {
     "name": "stdout",
     "output_type": "stream",
     "text": [
      "\r",
      "Episode 104\tAverage Score: 21.931, score: 36.131"
     ]
    },
    {
     "name": "stderr",
     "output_type": "stream",
     "text": [
      "INFO:wandb.run_manager:file/dir modified: /home/workspace/wandb/run-20191123_174521-irxnz7qa/wandb-summary.json\n",
      "INFO:wandb.run_manager:file/dir modified: /home/workspace/wandb/run-20191123_174521-irxnz7qa/wandb-history.jsonl\n",
      "INFO:wandb.run_manager:file/dir modified: /home/workspace/wandb/run-20191123_174521-irxnz7qa/wandb-metadata.json\n",
      "INFO:wandb.run_manager:file/dir modified: /home/workspace/wandb/run-20191123_174521-irxnz7qa/wandb-events.jsonl\n",
      "INFO:wandb.run_manager:file/dir modified: /home/workspace/wandb/run-20191123_174521-irxnz7qa/wandb-summary.json\n",
      "INFO:wandb.run_manager:file/dir modified: /home/workspace/wandb/run-20191123_174521-irxnz7qa/wandb-history.jsonl\n"
     ]
    },
    {
     "name": "stdout",
     "output_type": "stream",
     "text": [
      "\r",
      "Episode 105\tAverage Score: 22.294, score: 36.593"
     ]
    },
    {
     "name": "stderr",
     "output_type": "stream",
     "text": [
      "INFO:wandb.run_manager:file/dir modified: /home/workspace/wandb/run-20191123_174521-irxnz7qa/wandb-metadata.json\n"
     ]
    },
    {
     "name": "stdout",
     "output_type": "stream",
     "text": [
      "\r",
      "Episode 106\tAverage Score: 22.66, score: 36.721"
     ]
    },
    {
     "name": "stderr",
     "output_type": "stream",
     "text": [
      "INFO:wandb.run_manager:file/dir modified: /home/workspace/wandb/run-20191123_174521-irxnz7qa/wandb-summary.json\n",
      "INFO:wandb.run_manager:file/dir modified: /home/workspace/wandb/run-20191123_174521-irxnz7qa/wandb-history.jsonl\n",
      "INFO:wandb.run_manager:file/dir modified: /home/workspace/wandb/run-20191123_174521-irxnz7qa/wandb-metadata.json\n"
     ]
    },
    {
     "name": "stdout",
     "output_type": "stream",
     "text": [
      "\r",
      "Episode 107\tAverage Score: 23.027, score: 36.868"
     ]
    },
    {
     "name": "stderr",
     "output_type": "stream",
     "text": [
      "INFO:wandb.run_manager:file/dir modified: /home/workspace/wandb/run-20191123_174521-irxnz7qa/wandb-summary.json\n",
      "INFO:wandb.run_manager:file/dir modified: /home/workspace/wandb/run-20191123_174521-irxnz7qa/wandb-history.jsonl\n",
      "INFO:wandb.run_manager:file/dir modified: /home/workspace/wandb/run-20191123_174521-irxnz7qa/wandb-events.jsonl\n",
      "INFO:wandb.run_manager:file/dir modified: /home/workspace/wandb/run-20191123_174521-irxnz7qa/wandb-metadata.json\n"
     ]
    },
    {
     "name": "stdout",
     "output_type": "stream",
     "text": [
      "\r",
      "Episode 108\tAverage Score: 23.384, score: 35.922"
     ]
    },
    {
     "name": "stderr",
     "output_type": "stream",
     "text": [
      "INFO:wandb.run_manager:file/dir modified: /home/workspace/wandb/run-20191123_174521-irxnz7qa/wandb-summary.json\n",
      "INFO:wandb.run_manager:file/dir modified: /home/workspace/wandb/run-20191123_174521-irxnz7qa/wandb-history.jsonl\n"
     ]
    },
    {
     "name": "stdout",
     "output_type": "stream",
     "text": [
      "\r",
      "Episode 109\tAverage Score: 23.75, score: 36.704"
     ]
    },
    {
     "name": "stderr",
     "output_type": "stream",
     "text": [
      "INFO:wandb.run_manager:file/dir modified: /home/workspace/wandb/run-20191123_174521-irxnz7qa/wandb-summary.json\n",
      "INFO:wandb.run_manager:file/dir modified: /home/workspace/wandb/run-20191123_174521-irxnz7qa/wandb-metadata.json\n",
      "INFO:wandb.run_manager:file/dir modified: /home/workspace/wandb/run-20191123_174521-irxnz7qa/wandb-history.jsonl\n",
      "INFO:wandb.run_manager:file/dir modified: /home/workspace/wandb/run-20191123_174521-irxnz7qa/wandb-events.jsonl\n",
      "INFO:wandb.run_manager:file/dir modified: /home/workspace/wandb/run-20191123_174521-irxnz7qa/wandb-summary.json\n",
      "INFO:wandb.run_manager:file/dir modified: /home/workspace/wandb/run-20191123_174521-irxnz7qa/wandb-history.jsonl\n"
     ]
    },
    {
     "name": "stdout",
     "output_type": "stream",
     "text": [
      "\r",
      "Episode 110\tAverage Score: 24.109, score: 36.243"
     ]
    },
    {
     "name": "stderr",
     "output_type": "stream",
     "text": [
      "INFO:wandb.run_manager:file/dir modified: /home/workspace/wandb/run-20191123_174521-irxnz7qa/wandb-metadata.json\n"
     ]
    },
    {
     "name": "stdout",
     "output_type": "stream",
     "text": [
      "\r",
      "Episode 111\tAverage Score: 24.465, score: 36.441"
     ]
    },
    {
     "name": "stderr",
     "output_type": "stream",
     "text": [
      "INFO:wandb.run_manager:file/dir modified: /home/workspace/wandb/run-20191123_174521-irxnz7qa/wandb-summary.json\n",
      "INFO:wandb.run_manager:file/dir modified: /home/workspace/wandb/run-20191123_174521-irxnz7qa/wandb-history.jsonl\n",
      "INFO:wandb.run_manager:file/dir modified: /home/workspace/wandb/run-20191123_174521-irxnz7qa/wandb-metadata.json\n",
      "INFO:wandb.run_manager:file/dir modified: /home/workspace/wandb/run-20191123_174521-irxnz7qa/wandb-events.jsonl\n"
     ]
    },
    {
     "name": "stdout",
     "output_type": "stream",
     "text": [
      "\r",
      "Episode 112\tAverage Score: 24.819, score: 36.502"
     ]
    },
    {
     "name": "stderr",
     "output_type": "stream",
     "text": [
      "INFO:wandb.run_manager:file/dir modified: /home/workspace/wandb/run-20191123_174521-irxnz7qa/wandb-summary.json\n",
      "INFO:wandb.run_manager:file/dir modified: /home/workspace/wandb/run-20191123_174521-irxnz7qa/wandb-history.jsonl\n",
      "INFO:wandb.run_manager:file/dir modified: /home/workspace/wandb/run-20191123_174521-irxnz7qa/wandb-metadata.json\n"
     ]
    },
    {
     "name": "stdout",
     "output_type": "stream",
     "text": [
      "\r",
      "Episode 113\tAverage Score: 25.182, score: 37.106"
     ]
    },
    {
     "name": "stderr",
     "output_type": "stream",
     "text": [
      "INFO:wandb.run_manager:file/dir modified: /home/workspace/wandb/run-20191123_174521-irxnz7qa/wandb-summary.json\n",
      "INFO:wandb.run_manager:file/dir modified: /home/workspace/wandb/run-20191123_174521-irxnz7qa/wandb-history.jsonl\n",
      "INFO:wandb.run_manager:file/dir modified: /home/workspace/wandb/run-20191123_174521-irxnz7qa/wandb-metadata.json\n",
      "INFO:wandb.run_manager:file/dir modified: /home/workspace/wandb/run-20191123_174521-irxnz7qa/wandb-events.jsonl\n"
     ]
    },
    {
     "name": "stdout",
     "output_type": "stream",
     "text": [
      "\r",
      "Episode 114\tAverage Score: 25.54, score: 37.05"
     ]
    },
    {
     "name": "stderr",
     "output_type": "stream",
     "text": [
      "INFO:wandb.run_manager:file/dir modified: /home/workspace/wandb/run-20191123_174521-irxnz7qa/wandb-summary.json\n",
      "INFO:wandb.run_manager:file/dir modified: /home/workspace/wandb/run-20191123_174521-irxnz7qa/wandb-history.jsonl\n",
      "INFO:wandb.run_manager:file/dir modified: /home/workspace/wandb/run-20191123_174521-irxnz7qa/wandb-metadata.json\n"
     ]
    },
    {
     "name": "stdout",
     "output_type": "stream",
     "text": [
      "\r",
      "Episode 115\tAverage Score: 25.897, score: 37.022"
     ]
    },
    {
     "name": "stderr",
     "output_type": "stream",
     "text": [
      "INFO:wandb.run_manager:file/dir modified: /home/workspace/wandb/run-20191123_174521-irxnz7qa/wandb-summary.json\n",
      "INFO:wandb.run_manager:file/dir modified: /home/workspace/wandb/run-20191123_174521-irxnz7qa/wandb-history.jsonl\n",
      "INFO:wandb.run_manager:file/dir modified: /home/workspace/wandb/run-20191123_174521-irxnz7qa/wandb-events.jsonl\n"
     ]
    },
    {
     "name": "stdout",
     "output_type": "stream",
     "text": [
      "\r",
      "Episode 116\tAverage Score: 26.253, score: 36.925"
     ]
    },
    {
     "name": "stderr",
     "output_type": "stream",
     "text": [
      "INFO:wandb.run_manager:file/dir modified: /home/workspace/wandb/run-20191123_174521-irxnz7qa/wandb-summary.json\n",
      "INFO:wandb.run_manager:file/dir modified: /home/workspace/wandb/run-20191123_174521-irxnz7qa/wandb-history.jsonl\n",
      "INFO:wandb.run_manager:file/dir modified: /home/workspace/wandb/run-20191123_174521-irxnz7qa/wandb-metadata.json\n"
     ]
    },
    {
     "name": "stdout",
     "output_type": "stream",
     "text": [
      "\r",
      "Episode 117\tAverage Score: 26.597, score: 35.849"
     ]
    },
    {
     "name": "stderr",
     "output_type": "stream",
     "text": [
      "INFO:wandb.run_manager:file/dir modified: /home/workspace/wandb/run-20191123_174521-irxnz7qa/wandb-summary.json\n",
      "INFO:wandb.run_manager:file/dir modified: /home/workspace/wandb/run-20191123_174521-irxnz7qa/wandb-history.jsonl\n",
      "INFO:wandb.run_manager:file/dir modified: /home/workspace/wandb/run-20191123_174521-irxnz7qa/wandb-metadata.json\n"
     ]
    },
    {
     "name": "stdout",
     "output_type": "stream",
     "text": [
      "\r",
      "Episode 118\tAverage Score: 26.945, score: 36.02"
     ]
    },
    {
     "name": "stderr",
     "output_type": "stream",
     "text": [
      "INFO:wandb.run_manager:file/dir modified: /home/workspace/wandb/run-20191123_174521-irxnz7qa/wandb-summary.json\n",
      "INFO:wandb.run_manager:file/dir modified: /home/workspace/wandb/run-20191123_174521-irxnz7qa/wandb-history.jsonl\n",
      "INFO:wandb.run_manager:file/dir modified: /home/workspace/wandb/run-20191123_174521-irxnz7qa/wandb-events.jsonl\n",
      "INFO:wandb.run_manager:file/dir modified: /home/workspace/wandb/run-20191123_174521-irxnz7qa/wandb-metadata.json\n"
     ]
    },
    {
     "name": "stdout",
     "output_type": "stream",
     "text": [
      "\r",
      "Episode 119\tAverage Score: 27.295, score: 36.548"
     ]
    },
    {
     "name": "stderr",
     "output_type": "stream",
     "text": [
      "INFO:wandb.run_manager:file/dir modified: /home/workspace/wandb/run-20191123_174521-irxnz7qa/wandb-summary.json\n",
      "INFO:wandb.run_manager:file/dir modified: /home/workspace/wandb/run-20191123_174521-irxnz7qa/wandb-history.jsonl\n",
      "INFO:wandb.run_manager:file/dir modified: /home/workspace/wandb/run-20191123_174521-irxnz7qa/wandb-metadata.json\n"
     ]
    },
    {
     "name": "stdout",
     "output_type": "stream",
     "text": [
      "\r",
      "Episode 120\tAverage Score: 27.651, score: 36.901"
     ]
    },
    {
     "name": "stderr",
     "output_type": "stream",
     "text": [
      "INFO:wandb.run_manager:file/dir modified: /home/workspace/wandb/run-20191123_174521-irxnz7qa/wandb-summary.json\n",
      "INFO:wandb.run_manager:file/dir modified: /home/workspace/wandb/run-20191123_174521-irxnz7qa/wandb-history.jsonl\n",
      "INFO:wandb.run_manager:file/dir modified: /home/workspace/wandb/run-20191123_174521-irxnz7qa/wandb-events.jsonl\n",
      "INFO:wandb.run_manager:file/dir modified: /home/workspace/wandb/run-20191123_174521-irxnz7qa/wandb-metadata.json\n"
     ]
    },
    {
     "name": "stdout",
     "output_type": "stream",
     "text": [
      "\r",
      "Episode 121\tAverage Score: 28.006, score: 36.619"
     ]
    },
    {
     "name": "stderr",
     "output_type": "stream",
     "text": [
      "INFO:wandb.run_manager:file/dir modified: /home/workspace/wandb/run-20191123_174521-irxnz7qa/wandb-summary.json\n",
      "INFO:wandb.run_manager:file/dir modified: /home/workspace/wandb/run-20191123_174521-irxnz7qa/wandb-history.jsonl\n"
     ]
    },
    {
     "name": "stdout",
     "output_type": "stream",
     "text": [
      "\r",
      "Episode 122\tAverage Score: 28.358, score: 36.63"
     ]
    },
    {
     "name": "stderr",
     "output_type": "stream",
     "text": [
      "INFO:wandb.run_manager:file/dir modified: /home/workspace/wandb/run-20191123_174521-irxnz7qa/wandb-summary.json\n",
      "INFO:wandb.run_manager:file/dir modified: /home/workspace/wandb/run-20191123_174521-irxnz7qa/wandb-metadata.json\n",
      "INFO:wandb.run_manager:file/dir modified: /home/workspace/wandb/run-20191123_174521-irxnz7qa/wandb-history.jsonl\n",
      "INFO:wandb.run_manager:file/dir modified: /home/workspace/wandb/run-20191123_174521-irxnz7qa/wandb-events.jsonl\n"
     ]
    },
    {
     "name": "stdout",
     "output_type": "stream",
     "text": [
      "\r",
      "Episode 123\tAverage Score: 28.709, score: 36.554"
     ]
    },
    {
     "name": "stderr",
     "output_type": "stream",
     "text": [
      "INFO:wandb.run_manager:file/dir modified: /home/workspace/wandb/run-20191123_174521-irxnz7qa/wandb-summary.json\n",
      "INFO:wandb.run_manager:file/dir modified: /home/workspace/wandb/run-20191123_174521-irxnz7qa/wandb-history.jsonl\n",
      "INFO:wandb.run_manager:file/dir modified: /home/workspace/wandb/run-20191123_174521-irxnz7qa/wandb-metadata.json\n"
     ]
    },
    {
     "name": "stdout",
     "output_type": "stream",
     "text": [
      "\r",
      "Episode 124\tAverage Score: 29.066, score: 36.729"
     ]
    },
    {
     "name": "stderr",
     "output_type": "stream",
     "text": [
      "INFO:wandb.run_manager:file/dir modified: /home/workspace/wandb/run-20191123_174521-irxnz7qa/wandb-summary.json\n",
      "INFO:wandb.run_manager:file/dir modified: /home/workspace/wandb/run-20191123_174521-irxnz7qa/wandb-history.jsonl\n",
      "INFO:wandb.run_manager:file/dir modified: /home/workspace/wandb/run-20191123_174521-irxnz7qa/wandb-metadata.json\n",
      "INFO:wandb.run_manager:file/dir modified: /home/workspace/wandb/run-20191123_174521-irxnz7qa/wandb-events.jsonl\n"
     ]
    },
    {
     "name": "stdout",
     "output_type": "stream",
     "text": [
      "\r",
      "Episode 125\tAverage Score: 29.424, score: 37.436"
     ]
    },
    {
     "name": "stderr",
     "output_type": "stream",
     "text": [
      "INFO:wandb.run_manager:file/dir modified: /home/workspace/wandb/run-20191123_174521-irxnz7qa/wandb-summary.json\n",
      "INFO:wandb.run_manager:file/dir modified: /home/workspace/wandb/run-20191123_174521-irxnz7qa/wandb-history.jsonl\n",
      "INFO:wandb.run_manager:file/dir modified: /home/workspace/wandb/run-20191123_174521-irxnz7qa/wandb-metadata.json\n"
     ]
    },
    {
     "name": "stdout",
     "output_type": "stream",
     "text": [
      "\r",
      "Episode 126\tAverage Score: 29.779, score: 37.225"
     ]
    },
    {
     "name": "stderr",
     "output_type": "stream",
     "text": [
      "INFO:wandb.run_manager:file/dir modified: /home/workspace/wandb/run-20191123_174521-irxnz7qa/wandb-summary.json\n",
      "INFO:wandb.run_manager:file/dir modified: /home/workspace/wandb/run-20191123_174521-irxnz7qa/wandb-history.jsonl\n",
      "INFO:wandb.run_manager:file/dir modified: /home/workspace/wandb/run-20191123_174521-irxnz7qa/wandb-metadata.json\n"
     ]
    },
    {
     "name": "stdout",
     "output_type": "stream",
     "text": [
      "\r",
      "Episode 127\tAverage Score: 30.131, score: 36.808\r",
      "Episode 127\tAverage Score: 30.131, score: 36.808\n"
     ]
    },
    {
     "name": "stderr",
     "output_type": "stream",
     "text": [
      "INFO:wandb.run_manager:file/dir modified: /home/workspace/wandb/run-20191123_174521-irxnz7qa/wandb-summary.json\n",
      "INFO:wandb.run_manager:file/dir modified: /home/workspace/wandb/run-20191123_174521-irxnz7qa/wandb-history.jsonl\n",
      "INFO:wandb.run_manager:file/dir modified: /home/workspace/wandb/run-20191123_174521-irxnz7qa/wandb-events.jsonl\n",
      "INFO:wandb.run_manager:file/dir modified: /home/workspace/wandb/run-20191123_174521-irxnz7qa/wandb-metadata.json\n"
     ]
    },
    {
     "name": "stdout",
     "output_type": "stream",
     "text": [
      "\r",
      "Episode 128\tAverage Score: 30.48, score: 36.784\r",
      "Episode 128\tAverage Score: 30.48, score: 36.784\n"
     ]
    },
    {
     "name": "stderr",
     "output_type": "stream",
     "text": [
      "INFO:wandb.run_manager:file/dir modified: /home/workspace/wandb/run-20191123_174521-irxnz7qa/wandb-summary.json\n",
      "INFO:wandb.run_manager:file/dir modified: /home/workspace/wandb/run-20191123_174521-irxnz7qa/wandb-history.jsonl\n"
     ]
    },
    {
     "name": "stdout",
     "output_type": "stream",
     "text": [
      "\r",
      "Episode 129\tAverage Score: 30.825, score: 36.34\r",
      "Episode 129\tAverage Score: 30.825, score: 36.34\n"
     ]
    },
    {
     "name": "stderr",
     "output_type": "stream",
     "text": [
      "INFO:wandb.run_manager:file/dir modified: /home/workspace/wandb/run-20191123_174521-irxnz7qa/wandb-summary.json\n",
      "INFO:wandb.run_manager:file/dir modified: /home/workspace/wandb/run-20191123_174521-irxnz7qa/wandb-history.jsonl\n",
      "INFO:wandb.run_manager:file/dir modified: /home/workspace/wandb/run-20191123_174521-irxnz7qa/wandb-metadata.json\n",
      "INFO:wandb.run_manager:file/dir modified: /home/workspace/wandb/run-20191123_174521-irxnz7qa/wandb-events.jsonl\n",
      "INFO:wandb.run_manager:shutting down system stats and metadata service\n"
     ]
    },
    {
     "name": "stdout",
     "output_type": "stream",
     "text": [
      "\r",
      "Episode 130\tAverage Score: 31.163, score: 35.976\r",
      "Episode 130\tAverage Score: 31.163, score: 35.976\n",
      "\r\n",
      "Environment is solved Episode 130\tAverage Score: 31.163, score: 35.976\n"
     ]
    },
    {
     "name": "stderr",
     "output_type": "stream",
     "text": [
      "INFO:wandb.run_manager:file/dir modified: /home/workspace/wandb/run-20191123_174521-irxnz7qa/wandb-summary.json\n",
      "INFO:wandb.run_manager:file/dir modified: /home/workspace/wandb/run-20191123_174521-irxnz7qa/wandb-history.jsonl\n",
      "INFO:wandb.run_manager:file/dir modified: /home/workspace/wandb/run-20191123_174521-irxnz7qa/wandb-events.jsonl\n",
      "INFO:wandb.run_manager:stopping streaming files and file change observer\n",
      "INFO:wandb.run_manager:file/dir modified: /home/workspace/wandb/run-20191123_174521-irxnz7qa/wandb-metadata.json\n"
     ]
    }
   ],
   "source": [
    "def run_ddpg(n_episodes = 250, max_t=1000, print_every=100, save_every=100, checkpoint_name=f'checkpoint_{get_time()}'):\n",
    "    \n",
    "    scores_deque = deque(maxlen=print_every)\n",
    "    scores = []\n",
    "    \n",
    "    # for each episode\n",
    "    for i_episode in range(1, n_episodes+1):\n",
    "        \n",
    "        # start a new episode\n",
    "        environment_info = env.reset(train_mode=True)[brain_name]\n",
    "        states = environment_info.vector_observations\n",
    "        agent.reset()\n",
    "        score = np.zeros(num_agents)\n",
    "        \n",
    "        # for max t steps in the episde\n",
    "        for t in range(max_t):\n",
    "            \n",
    "            # get the actions from the agent, given a state\n",
    "            actions = agent.action(states)\n",
    "    \n",
    "            \n",
    "            # perform the action & receive the next state, reward and done\n",
    "            env_info = env.step(actions)[brain_name]           \n",
    "            next_states = env_info.vector_observations\n",
    "            rewards = env_info.rewards\n",
    "            dones = env_info.local_done\n",
    " \n",
    "            # learn if the critereia are met\n",
    "            agent.step(t, states, actions, rewards, next_states, dones)\n",
    "            \n",
    "            # prepare next state + save results\n",
    "            states = next_states      \n",
    "            score += rewards\n",
    "            \n",
    "            # if any of the agents is done, we stop :) \n",
    "            if np.any(dones):\n",
    "                break\n",
    "                \n",
    "        # store the scores | Log\n",
    "        mean_score = np.mean(score)\n",
    "        \n",
    "        # add to the queue\n",
    "        scores_deque.append(mean_score)\n",
    "        scores.append(mean_score)\n",
    "        \n",
    "        # show logs\n",
    "        avg_score = np.mean(scores_deque)\n",
    "        wandb.log({\"Average Score\": avg_score, \"Mean Score\": mean_score})\n",
    "        \n",
    "        print(f'\\rEpisode {i_episode}\\tAverage Score: {np.around(avg_score,3)}, score: {np.around(mean_score,3)}', end=\"\")\n",
    "        \n",
    "        \n",
    "   \n",
    "        if i_episode % save_every == 0:\n",
    "            agent.save_agent(f'{checkpoint_name}_{i_episode}')\n",
    "        \n",
    "\n",
    "        if i_episode % print_every == 0 or avg_score >= 30:\n",
    "            print(f'\\rEpisode {i_episode}\\tAverage Score: {np.around(avg_score,3)}, score: {np.around(mean_score,3)}')\n",
    "        \n",
    "        if avg_score >= 31.0:\n",
    "            print(f'\\r\\nEnvironment is solved Episode {i_episode}\\tAverage Score: {np.around(avg_score,3)}, score: {np.around(mean_score,3)}')\n",
    "            agent.save_agent(f'{checkpoint_name}_{i_episode}')\n",
    "            break\n",
    "            \n",
    "    return scores\n",
    "\n",
    "scores = run_ddpg()"
   ]
  },
  {
   "cell_type": "markdown",
   "metadata": {},
   "source": [
    "### Plot result"
   ]
  },
  {
   "cell_type": "code",
   "execution_count": 11,
   "metadata": {},
   "outputs": [
    {
     "data": {
      "text/plain": [
       "Text(0.5,0,'Episode #')"
      ]
     },
     "execution_count": 11,
     "metadata": {},
     "output_type": "execute_result"
    },
    {
     "data": {
      "image/png": "[encoded data removed]",
      "text/plain": [
       "<matplotlib.figure.Figure at 0x7ff880ec6f28>"
      ]
     },
     "metadata": {
      "needs_background": "light"
     },
     "output_type": "display_data"
    }
   ],
   "source": [
    "fig = plt.figure(figsize=(20,16))\n",
    "ax = fig.add_subplot(111)\n",
    "plt.plot(np.arange(1, len(scores)+1), scores)\n",
    "plt.ylabel('Scores')\n",
    "plt.xlabel('Episode #')"
   ]
  },
  {
   "cell_type": "markdown",
   "metadata": {},
   "source": [
    "# Overal Result\n",
    "I managed to get an average score of +30 between the 36 and 60 steps (Depending on the configuration). This by using the Deep Deterministic Policy Gradient Learning implementation.\n",
    "\n",
    "\n",
    "All the models, hyper-parameters and logs are visible via: [Weights and Biases](https://app.wandb.ai/verbeemen/udacity_deep-reinforcement-learning_project-2?workspace=user-verbeemen).   \n"
   ]
  },
  {
   "cell_type": "markdown",
   "metadata": {},
   "source": [
    "### Hyper parameters of the different agents\n",
    "<table style=\"width:2000px\" class=\"tableizer-table\">\n",
    "<thead><tr class=\"tableizer-firstrow\"><th style=\"width:120px\"  >Agents</th><th>runtime</th><th>_step</th><th>Average Score</th><th>Mean Score</th><th>ACTION_SIZE</th><th>BATCH_SIZE</th><th>TAU</th><th>BUFFER_SIZE</th><th>GAMMA</th><th>LEARN_INTERVAL</th><th>LEARN_NUM</th><th>LR_ACTOR</th><th>LR_CRITIC</th><th>NUM_AGENTS</th><th>STATE_SIZE</th><th>actor_local</th><th>actor_target</th><th>actor_optimizer</th><th>critic_local</th><th>critic_target</th><th>critic_optimizer</th></tr></thead><tbody>\n",
    " <tr><td>ruby-gorge-17</td><td>29m 26s</td><td>129</td><td>31.163</td><td>35.976</td><td>4</td><td>512</td><td>0.0015</td><td>100000</td><td>0.99</td><td>6</td><td>1</td><td>0.001</td><td>0.001</td><td>20</td><td>33</td><td>33-400-300-4</td><td>33-400-300-4</td><td>Adam ( Parameter Group 0 amsgrad: False betas: (0.9, 0.999) eps: 1e-08 lr: 0.001 weight_decay: 0 )</td><td>33-400(+4)-300-4</td><td>33-400(+4)-300-4</td><td>Adam ( Parameter Group 0 amsgrad: False betas: (0.9, 0.999) eps: 1e-08 lr: 0.001 weight_decay: 0 )</td></tr>\n",
    " <tr><td>faithful-elevator-16</td><td>25m 18s</td><td>85</td><td>22.853</td><td>37.115</td><td>4</td><td>512</td><td>0.0015</td><td>100000</td><td>0.99</td><td>6</td><td>2</td><td>0.001</td><td>0.001</td><td>20</td><td>33</td><td>33-400-300-4</td><td>33-400-300-4</td><td>Adam ( Parameter Group 0 amsgrad: False betas: (0.9, 0.999) eps: 1e-08 lr: 0.001 weight_decay: 0 )</td><td>33-400(+4)-300-4</td><td>33-400(+4)-300-4</td><td>Adam ( Parameter Group 0 amsgrad: False betas: (0.9, 0.999) eps: 1e-08 lr: 0.001 weight_decay: 0 )</td></tr>\n",
    " <tr><td>splendid-moon-15</td><td>9m 36s</td><td>32</td><td>0.01198</td><td>0.0035</td><td>4</td><td>512</td><td>0.002</td><td>100000</td><td>0.99</td><td>6</td><td>2</td><td>0.001</td><td>0.001</td><td>20</td><td>33</td><td>33-512-128-4</td><td>33-512-128-4</td><td>Adam ( Parameter Group 0 amsgrad: False betas: (0.9, 0.999) eps: 1e-08 lr: 0.001 weight_decay: 0 )</td><td>33-512(+4)-128-4</td><td>33-512(+4)-128-4</td><td>Adam ( Parameter Group 0 amsgrad: False betas: (0.9, 0.999) eps: 1e-08 lr: 0.001 weight_decay: 0 )</td></tr>\n",
    " <tr><td>breezy-fire-14</td><td>16m 39s</td><td>61</td><td>0.7036</td><td>1.954</td><td>4</td><td>512</td><td>0.001</td><td>100000</td><td>0.99</td><td>4</td><td>1</td><td>0.001</td><td>0.001</td><td>20</td><td>33</td><td>33-384-256-4</td><td>33-384-256-4</td><td>Adam ( Parameter Group 0 amsgrad: False betas: (0.9, 0.999) eps: 1e-08 lr: 0.001 weight_decay: 0 )</td><td>33-384(+4)-256-4</td><td>33-384(+4)-256-4</td><td>Adam ( Parameter Group 0 amsgrad: False betas: (0.9, 0.999) eps: 1e-08 lr: 0.001 weight_decay: 0 )</td></tr>\n",
    " <tr><td>magic-elevator-13</td><td>12m 53s</td><td>56</td><td>0.01293</td><td>0.0065</td><td>4</td><td>512</td><td>0.0015</td><td>100000</td><td>0.99</td><td>8</td><td>1</td><td>0.001</td><td>0.001</td><td>20</td><td>33</td><td>33-512-256-4</td><td>33-512-256-4</td><td>Adam ( Parameter Group 0 amsgrad: False betas: (0.9, 0.999) eps: 1e-08 lr: 0.001 weight_decay: 0 )</td><td>33-512(+4)-256-4</td><td>33-512(+4)-256-4</td><td>Adam ( Parameter Group 0 amsgrad: False betas: (0.9, 0.999) eps: 1e-08 lr: 0.001 weight_decay: 0 )</td></tr>\n",
    " <tr><td>volcanic-hill-12</td><td>27m 11s</td><td>102</td><td>19.732</td><td>37.626</td><td>4</td><td>512</td><td>0.001</td><td>100000</td><td>0.99</td><td>4</td><td>1</td><td>0.001</td><td>0.001</td><td>20</td><td>33</td><td>33-512-256-4</td><td>33-512-256-4</td><td>Adam ( Parameter Group 0 amsgrad: False betas: (0.9, 0.999) eps: 1e-08 lr: 0.001 weight_decay: 0 )</td><td>33-512(+4)-256-4</td><td>33-512(+4)-256-4</td><td>Adam ( Parameter Group 0 amsgrad: False betas: (0.9, 0.999) eps: 1e-08 lr: 0.001 weight_decay: 0 )</td></tr>\n",
    " <tr><td>worthy-violet-8</td><td>36m 39s</td><td>141</td><td>31.319</td><td>36.566</td><td>4</td><td>512</td><td>0.0025</td><td>100000</td><td>0.99</td><td>4</td><td>1</td><td>0.001</td><td>0.001</td><td>20</td><td>33</td><td>33-512-256-4</td><td>33-512-256-4</td><td>Adam ( Parameter Group 0 amsgrad: False betas: (0.9, 0.999) eps: 1e-08 lr: 0.001 weight_decay: 0 )</td><td>33-512(+4)-256-4</td><td>33-512(+4)-256-4</td><td>Adam ( Parameter Group 0 amsgrad: False betas: (0.9, 0.999) eps: 1e-08 lr: 0.001 weight_decay: 0 )</td></tr>\n",
    " <tr><td>kind-sound-7</td><td>11m 5s</td><td>45</td><td>5.749</td><td>20.812</td><td>4</td><td>512</td><td>0.002</td><td>100000</td><td>0.99</td><td>6</td><td>1</td><td>0.001</td><td>0.001</td><td>20</td><td>33</td><td>33-400-300-4</td><td>33-400-300-4</td><td>Adam ( Parameter Group 0 amsgrad: False betas: (0.9, 0.999) eps: 1e-08 lr: 0.001 weight_decay: 0 )</td><td>33-400(+4)-300-4</td><td>33-400(+4)-300-4</td><td>Adam ( Parameter Group 0 amsgrad: False betas: (0.9, 0.999) eps: 1e-08 lr: 0.001 weight_decay: 0 )</td></tr>\n",
    " <tr><td>bright-brook-6</td><td>2m 9s</td><td>8</td><td>0.757</td><td>0.499</td><td>4</td><td>512</td><td>0.002</td><td>100000</td><td>0.99</td><td>6</td><td>1</td><td>0.001</td><td>0.001</td><td>20</td><td>33</td><td>33-400-300-4</td><td>33-400-300-4</td><td>Adam ( Parameter Group 0 amsgrad: False betas: (0.9, 0.999) eps: 1e-08 lr: 0.001 weight_decay: 0 )</td><td>33-400(+4)-300-4</td><td>33-400(+4)-300-4</td><td>Adam ( Parameter Group 0 amsgrad: False betas: (0.9, 0.999) eps: 1e-08 lr: 0.001 weight_decay: 0 )</td></tr>\n",
    " <tr><td>vital-sun-4</td><td>3m 58s</td><td>11</td><td>0.01508</td><td>0.018</td><td>4</td><td>512</td><td>0.001</td><td>100000</td><td>0.99</td><td>6</td><td>2</td><td>0.001</td><td>0.001</td><td>20</td><td>33</td><td>33-512-256-4</td><td>33-512-256-4</td><td>Adam ( Parameter Group 0 amsgrad: False betas: (0.9, 0.999) eps: 1e-08 lr: 0.001 weight_decay: 0 )</td><td>33-512(+4)-256-4</td><td>33-512(+4)-256-4</td><td>Adam ( Parameter Group 0 amsgrad: False betas: (0.9, 0.999) eps: 1e-08 lr: 0.001 weight_decay: 0 )</td></tr>\n",
    "</tbody></table>"
   ]
  },
  {
   "cell_type": "markdown",
   "metadata": {},
   "source": [
    "### Mean score\n",
    "![](images/wandb_chart_24-11-2019_15_19_05.png)\n",
    "\n",
    "### Average score\n",
    "![](images/WandB_Chart_24-11-2019_16_23_01.png)\n",
    "\n",
    "\n",
    "\n",
    "# Evaluation\n",
    "The hyperparameters are very fragile (see the weights and biases report),  \n",
    "changing them a tiny bit can already immediately make a big difference.  \n",
    "   \n",
    "E.g. agent: breezy-fire-14 contains 2 hidden layers with size: 384 - 256  - does not lean  \n",
    "     agent: volcanic-hill-12 contains 2 hidden layers with size 512 - 256  - does learn well  \n",
    "    \n",
    "\n",
    "# Future work\n",
    " - Optimize the hyperparameters: E.g. Bayesian optimization.\n",
    " - Optimize the network architectures: Both networks are quite shallow at this moment.\n",
    " - Try to implement other algorithms as wel, to see if they perform better or not\n",
    "  - D4PG (might before better then DDPG)\n",
    "  - A3C\n",
    "  - PPO"
   ]
  },
  {
   "cell_type": "code",
   "execution_count": null,
   "metadata": {},
   "outputs": [],
   "source": []
  }
 ],
 "metadata": {
  "kernelspec": {
   "display_name": "Python 3",
   "language": "python",
   "name": "python3"
  },
  "language_info": {
   "codemirror_mode": {
    "name": "ipython",
    "version": 3
   },
   "file_extension": ".py",
   "mimetype": "text/x-python",
   "name": "python",
   "nbconvert_exporter": "python",
   "pygments_lexer": "ipython3",
   "version": "3.6.3"
  }
 },
 "nbformat": 4,
 "nbformat_minor": 2
}
